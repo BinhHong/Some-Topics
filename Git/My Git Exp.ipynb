{
 "cells": [
  {
   "cell_type": "markdown",
   "id": "918bc208",
   "metadata": {},
   "source": [
    "# 0. Set our global username/email configuration"
   ]
  },
  {
   "cell_type": "markdown",
   "id": "2dff2e31",
   "metadata": {},
   "source": [
    "- ###### set username by `git config --global user.name \"FIRST_NAME LAST_NAME\"`"
   ]
  },
  {
   "cell_type": "markdown",
   "id": "4fb3b785",
   "metadata": {},
   "source": [
    "- ###### set email address by `git config --global user.email \"MY_NAME@example.com\"`"
   ]
  },
  {
   "cell_type": "markdown",
   "id": "457c38f2",
   "metadata": {},
   "source": [
    "# 1. Folder"
   ]
  },
  {
   "cell_type": "markdown",
   "id": "1ab38499",
   "metadata": {},
   "source": [
    "## a. Change dir to a location"
   ]
  },
  {
   "cell_type": "markdown",
   "id": "611ff901",
   "metadata": {},
   "source": [
    "- ###### Symbol ~ is the default dir (maybe from installation process). Should check with `pwd` for sure"
   ]
  },
  {
   "cell_type": "markdown",
   "id": "91415d48",
   "metadata": {},
   "source": [
    "- ###### Right click inside that folder, choose 'open with bash' or use 'cd' command"
   ]
  },
  {
   "cell_type": "markdown",
   "id": "ef2fe88d",
   "metadata": {},
   "source": [
    "- ###### If we want to go deeper each step, using `cd A/` or `cd A`"
   ]
  },
  {
   "cell_type": "markdown",
   "id": "805a52be",
   "metadata": {},
   "source": [
    "- ###### Back to previous folder: cd .."
   ]
  },
  {
   "cell_type": "markdown",
   "id": "13d8bf16",
   "metadata": {},
   "source": [
    "- ###### Print working directory: pwd"
   ]
  },
  {
   "cell_type": "markdown",
   "id": "d9187018",
   "metadata": {},
   "source": [
    "## b. List all files or folders"
   ]
  },
  {
   "cell_type": "markdown",
   "id": "819f3bf8",
   "metadata": {},
   "source": [
    "- ###### `ls` lists all files"
   ]
  },
  {
   "cell_type": "markdown",
   "id": "53d946f0",
   "metadata": {},
   "source": [
    "- ###### `ls -a` lists all files and folders, including hidden ones"
   ]
  },
  {
   "cell_type": "markdown",
   "id": "2f16d67f",
   "metadata": {},
   "source": [
    "## c. Create and delete folders"
   ]
  },
  {
   "cell_type": "markdown",
   "id": "defdb825",
   "metadata": {},
   "source": [
    "- ###### create by `mkdir nameoffolder`"
   ]
  },
  {
   "cell_type": "markdown",
   "id": "67f3d455",
   "metadata": {},
   "source": [
    "- ###### delete by `rm -r nameoffolder`"
   ]
  },
  {
   "cell_type": "markdown",
   "id": "942f3295",
   "metadata": {},
   "source": [
    "## d. Local Git repository"
   ]
  },
  {
   "cell_type": "markdown",
   "id": "fd0ee048",
   "metadata": {},
   "source": [
    "- ###### run `git init` if we want current folder is Git repo. Inside it there is a hidden folder named `.git` and it has `master`symbol in Git Bash."
   ]
  },
  {
   "cell_type": "markdown",
   "id": "84f19eac",
   "metadata": {},
   "source": [
    "- ###### or, run `git init nameoffolder` to make a new folder A inside current folder and A is a Git repo. Inside A there is a hidden folder name `.git`"
   ]
  },
  {
   "cell_type": "markdown",
   "id": "c28cc770",
   "metadata": {},
   "source": [
    "- ###### to connect to Repo on github, use `git remote add origin url` where `url` is the url of Repo on github"
   ]
  },
  {
   "cell_type": "markdown",
   "id": "0664c493",
   "metadata": {},
   "source": [
    "## e. Files"
   ]
  },
  {
   "cell_type": "markdown",
   "id": "91b8a8d4",
   "metadata": {},
   "source": [
    "- ###### Change name, use `mv oldname newname`"
   ]
  },
  {
   "cell_type": "markdown",
   "id": "ab86931e",
   "metadata": {},
   "source": [
    "- ###### deleting a file on github `git rm filename`"
   ]
  },
  {
   "cell_type": "markdown",
   "id": "8d729ca8",
   "metadata": {},
   "source": [
    "## Question: Command `git rm` to remove on github, `rm -r` to remove locally?"
   ]
  },
  {
   "cell_type": "markdown",
   "id": "cba47c8e",
   "metadata": {},
   "source": [
    "- ###### after deleting, remember to commit `git commit -m 'somewords'` to remind github i'm gonna delete it"
   ]
  },
  {
   "cell_type": "markdown",
   "id": "a64e96e6",
   "metadata": {},
   "source": [
    "- ###### then use `git push origin master` to officially delete the file on github"
   ]
  },
  {
   "cell_type": "markdown",
   "id": "e59a5441",
   "metadata": {},
   "source": [
    "## Question: There are 2 ways to remove file on github. Using bash to do like above or, delete manually on github then pull?"
   ]
  },
  {
   "cell_type": "markdown",
   "id": "3503526a",
   "metadata": {},
   "source": [
    "# 2. Bring files/folders to Repo"
   ]
  },
  {
   "cell_type": "markdown",
   "id": "3d6ded13",
   "metadata": {},
   "source": [
    "## a. Add (stage)"
   ]
  },
  {
   "cell_type": "markdown",
   "id": "d6c4428b",
   "metadata": {},
   "source": [
    "- ###### add files or folders by `git add name`"
   ]
  },
  {
   "cell_type": "markdown",
   "id": "c111c2d8",
   "metadata": {},
   "source": [
    "- ###### add whole local folder by `git add .`"
   ]
  },
  {
   "cell_type": "markdown",
   "id": "188f7c44",
   "metadata": {},
   "source": [
    "- ###### if we want to remove something (unstage), use `git rm -r --cached [file-name]`"
   ]
  },
  {
   "cell_type": "markdown",
   "id": "85ecb408",
   "metadata": {},
   "source": [
    "### Question: why we have to use `-r`"
   ]
  },
  {
   "cell_type": "markdown",
   "id": "a79e9026",
   "metadata": {},
   "source": [
    "## b. Commit"
   ]
  },
  {
   "cell_type": "markdown",
   "id": "104572f6",
   "metadata": {},
   "source": [
    "- ###### use `git commit -m \"write something\"`"
   ]
  },
  {
   "cell_type": "markdown",
   "id": "4cbca36a",
   "metadata": {},
   "source": [
    "## c. Push all the changes in local to Repo"
   ]
  },
  {
   "cell_type": "markdown",
   "id": "3cd41339",
   "metadata": {},
   "source": [
    "- ###### use `git push origin master`"
   ]
  },
  {
   "cell_type": "markdown",
   "id": "ff8f8ad5",
   "metadata": {},
   "source": [
    "# 3. Pull"
   ]
  },
  {
   "cell_type": "markdown",
   "id": "f63186f8",
   "metadata": {},
   "source": [
    "#### Question 1: how to pull only a file?"
   ]
  },
  {
   "cell_type": "markdown",
   "id": "93380088",
   "metadata": {},
   "source": [
    "#### Q2: why pull, but file ipynb on laptop is not replaced by the ipynb file on github?"
   ]
  },
  {
   "cell_type": "markdown",
   "id": "7fc15e6e",
   "metadata": {},
   "source": [
    "# 4. Some errors, conflicts"
   ]
  },
  {
   "cell_type": "markdown",
   "id": "251e715c",
   "metadata": {},
   "source": [
    "- On branch master. Your branch and 'origin/master' have diverged, and have 2 and 6 different commits each, respectively.   (use \"git pull\" to merge the remote branch into yours). Solution: `git fetch origin` and then `git reset --hard origin/master`"
   ]
  },
  {
   "cell_type": "markdown",
   "id": "5b8fbe20",
   "metadata": {},
   "source": [
    "## Q: what is clone used for?"
   ]
  },
  {
   "cell_type": "code",
   "execution_count": null,
   "id": "94bfdace",
   "metadata": {},
   "outputs": [],
   "source": []
  }
 ],
 "metadata": {
  "kernelspec": {
   "display_name": "Python 3 (ipykernel)",
   "language": "python",
   "name": "python3"
  },
  "language_info": {
   "codemirror_mode": {
    "name": "ipython",
    "version": 3
   },
   "file_extension": ".py",
   "mimetype": "text/x-python",
   "name": "python",
   "nbconvert_exporter": "python",
   "pygments_lexer": "ipython3",
   "version": "3.11.5"
  },
  "toc": {
   "base_numbering": 1,
   "nav_menu": {},
   "number_sections": true,
   "sideBar": true,
   "skip_h1_title": false,
   "title_cell": "Table of Contents",
   "title_sidebar": "Contents",
   "toc_cell": false,
   "toc_position": {},
   "toc_section_display": true,
   "toc_window_display": false
  },
  "varInspector": {
   "cols": {
    "lenName": 16,
    "lenType": 16,
    "lenVar": 40
   },
   "kernels_config": {
    "python": {
     "delete_cmd_postfix": "",
     "delete_cmd_prefix": "del ",
     "library": "var_list.py",
     "varRefreshCmd": "print(var_dic_list())"
    },
    "r": {
     "delete_cmd_postfix": ") ",
     "delete_cmd_prefix": "rm(",
     "library": "var_list.r",
     "varRefreshCmd": "cat(var_dic_list()) "
    }
   },
   "types_to_exclude": [
    "module",
    "function",
    "builtin_function_or_method",
    "instance",
    "_Feature"
   ],
   "window_display": false
  }
 },
 "nbformat": 4,
 "nbformat_minor": 5
}
