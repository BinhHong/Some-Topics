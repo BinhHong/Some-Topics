{
 "cells": [
  {
   "cell_type": "markdown",
   "id": "4a872001",
   "metadata": {},
   "source": [
    "# Terminology"
   ]
  },
  {
   "cell_type": "markdown",
   "id": "400d689a",
   "metadata": {},
   "source": [
    "- branch\n",
    "- main\n",
    "- master\n",
    "- pull or clone\n",
    "- origin"
   ]
  },
  {
   "cell_type": "markdown",
   "id": "918bc208",
   "metadata": {},
   "source": [
    "# Set our global username/email configuration"
   ]
  },
  {
   "cell_type": "markdown",
   "id": "2dff2e31",
   "metadata": {},
   "source": [
    "- ###### set username by `git config --global user.name \"FIRST_NAME LAST_NAME\"`"
   ]
  },
  {
   "cell_type": "markdown",
   "id": "4fb3b785",
   "metadata": {},
   "source": [
    "- ###### set email address by `git config --global user.email \"MY_NAME@example.com\"`"
   ]
  },
  {
   "cell_type": "markdown",
   "id": "03441f4d",
   "metadata": {},
   "source": [
    "# Git repo and local repo\n",
    "- rule 1: we can do whatever we want with a new file or folder locally, until we need to track it. From this moment its changes are recorded and we need to let git know about it.\n",
    "- rule 2: if we delete things locally, to make it removed on github, use **git add** to track. Maybe another way is **git rm** to directly remove on github. "
   ]
  },
  {
   "cell_type": "markdown",
   "id": "8b23350b",
   "metadata": {},
   "source": [
    "## Start:\n",
    "- clone a repo on github by **git clone url**\n",
    "- or create a local folder (maybe with some files inside) and connect:\n",
    "    - create a repo on github\n",
    "    - run `git init` if we want current folder is Git repo. Inside it there is a hidden folder named `.git` and it has `master`symbol in Git Bash.\n",
    "    - or, run `git init nameoffolder` to make a new folder A inside current folder and A is a Git repo. Inside A there is a hidden folder name `.git`\n",
    "    - to connect to Repo on github, use `git remote add origin url` where `url` is the url of Repo on github\n",
    "    - if there is already a file (e.g readme.md) on GIt repo, then see **3.3**\n",
    "        - always check if the name of branch in local and github are the same. If not, use **git branch -m new_name** where new_name is default branch name on github, or conversely, go to settings on github and change default branch name to the name of local branch.\n",
    "        - **git pull origin main --allow-unrelated-histories** to synchronize 2 folders, readme.md will be pulled to local\n",
    "        - **git add**, **commit** and **push** like normal\n",
    "    - check by **git remote -v**, shows any repos connected to local repo (normally **fetch** and **push**)"
   ]
  },
  {
   "cell_type": "markdown",
   "id": "3503526a",
   "metadata": {},
   "source": [
    "## Bring files/folders to Repo\n",
    "- Check status: **git status**\n",
    "- add (stage): \n",
    "    - add files or folders by `git add name`\n",
    "    - add whole local folder by `git add .`\n",
    "    - if we want to remove something (unstage), use `git rm -r --cached [file-name]`\n",
    "- commit: \n",
    "    - use **git commit -m \"what/why\" -m \"description\"**, the latter is optional\n",
    "- push all the changes in local to Repo: use **git push origin master**\n",
    "    - if next time dont want to type **origin master** (create upstream) then **git push -u origin master**"
   ]
  },
  {
   "cell_type": "markdown",
   "id": "5f77fcab",
   "metadata": {},
   "source": [
    "## Changes on github repo and local repo doesnt have it\n",
    "- **git fetch origin** to fetch the changes (Important: fetch first)\n",
    "- merge origin/master to current branch by **git merge origin/master** or **.../main**:\n",
    "    - press **i** (i for insert)\n",
    "    - write merge message\n",
    "    - press esc\n",
    "    - write **:wq** (write & quit)\n",
    "    - then press enter\n",
    "- resolve conflicts\n",
    "- **git commit -m \"Merge changes from remote repository\"**\n",
    "- push back for safety by **git push origin master**"
   ]
  },
  {
   "cell_type": "markdown",
   "id": "bcbc5b8e",
   "metadata": {},
   "source": [
    "## Create a new folder inside local repo, then create a file in it\n",
    "- only **git add local_repo/name_of_file** then commit and push like normal, is enough. A folder local_repo will be automatically created on remote repo."
   ]
  },
  {
   "cell_type": "markdown",
   "id": "dad06976",
   "metadata": {},
   "source": [
    "## The files are already there, now create a new folder then move the files into it\n",
    "\n",
    "### 1st way, drag or cut files manually\n",
    "- **git add local_repo** (add all files inside it, doesnt need to do for all the separated file)\n",
    "- in remote repo still have files outside, so we have to delete it\n",
    "    - **git rm name_of_removed_files**\n",
    "### 2nd way\n",
    "- **mkdir name_of_new_local_folder**\n",
    "- **git mv name_of_file1 name_of_file2 name_of_new_local_folder**\n",
    "- **git add name_of_new_local_folder**\n",
    "- **git commit -m message**\n",
    "\n",
    "with mv: this way we dont have to delete files"
   ]
  },
  {
   "cell_type": "markdown",
   "id": "79419929",
   "metadata": {},
   "source": [
    "## Move a file out of a folder\n",
    "Suppose file path is pwd/A/file_name.\n",
    "\n",
    "- **git mv file_path .**   \n",
    "    - . means that at current level. EX: if filepath is pwd/A/file_name then after this command, file is stored in pwd, at the parallel level to A.\n",
    "    - A is automatically deleted on github.But it still exists locally.\n",
    "- therefore, we need **rm A** or **rm -r A**\n",
    "\n",
    "Note that we can remove locally then push to github by\n",
    "- **mv file_path .** (remote nothing changes)\n",
    "- **rm -r A** (nothing in remote changes)\n",
    "- **git add file_name** (to make changes of file in github)\n",
    "- **git add A** to track of deletion of A\n",
    "    - after that write some commits with messages like normal\n",
    "    - or **git rm -r A**? not so sure like the previous way **git add A**"
   ]
  },
  {
   "cell_type": "markdown",
   "id": "1ab38499",
   "metadata": {},
   "source": [
    "## Change dir to a location"
   ]
  },
  {
   "cell_type": "markdown",
   "id": "611ff901",
   "metadata": {},
   "source": [
    "- ###### Symbol ~ is the default dir (maybe from installation process). Should check with `pwd` for sure"
   ]
  },
  {
   "cell_type": "markdown",
   "id": "91415d48",
   "metadata": {},
   "source": [
    "- ###### Right click inside that folder, choose 'open with bash' or use 'cd' command"
   ]
  },
  {
   "cell_type": "markdown",
   "id": "ef2fe88d",
   "metadata": {},
   "source": [
    "- ###### If we want to go deeper each step, using `cd A/` or `cd A`"
   ]
  },
  {
   "cell_type": "markdown",
   "id": "805a52be",
   "metadata": {},
   "source": [
    "- ###### Back to previous folder: cd .."
   ]
  },
  {
   "cell_type": "markdown",
   "id": "13d8bf16",
   "metadata": {},
   "source": [
    "- ###### Print working directory: pwd"
   ]
  },
  {
   "cell_type": "markdown",
   "id": "d9187018",
   "metadata": {},
   "source": [
    "## List all files or folders"
   ]
  },
  {
   "cell_type": "markdown",
   "id": "819f3bf8",
   "metadata": {},
   "source": [
    "- ls lists all files\n",
    "- ls -a lists all files and folders, including hidden ones. More preferable: ls -la"
   ]
  },
  {
   "cell_type": "markdown",
   "id": "2f16d67f",
   "metadata": {},
   "source": [
    "## Create and delete folders"
   ]
  },
  {
   "cell_type": "markdown",
   "id": "defdb825",
   "metadata": {},
   "source": [
    "- ###### create by `mkdir nameoffolder`"
   ]
  },
  {
   "cell_type": "markdown",
   "id": "67f3d455",
   "metadata": {},
   "source": [
    "- ###### delete by `rm -r nameoffolder`"
   ]
  },
  {
   "cell_type": "markdown",
   "id": "0664c493",
   "metadata": {},
   "source": [
    "## Files"
   ]
  },
  {
   "cell_type": "markdown",
   "id": "91b8a8d4",
   "metadata": {},
   "source": [
    "- ###### Change name, use `mv oldname newname`"
   ]
  },
  {
   "cell_type": "markdown",
   "id": "ab86931e",
   "metadata": {},
   "source": [
    "- ###### deleting a file on github `git rm filename`"
   ]
  },
  {
   "cell_type": "markdown",
   "id": "8d729ca8",
   "metadata": {},
   "source": [
    "## Question: Command `git rm` to remove on github, `rm -r` to remove locally?"
   ]
  },
  {
   "cell_type": "markdown",
   "id": "cba47c8e",
   "metadata": {},
   "source": [
    "- ###### after deleting, remember to commit `git commit -m 'somewords'` to remind github i'm gonna delete it"
   ]
  },
  {
   "cell_type": "markdown",
   "id": "a64e96e6",
   "metadata": {},
   "source": [
    "- ###### then use `git push origin master` to officially delete the file on github"
   ]
  },
  {
   "cell_type": "markdown",
   "id": "e59a5441",
   "metadata": {},
   "source": [
    "## Question: There are 2 ways to remove file on github. Using bash to do like above or, delete manually on github then pull?"
   ]
  },
  {
   "cell_type": "markdown",
   "id": "85ecb408",
   "metadata": {},
   "source": [
    "### Question: why we have to use `-r`"
   ]
  },
  {
   "cell_type": "markdown",
   "id": "ff8f8ad5",
   "metadata": {},
   "source": [
    "# Pull"
   ]
  },
  {
   "cell_type": "markdown",
   "id": "f63186f8",
   "metadata": {},
   "source": [
    "## Question 1: how to pull only a file?"
   ]
  },
  {
   "cell_type": "markdown",
   "id": "93380088",
   "metadata": {},
   "source": [
    "## Q2: why pull, but file ipynb on laptop is not replaced by the ipynb file on github?"
   ]
  },
  {
   "cell_type": "markdown",
   "id": "7fc15e6e",
   "metadata": {},
   "source": [
    "# Some errors, conflicts"
   ]
  },
  {
   "cell_type": "markdown",
   "id": "251e715c",
   "metadata": {},
   "source": [
    "- On branch master. Your branch and 'origin/master' have diverged, and have 2 and 6 different commits each, respectively.   (use \"git pull\" to merge the remote branch into yours). Solution: `git fetch origin` and then `git reset --hard origin/master`"
   ]
  },
  {
   "cell_type": "markdown",
   "id": "5b8fbe20",
   "metadata": {},
   "source": [
    "## Q: what is clone used for?"
   ]
  },
  {
   "cell_type": "markdown",
   "id": "bc54d667",
   "metadata": {},
   "source": [
    "# Git branching"
   ]
  },
  {
   "cell_type": "markdown",
   "id": "7147a9ed",
   "metadata": {},
   "source": [
    "## Create branch and switch between branches\n",
    "\n",
    "- `git branch` shows all branches and * before the current branch\n",
    "- `git checkout -b name_of_branch` to create a branch and automatically switch to that branch. `b` means branch\n",
    "- note that `git branch name_of_branch` creates a new branch, and `git checkout -b name_of_branch` includes both `git branch` and `git checkout`\n",
    "- `git checkout name_of_branch` to switch to that branch"
   ]
  },
  {
   "cell_type": "markdown",
   "id": "9ac9ae73",
   "metadata": {},
   "source": [
    "## Rename branch\n",
    "\n",
    "- `git branch -m branch_name new_name`, or `git branch -m new_name` if we want to change name of the current branch\n",
    "- `git branch -M branch_name new_name` similarly, but forcefully, even if the new name already exists as a branch."
   ]
  },
  {
   "cell_type": "markdown",
   "id": "d17fa057",
   "metadata": {},
   "source": [
    "## Check differences between branches and merge\n",
    "\n",
    "- suppose we are on branch A, make some changes and then back to `master`. To see the differences, use `git diff A`\n",
    "- to merge there are 2 ways\n",
    "    - `git merge A`, note that we are on branch `master`\n",
    "    - more preferable: checkout to `A`, add, commit and then push to A like normal `git push origin A`. Then on github we see a `compare & pull request` (PR), click on it and then `create pull request`, then `merge pull request`, `confirm merge`. AT this point, we can delete branch by clicking, but we can also do it later as below\n",
    "        - if we checkout to `master`, locally no changes, we have to pull `git pull` (upstream already been set up by -u before, for fast typing)\n",
    "        - delete A by `git branch -d A`\n"
   ]
  },
  {
   "cell_type": "markdown",
   "id": "f45dc653",
   "metadata": {},
   "source": [
    "## Delete branch\n",
    "\n",
    "- `git branch -d A`\n",
    "- to delete branch on github, use `git push origin --delete A`"
   ]
  },
  {
   "cell_type": "markdown",
   "id": "a7f9bff8",
   "metadata": {},
   "source": [
    "# Fragen:\n",
    "- change structure: create a new folder, drag a file into it\n",
    "- git log? q to quit\n",
    "- how to uncommit and unstaged, unstaged = un add?"
   ]
  },
  {
   "cell_type": "code",
   "execution_count": null,
   "id": "abf3fc28",
   "metadata": {},
   "outputs": [],
   "source": []
  }
 ],
 "metadata": {
  "kernelspec": {
   "display_name": "Python 3 (ipykernel)",
   "language": "python",
   "name": "python3"
  },
  "language_info": {
   "codemirror_mode": {
    "name": "ipython",
    "version": 3
   },
   "file_extension": ".py",
   "mimetype": "text/x-python",
   "name": "python",
   "nbconvert_exporter": "python",
   "pygments_lexer": "ipython3",
   "version": "3.11.5"
  },
  "toc": {
   "base_numbering": 1,
   "nav_menu": {},
   "number_sections": true,
   "sideBar": true,
   "skip_h1_title": false,
   "title_cell": "Table of Contents",
   "title_sidebar": "Contents",
   "toc_cell": false,
   "toc_position": {
    "height": "calc(100% - 180px)",
    "left": "10px",
    "top": "150px",
    "width": "239px"
   },
   "toc_section_display": true,
   "toc_window_display": true
  },
  "varInspector": {
   "cols": {
    "lenName": 16,
    "lenType": 16,
    "lenVar": 40
   },
   "kernels_config": {
    "python": {
     "delete_cmd_postfix": "",
     "delete_cmd_prefix": "del ",
     "library": "var_list.py",
     "varRefreshCmd": "print(var_dic_list())"
    },
    "r": {
     "delete_cmd_postfix": ") ",
     "delete_cmd_prefix": "rm(",
     "library": "var_list.r",
     "varRefreshCmd": "cat(var_dic_list()) "
    }
   },
   "types_to_exclude": [
    "module",
    "function",
    "builtin_function_or_method",
    "instance",
    "_Feature"
   ],
   "window_display": false
  }
 },
 "nbformat": 4,
 "nbformat_minor": 5
}
