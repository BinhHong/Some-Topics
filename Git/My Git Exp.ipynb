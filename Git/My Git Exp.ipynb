{
 "cells": [
  {
   "cell_type": "markdown",
   "id": "4a872001",
   "metadata": {},
   "source": [
    "# Terminology"
   ]
  },
  {
   "cell_type": "markdown",
   "id": "400d689a",
   "metadata": {},
   "source": [
    "- branch\n",
    "- main\n",
    "- master\n",
    "- pull or clone\n",
    "- origin"
   ]
  },
  {
   "cell_type": "markdown",
   "id": "918bc208",
   "metadata": {},
   "source": [
    "# Set our global username/email configuration"
   ]
  },
  {
   "cell_type": "markdown",
   "id": "2dff2e31",
   "metadata": {},
   "source": [
    "- ###### set username by `git config --global user.name \"FIRST_NAME LAST_NAME\"`"
   ]
  },
  {
   "cell_type": "markdown",
   "id": "4fb3b785",
   "metadata": {},
   "source": [
    "- ###### set email address by `git config --global user.email \"MY_NAME@example.com\"`"
   ]
  },
  {
   "cell_type": "markdown",
   "id": "03441f4d",
   "metadata": {},
   "source": [
    "# Git repo and local repo"
   ]
  },
  {
   "cell_type": "markdown",
   "id": "8b23350b",
   "metadata": {},
   "source": [
    "## Start:\n",
    "- clone a repo on github by **git clone url**\n",
    "- or create a local folder and connect:\n",
    "    - run `git init` if we want current folder is Git repo. Inside it there is a hidden folder named `.git` and it has `master`symbol in Git Bash.\n",
    "    - or, run `git init nameoffolder` to make a new folder A inside current folder and A is a Git repo. Inside A there is a hidden folder name `.git`\n",
    "    - to connect to Repo on github, use `git remote add origin url` where `url` is the url of Repo on github\n",
    "    - check by **git remote -v**, shows any repos connected to local repo (normally **fetch** and **push**)"
   ]
  },
  {
   "cell_type": "markdown",
   "id": "3503526a",
   "metadata": {},
   "source": [
    "## Bring files/folders to Repo\n",
    "- Check status: **git status**\n",
    "- add (stage): \n",
    "    - add files or folders by `git add name`\n",
    "    - add whole local folder by `git add .`\n",
    "    - if we want to remove something (unstage), use `git rm -r --cached [file-name]`\n",
    "- commit: \n",
    "    - use **git commit -m \"what/why\" -m \"description\"**, the latter is optional\n",
    "- push all the changes in local to Repo: use **git push origin master**\n",
    "    - if next time dont want to type **origin master** (create upstream) then **git push -u origin master**"
   ]
  },
  {
   "cell_type": "markdown",
   "id": "5f77fcab",
   "metadata": {},
   "source": [
    "## Changes on github repo and local repo doesnt have it\n",
    "- **git fetch origin** to fetch the changes (Important: fetch first)\n",
    "- merge origin with master/main by **git merge origin/master** or **.../main**:\n",
    "    - press **i** (i for insert)\n",
    "    - write merge message\n",
    "    - press esc\n",
    "    - write **:wq** (write & quit)\n",
    "    - then press enter\n",
    "- resolve conflicts\n",
    "- **git commit -m \"Merge changes from remote repository\"**\n",
    "- push back for safety by **git push origin master**"
   ]
  },
  {
   "cell_type": "markdown",
   "id": "bcbc5b8e",
   "metadata": {},
   "source": [
    "## Create a new folder inside local repo, then create a file in it\n",
    "- only **git add local_repo/name_of_file** then commit and push like normal, is enough. A folder local_repo will be automatically created on remote repo."
   ]
  },
  {
   "cell_type": "markdown",
   "id": "1ab38499",
   "metadata": {},
   "source": [
    "## Change dir to a location"
   ]
  },
  {
   "cell_type": "markdown",
   "id": "611ff901",
   "metadata": {},
   "source": [
    "- ###### Symbol ~ is the default dir (maybe from installation process). Should check with `pwd` for sure"
   ]
  },
  {
   "cell_type": "markdown",
   "id": "91415d48",
   "metadata": {},
   "source": [
    "- ###### Right click inside that folder, choose 'open with bash' or use 'cd' command"
   ]
  },
  {
   "cell_type": "markdown",
   "id": "ef2fe88d",
   "metadata": {},
   "source": [
    "- ###### If we want to go deeper each step, using `cd A/` or `cd A`"
   ]
  },
  {
   "cell_type": "markdown",
   "id": "805a52be",
   "metadata": {},
   "source": [
    "- ###### Back to previous folder: cd .."
   ]
  },
  {
   "cell_type": "markdown",
   "id": "13d8bf16",
   "metadata": {},
   "source": [
    "- ###### Print working directory: pwd"
   ]
  },
  {
   "cell_type": "markdown",
   "id": "d9187018",
   "metadata": {},
   "source": [
    "## List all files or folders"
   ]
  },
  {
   "cell_type": "markdown",
   "id": "819f3bf8",
   "metadata": {},
   "source": [
    "- ls lists all files\n",
    "- ls -a lists all files and folders, including hidden ones. More preferable: ls -la"
   ]
  },
  {
   "cell_type": "markdown",
   "id": "2f16d67f",
   "metadata": {},
   "source": [
    "## Create and delete folders"
   ]
  },
  {
   "cell_type": "markdown",
   "id": "defdb825",
   "metadata": {},
   "source": [
    "- ###### create by `mkdir nameoffolder`"
   ]
  },
  {
   "cell_type": "markdown",
   "id": "67f3d455",
   "metadata": {},
   "source": [
    "- ###### delete by `rm -r nameoffolder`"
   ]
  },
  {
   "cell_type": "markdown",
   "id": "0664c493",
   "metadata": {},
   "source": [
    "## Files"
   ]
  },
  {
   "cell_type": "markdown",
   "id": "91b8a8d4",
   "metadata": {},
   "source": [
    "- ###### Change name, use `mv oldname newname`"
   ]
  },
  {
   "cell_type": "markdown",
   "id": "ab86931e",
   "metadata": {},
   "source": [
    "- ###### deleting a file on github `git rm filename`"
   ]
  },
  {
   "cell_type": "markdown",
   "id": "8d729ca8",
   "metadata": {},
   "source": [
    "## Question: Command `git rm` to remove on github, `rm -r` to remove locally?"
   ]
  },
  {
   "cell_type": "markdown",
   "id": "cba47c8e",
   "metadata": {},
   "source": [
    "- ###### after deleting, remember to commit `git commit -m 'somewords'` to remind github i'm gonna delete it"
   ]
  },
  {
   "cell_type": "markdown",
   "id": "a64e96e6",
   "metadata": {},
   "source": [
    "- ###### then use `git push origin master` to officially delete the file on github"
   ]
  },
  {
   "cell_type": "markdown",
   "id": "e59a5441",
   "metadata": {},
   "source": [
    "## Question: There are 2 ways to remove file on github. Using bash to do like above or, delete manually on github then pull?"
   ]
  },
  {
   "cell_type": "markdown",
   "id": "85ecb408",
   "metadata": {},
   "source": [
    "### Question: why we have to use `-r`"
   ]
  },
  {
   "cell_type": "markdown",
   "id": "ff8f8ad5",
   "metadata": {},
   "source": [
    "# Pull"
   ]
  },
  {
   "cell_type": "markdown",
   "id": "f63186f8",
   "metadata": {},
   "source": [
    "## Question 1: how to pull only a file?"
   ]
  },
  {
   "cell_type": "markdown",
   "id": "93380088",
   "metadata": {},
   "source": [
    "## Q2: why pull, but file ipynb on laptop is not replaced by the ipynb file on github?"
   ]
  },
  {
   "cell_type": "markdown",
   "id": "7fc15e6e",
   "metadata": {},
   "source": [
    "# Some errors, conflicts"
   ]
  },
  {
   "cell_type": "markdown",
   "id": "251e715c",
   "metadata": {},
   "source": [
    "- On branch master. Your branch and 'origin/master' have diverged, and have 2 and 6 different commits each, respectively.   (use \"git pull\" to merge the remote branch into yours). Solution: `git fetch origin` and then `git reset --hard origin/master`"
   ]
  },
  {
   "cell_type": "markdown",
   "id": "5b8fbe20",
   "metadata": {},
   "source": [
    "## Q: what is clone used for?"
   ]
  },
  {
   "cell_type": "markdown",
   "id": "bc54d667",
   "metadata": {},
   "source": [
    "# Git branching\n",
    "- **git branch** shows all branches and * before the current branch\n",
    "- **git checkout -b name_of_branch** to create a branch and automatically switch to that branch\n",
    "- **git checkout name_of_branch** to switch to that branch\n",
    "- "
   ]
  },
  {
   "cell_type": "markdown",
   "id": "a7f9bff8",
   "metadata": {},
   "source": [
    "# Fragen:\n",
    "- change structure: create a new folder, drag a file into it"
   ]
  },
  {
   "cell_type": "code",
   "execution_count": null,
   "id": "abf3fc28",
   "metadata": {},
   "outputs": [],
   "source": []
  }
 ],
 "metadata": {
  "kernelspec": {
   "display_name": "Python 3 (ipykernel)",
   "language": "python",
   "name": "python3"
  },
  "language_info": {
   "codemirror_mode": {
    "name": "ipython",
    "version": 3
   },
   "file_extension": ".py",
   "mimetype": "text/x-python",
   "name": "python",
   "nbconvert_exporter": "python",
   "pygments_lexer": "ipython3",
   "version": "3.11.5"
  },
  "toc": {
   "base_numbering": 1,
   "nav_menu": {},
   "number_sections": true,
   "sideBar": true,
   "skip_h1_title": false,
   "title_cell": "Table of Contents",
   "title_sidebar": "Contents",
   "toc_cell": false,
   "toc_position": {},
   "toc_section_display": true,
   "toc_window_display": false
  },
  "varInspector": {
   "cols": {
    "lenName": 16,
    "lenType": 16,
    "lenVar": 40
   },
   "kernels_config": {
    "python": {
     "delete_cmd_postfix": "",
     "delete_cmd_prefix": "del ",
     "library": "var_list.py",
     "varRefreshCmd": "print(var_dic_list())"
    },
    "r": {
     "delete_cmd_postfix": ") ",
     "delete_cmd_prefix": "rm(",
     "library": "var_list.r",
     "varRefreshCmd": "cat(var_dic_list()) "
    }
   },
   "types_to_exclude": [
    "module",
    "function",
    "builtin_function_or_method",
    "instance",
    "_Feature"
   ],
   "window_display": false
  }
 },
 "nbformat": 4,
 "nbformat_minor": 5
}
