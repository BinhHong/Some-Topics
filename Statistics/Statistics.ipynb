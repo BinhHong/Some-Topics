{
 "cells": [
  {
   "cell_type": "markdown",
   "id": "1a5e559b",
   "metadata": {},
   "source": [
    "# EDA"
   ]
  },
  {
   "cell_type": "code",
   "execution_count": 1,
   "id": "26be85b4",
   "metadata": {},
   "outputs": [],
   "source": [
    "import pandas as pd\n",
    "from scipy import stats\n",
    "import numpy as np\n",
    "from statsmodels import robust"
   ]
  },
  {
   "cell_type": "markdown",
   "id": "3a844f7e",
   "metadata": {},
   "source": [
    "## mean, median and trim_mean"
   ]
  },
  {
   "cell_type": "code",
   "execution_count": 2,
   "id": "01cc659d",
   "metadata": {},
   "outputs": [],
   "source": [
    "state = pd.read_csv('state.csv')"
   ]
  },
  {
   "cell_type": "code",
   "execution_count": 3,
   "id": "b2dee36b",
   "metadata": {},
   "outputs": [
    {
     "data": {
      "text/html": [
       "<div>\n",
       "<style scoped>\n",
       "    .dataframe tbody tr th:only-of-type {\n",
       "        vertical-align: middle;\n",
       "    }\n",
       "\n",
       "    .dataframe tbody tr th {\n",
       "        vertical-align: top;\n",
       "    }\n",
       "\n",
       "    .dataframe thead th {\n",
       "        text-align: right;\n",
       "    }\n",
       "</style>\n",
       "<table border=\"1\" class=\"dataframe\">\n",
       "  <thead>\n",
       "    <tr style=\"text-align: right;\">\n",
       "      <th></th>\n",
       "      <th>State</th>\n",
       "      <th>Population</th>\n",
       "      <th>Murder.Rate</th>\n",
       "      <th>Abbreviation</th>\n",
       "    </tr>\n",
       "  </thead>\n",
       "  <tbody>\n",
       "    <tr>\n",
       "      <th>0</th>\n",
       "      <td>Alabama</td>\n",
       "      <td>4779736</td>\n",
       "      <td>5.7</td>\n",
       "      <td>AL</td>\n",
       "    </tr>\n",
       "    <tr>\n",
       "      <th>1</th>\n",
       "      <td>Alaska</td>\n",
       "      <td>710231</td>\n",
       "      <td>5.6</td>\n",
       "      <td>AK</td>\n",
       "    </tr>\n",
       "    <tr>\n",
       "      <th>2</th>\n",
       "      <td>Arizona</td>\n",
       "      <td>6392017</td>\n",
       "      <td>4.7</td>\n",
       "      <td>AZ</td>\n",
       "    </tr>\n",
       "    <tr>\n",
       "      <th>3</th>\n",
       "      <td>Arkansas</td>\n",
       "      <td>2915918</td>\n",
       "      <td>5.6</td>\n",
       "      <td>AR</td>\n",
       "    </tr>\n",
       "    <tr>\n",
       "      <th>4</th>\n",
       "      <td>California</td>\n",
       "      <td>37253956</td>\n",
       "      <td>4.4</td>\n",
       "      <td>CA</td>\n",
       "    </tr>\n",
       "  </tbody>\n",
       "</table>\n",
       "</div>"
      ],
      "text/plain": [
       "        State  Population  Murder.Rate Abbreviation\n",
       "0     Alabama     4779736          5.7           AL\n",
       "1      Alaska      710231          5.6           AK\n",
       "2     Arizona     6392017          4.7           AZ\n",
       "3    Arkansas     2915918          5.6           AR\n",
       "4  California    37253956          4.4           CA"
      ]
     },
     "execution_count": 3,
     "metadata": {},
     "output_type": "execute_result"
    }
   ],
   "source": [
    "state.head()"
   ]
  },
  {
   "cell_type": "code",
   "execution_count": 4,
   "id": "e21c7a7d",
   "metadata": {},
   "outputs": [
    {
     "data": {
      "text/plain": [
       "6162876.3"
      ]
     },
     "execution_count": 4,
     "metadata": {},
     "output_type": "execute_result"
    }
   ],
   "source": [
    "state.loc[:,'Population'].mean()"
   ]
  },
  {
   "cell_type": "code",
   "execution_count": 5,
   "id": "c83e542b",
   "metadata": {},
   "outputs": [
    {
     "data": {
      "text/plain": [
       "4436369.5"
      ]
     },
     "execution_count": 5,
     "metadata": {},
     "output_type": "execute_result"
    }
   ],
   "source": [
    "state.loc[:,'Population'].median()"
   ]
  },
  {
   "cell_type": "code",
   "execution_count": 6,
   "id": "9e5d8143",
   "metadata": {},
   "outputs": [
    {
     "data": {
      "text/plain": [
       "4783697.125"
      ]
     },
     "execution_count": 6,
     "metadata": {},
     "output_type": "execute_result"
    }
   ],
   "source": [
    "stats.trim_mean(state.loc[:,'Population'], proportiontocut=0.1)"
   ]
  },
  {
   "cell_type": "markdown",
   "id": "30cff831",
   "metadata": {},
   "source": [
    "# weighted mean"
   ]
  },
  {
   "cell_type": "code",
   "execution_count": 7,
   "id": "1f499c4e",
   "metadata": {},
   "outputs": [
    {
     "data": {
      "text/plain": [
       "4.445833981123393"
      ]
     },
     "execution_count": 7,
     "metadata": {},
     "output_type": "execute_result"
    }
   ],
   "source": [
    "# murder rate\n",
    "np.average(state['Murder.Rate'], weights=state['Population'])"
   ]
  },
  {
   "cell_type": "code",
   "execution_count": 8,
   "id": "d0aa390d",
   "metadata": {},
   "outputs": [
    {
     "data": {
      "text/plain": [
       "4.446"
      ]
     },
     "execution_count": 8,
     "metadata": {},
     "output_type": "execute_result"
    }
   ],
   "source": [
    "np.round(np.average(state['Murder.Rate'], weights=state['Population']), decimals=3)"
   ]
  },
  {
   "cell_type": "markdown",
   "id": "39181337",
   "metadata": {},
   "source": [
    "## weighted median"
   ]
  },
  {
   "cell_type": "code",
   "execution_count": 9,
   "id": "53ad8f66",
   "metadata": {},
   "outputs": [],
   "source": [
    "import wquantiles"
   ]
  },
  {
   "cell_type": "code",
   "execution_count": 10,
   "id": "fbd268ac",
   "metadata": {},
   "outputs": [
    {
     "data": {
      "text/plain": [
       "4.4"
      ]
     },
     "execution_count": 10,
     "metadata": {},
     "output_type": "execute_result"
    }
   ],
   "source": [
    "wquantiles.median(state['Murder.Rate'], weights=state['Population'])"
   ]
  },
  {
   "cell_type": "code",
   "execution_count": 11,
   "id": "ded77f0d",
   "metadata": {},
   "outputs": [],
   "source": [
    "array = np.array([13,23,54])\n",
    "weight = np.array([10,3,4])"
   ]
  },
  {
   "cell_type": "code",
   "execution_count": 12,
   "id": "6a8f9f36",
   "metadata": {},
   "outputs": [
    {
     "data": {
      "text/plain": [
       "18.384615384615383"
      ]
     },
     "execution_count": 12,
     "metadata": {},
     "output_type": "execute_result"
    }
   ],
   "source": [
    "wquantiles.median(array, weight)"
   ]
  },
  {
   "cell_type": "code",
   "execution_count": 13,
   "id": "bb076b0d",
   "metadata": {},
   "outputs": [
    {
     "data": {
      "text/plain": [
       "18.0"
      ]
     },
     "execution_count": 13,
     "metadata": {},
     "output_type": "execute_result"
    }
   ],
   "source": [
    "(13+23)/2"
   ]
  },
  {
   "cell_type": "code",
   "execution_count": 14,
   "id": "ddc955ca",
   "metadata": {},
   "outputs": [
    {
     "data": {
      "text/plain": [
       "137.6422018348624"
      ]
     },
     "execution_count": 14,
     "metadata": {},
     "output_type": "execute_result"
    }
   ],
   "source": [
    "array = np.array([133,135,137,139,141])\n",
    "weight = np.array([57,62,33,76,78])\n",
    "wquantiles.median(array, weight)"
   ]
  },
  {
   "cell_type": "markdown",
   "id": "874d774c",
   "metadata": {},
   "source": [
    "## std, percentle, IQR, MAD"
   ]
  },
  {
   "cell_type": "code",
   "execution_count": 15,
   "id": "0cc926c4",
   "metadata": {},
   "outputs": [
    {
     "data": {
      "text/html": [
       "<div>\n",
       "<style scoped>\n",
       "    .dataframe tbody tr th:only-of-type {\n",
       "        vertical-align: middle;\n",
       "    }\n",
       "\n",
       "    .dataframe tbody tr th {\n",
       "        vertical-align: top;\n",
       "    }\n",
       "\n",
       "    .dataframe thead th {\n",
       "        text-align: right;\n",
       "    }\n",
       "</style>\n",
       "<table border=\"1\" class=\"dataframe\">\n",
       "  <thead>\n",
       "    <tr style=\"text-align: right;\">\n",
       "      <th></th>\n",
       "      <th>State</th>\n",
       "      <th>Population</th>\n",
       "      <th>Murder.Rate</th>\n",
       "      <th>Abbreviation</th>\n",
       "    </tr>\n",
       "  </thead>\n",
       "  <tbody>\n",
       "    <tr>\n",
       "      <th>0</th>\n",
       "      <td>Alabama</td>\n",
       "      <td>4779736</td>\n",
       "      <td>5.7</td>\n",
       "      <td>AL</td>\n",
       "    </tr>\n",
       "    <tr>\n",
       "      <th>1</th>\n",
       "      <td>Alaska</td>\n",
       "      <td>710231</td>\n",
       "      <td>5.6</td>\n",
       "      <td>AK</td>\n",
       "    </tr>\n",
       "    <tr>\n",
       "      <th>2</th>\n",
       "      <td>Arizona</td>\n",
       "      <td>6392017</td>\n",
       "      <td>4.7</td>\n",
       "      <td>AZ</td>\n",
       "    </tr>\n",
       "    <tr>\n",
       "      <th>3</th>\n",
       "      <td>Arkansas</td>\n",
       "      <td>2915918</td>\n",
       "      <td>5.6</td>\n",
       "      <td>AR</td>\n",
       "    </tr>\n",
       "    <tr>\n",
       "      <th>4</th>\n",
       "      <td>California</td>\n",
       "      <td>37253956</td>\n",
       "      <td>4.4</td>\n",
       "      <td>CA</td>\n",
       "    </tr>\n",
       "  </tbody>\n",
       "</table>\n",
       "</div>"
      ],
      "text/plain": [
       "        State  Population  Murder.Rate Abbreviation\n",
       "0     Alabama     4779736          5.7           AL\n",
       "1      Alaska      710231          5.6           AK\n",
       "2     Arizona     6392017          4.7           AZ\n",
       "3    Arkansas     2915918          5.6           AR\n",
       "4  California    37253956          4.4           CA"
      ]
     },
     "execution_count": 15,
     "metadata": {},
     "output_type": "execute_result"
    }
   ],
   "source": [
    "state.head()"
   ]
  },
  {
   "cell_type": "code",
   "execution_count": null,
   "id": "4ee064a2",
   "metadata": {},
   "outputs": [],
   "source": []
  },
  {
   "cell_type": "code",
   "execution_count": 16,
   "id": "b39c63e1",
   "metadata": {},
   "outputs": [
    {
     "data": {
      "text/plain": [
       "6848235.347401142"
      ]
     },
     "execution_count": 16,
     "metadata": {},
     "output_type": "execute_result"
    }
   ],
   "source": [
    "state['Population'].std()"
   ]
  },
  {
   "cell_type": "code",
   "execution_count": 17,
   "id": "6bb72c0b",
   "metadata": {},
   "outputs": [
    {
     "data": {
      "text/plain": [
       "1833004.25"
      ]
     },
     "execution_count": 17,
     "metadata": {},
     "output_type": "execute_result"
    }
   ],
   "source": [
    "state['Population'].quantile(0.25)"
   ]
  },
  {
   "cell_type": "code",
   "execution_count": 18,
   "id": "d06d56e7",
   "metadata": {},
   "outputs": [
    {
     "data": {
      "text/plain": [
       "4847308.0"
      ]
     },
     "execution_count": 18,
     "metadata": {},
     "output_type": "execute_result"
    }
   ],
   "source": [
    "# IQR Interquartile range\n",
    "state['Population'].quantile(0.75) - state['Population'].quantile(0.25)"
   ]
  },
  {
   "cell_type": "code",
   "execution_count": 19,
   "id": "81aa10ff",
   "metadata": {},
   "outputs": [
    {
     "data": {
      "text/plain": [
       "3849876.1459979336"
      ]
     },
     "execution_count": 19,
     "metadata": {},
     "output_type": "execute_result"
    }
   ],
   "source": [
    "# MAD median absolute deviation from the median\n",
    "robust.scale.mad(state['Population'])"
   ]
  },
  {
   "cell_type": "markdown",
   "id": "46488192",
   "metadata": {},
   "source": [
    "- percentiles: 1,2,3...100\n",
    "- quartiles: 25th, 50th, 75th percentiles\n",
    "- deciles: 10th, 20th... percentiles"
   ]
  },
  {
   "cell_type": "code",
   "execution_count": 20,
   "id": "41f75f5b",
   "metadata": {},
   "outputs": [
    {
     "data": {
      "text/plain": [
       "0.05    1.600\n",
       "0.25    2.425\n",
       "0.50    4.000\n",
       "0.75    5.550\n",
       "0.95    6.510\n",
       "Name: Murder.Rate, dtype: float64"
      ]
     },
     "execution_count": 20,
     "metadata": {},
     "output_type": "execute_result"
    }
   ],
   "source": [
    "# percentiles of murder rate by state\n",
    "state['Murder.Rate'].quantile([0.05, 0.25, 0.5, 0.75, 0.95])"
   ]
  },
  {
   "cell_type": "markdown",
   "id": "796acfe4",
   "metadata": {},
   "source": [
    "## Boxplot"
   ]
  },
  {
   "cell_type": "code",
   "execution_count": 21,
   "id": "78e7c710",
   "metadata": {},
   "outputs": [
    {
     "data": {
      "text/html": [
       "<div>\n",
       "<style scoped>\n",
       "    .dataframe tbody tr th:only-of-type {\n",
       "        vertical-align: middle;\n",
       "    }\n",
       "\n",
       "    .dataframe tbody tr th {\n",
       "        vertical-align: top;\n",
       "    }\n",
       "\n",
       "    .dataframe thead th {\n",
       "        text-align: right;\n",
       "    }\n",
       "</style>\n",
       "<table border=\"1\" class=\"dataframe\">\n",
       "  <thead>\n",
       "    <tr style=\"text-align: right;\">\n",
       "      <th></th>\n",
       "      <th>State</th>\n",
       "      <th>Population</th>\n",
       "      <th>Murder.Rate</th>\n",
       "      <th>Abbreviation</th>\n",
       "    </tr>\n",
       "  </thead>\n",
       "  <tbody>\n",
       "    <tr>\n",
       "      <th>0</th>\n",
       "      <td>Alabama</td>\n",
       "      <td>4779736</td>\n",
       "      <td>5.7</td>\n",
       "      <td>AL</td>\n",
       "    </tr>\n",
       "    <tr>\n",
       "      <th>1</th>\n",
       "      <td>Alaska</td>\n",
       "      <td>710231</td>\n",
       "      <td>5.6</td>\n",
       "      <td>AK</td>\n",
       "    </tr>\n",
       "    <tr>\n",
       "      <th>2</th>\n",
       "      <td>Arizona</td>\n",
       "      <td>6392017</td>\n",
       "      <td>4.7</td>\n",
       "      <td>AZ</td>\n",
       "    </tr>\n",
       "    <tr>\n",
       "      <th>3</th>\n",
       "      <td>Arkansas</td>\n",
       "      <td>2915918</td>\n",
       "      <td>5.6</td>\n",
       "      <td>AR</td>\n",
       "    </tr>\n",
       "    <tr>\n",
       "      <th>4</th>\n",
       "      <td>California</td>\n",
       "      <td>37253956</td>\n",
       "      <td>4.4</td>\n",
       "      <td>CA</td>\n",
       "    </tr>\n",
       "  </tbody>\n",
       "</table>\n",
       "</div>"
      ],
      "text/plain": [
       "        State  Population  Murder.Rate Abbreviation\n",
       "0     Alabama     4779736          5.7           AL\n",
       "1      Alaska      710231          5.6           AK\n",
       "2     Arizona     6392017          4.7           AZ\n",
       "3    Arkansas     2915918          5.6           AR\n",
       "4  California    37253956          4.4           CA"
      ]
     },
     "execution_count": 21,
     "metadata": {},
     "output_type": "execute_result"
    }
   ],
   "source": [
    "state.head()"
   ]
  },
  {
   "cell_type": "code",
   "execution_count": 22,
   "id": "53475edb",
   "metadata": {},
   "outputs": [
    {
     "data": {
      "text/plain": [
       "<Axes: >"
      ]
     },
     "execution_count": 22,
     "metadata": {},
     "output_type": "execute_result"
    },
    {
     "data": {
      "image/png": "[encoded data removed]",
      "text/plain": [
       "<Figure size 640x480 with 1 Axes>"
      ]
     },
     "metadata": {},
     "output_type": "display_data"
    }
   ],
   "source": [
    "(state['Population']/1000000).plot.box()"
   ]
  },
  {
   "cell_type": "code",
   "execution_count": 23,
   "id": "e95ce561",
   "metadata": {},
   "outputs": [
    {
     "data": {
      "text/plain": [
       "Text(0, 0.5, 'Population (millions)')"
      ]
     },
     "execution_count": 23,
     "metadata": {},
     "output_type": "execute_result"
    },
    {
     "data": {
      "image/png": "[encoded data removed]",
      "text/plain": [
       "<Figure size 640x480 with 1 Axes>"
      ]
     },
     "metadata": {},
     "output_type": "display_data"
    }
   ],
   "source": [
    "ax = (state['Population']/1000000).plot.box()\n",
    "ax.set_ylabel('Population (millions)')"
   ]
  },
  {
   "cell_type": "code",
   "execution_count": 24,
   "id": "4ed6d4ef",
   "metadata": {},
   "outputs": [
    {
     "data": {
      "text/plain": [
       "0.25    1.833004\n",
       "0.50    4.436369\n",
       "0.75    6.680312\n",
       "Name: Population, dtype: float64"
      ]
     },
     "execution_count": 24,
     "metadata": {},
     "output_type": "execute_result"
    }
   ],
   "source": [
    "(state['Population']/1000000).quantile([0.25, 0.5, 0.75])"
   ]
  },
  {
   "cell_type": "code",
   "execution_count": 25,
   "id": "c5573173",
   "metadata": {},
   "outputs": [
    {
     "data": {
      "text/html": [
       "<div>\n",
       "<style scoped>\n",
       "    .dataframe tbody tr th:only-of-type {\n",
       "        vertical-align: middle;\n",
       "    }\n",
       "\n",
       "    .dataframe tbody tr th {\n",
       "        vertical-align: top;\n",
       "    }\n",
       "\n",
       "    .dataframe thead th {\n",
       "        text-align: right;\n",
       "    }\n",
       "</style>\n",
       "<table border=\"1\" class=\"dataframe\">\n",
       "  <thead>\n",
       "    <tr style=\"text-align: right;\">\n",
       "      <th></th>\n",
       "      <th>Population</th>\n",
       "      <th>Murder.Rate</th>\n",
       "    </tr>\n",
       "  </thead>\n",
       "  <tbody>\n",
       "    <tr>\n",
       "      <th>count</th>\n",
       "      <td>5.000000e+01</td>\n",
       "      <td>50.000000</td>\n",
       "    </tr>\n",
       "    <tr>\n",
       "      <th>mean</th>\n",
       "      <td>6.162876e+06</td>\n",
       "      <td>4.066000</td>\n",
       "    </tr>\n",
       "    <tr>\n",
       "      <th>std</th>\n",
       "      <td>6.848235e+06</td>\n",
       "      <td>1.915736</td>\n",
       "    </tr>\n",
       "    <tr>\n",
       "      <th>min</th>\n",
       "      <td>5.636260e+05</td>\n",
       "      <td>0.900000</td>\n",
       "    </tr>\n",
       "    <tr>\n",
       "      <th>25%</th>\n",
       "      <td>1.833004e+06</td>\n",
       "      <td>2.425000</td>\n",
       "    </tr>\n",
       "    <tr>\n",
       "      <th>50%</th>\n",
       "      <td>4.436370e+06</td>\n",
       "      <td>4.000000</td>\n",
       "    </tr>\n",
       "    <tr>\n",
       "      <th>75%</th>\n",
       "      <td>6.680312e+06</td>\n",
       "      <td>5.550000</td>\n",
       "    </tr>\n",
       "    <tr>\n",
       "      <th>max</th>\n",
       "      <td>3.725396e+07</td>\n",
       "      <td>10.300000</td>\n",
       "    </tr>\n",
       "  </tbody>\n",
       "</table>\n",
       "</div>"
      ],
      "text/plain": [
       "         Population  Murder.Rate\n",
       "count  5.000000e+01    50.000000\n",
       "mean   6.162876e+06     4.066000\n",
       "std    6.848235e+06     1.915736\n",
       "min    5.636260e+05     0.900000\n",
       "25%    1.833004e+06     2.425000\n",
       "50%    4.436370e+06     4.000000\n",
       "75%    6.680312e+06     5.550000\n",
       "max    3.725396e+07    10.300000"
      ]
     },
     "execution_count": 25,
     "metadata": {},
     "output_type": "execute_result"
    }
   ],
   "source": [
    "state.describe()"
   ]
  },
  {
   "cell_type": "markdown",
   "id": "c8b3774b",
   "metadata": {},
   "source": [
    "- skewness: $$\\frac{\\mu-\\nu}{\\sigma}$$\n",
    "where $\\mu$ is the mean, $\\nu$ is median and $\\sigma$ is std"
   ]
  },
  {
   "cell_type": "markdown",
   "id": "d84ac60c",
   "metadata": {},
   "source": [
    "## Frequency table"
   ]
  },
  {
   "cell_type": "code",
   "execution_count": 26,
   "id": "ba90bc95",
   "metadata": {},
   "outputs": [
    {
     "data": {
      "text/plain": [
       "0      4779736\n",
       "1       710231\n",
       "2      6392017\n",
       "3      2915918\n",
       "4     37253956\n",
       "5      5029196\n",
       "6      3574097\n",
       "7       897934\n",
       "8     18801310\n",
       "9      9687653\n",
       "10     1360301\n",
       "11     1567582\n",
       "12    12830632\n",
       "13     6483802\n",
       "14     3046355\n",
       "15     2853118\n",
       "16     4339367\n",
       "17     4533372\n",
       "18     1328361\n",
       "19     5773552\n",
       "20     6547629\n",
       "21     9883640\n",
       "22     5303925\n",
       "23     2967297\n",
       "24     5988927\n",
       "25      989415\n",
       "26     1826341\n",
       "27     2700551\n",
       "28     1316470\n",
       "29     8791894\n",
       "30     2059179\n",
       "31    19378102\n",
       "32     9535483\n",
       "33      672591\n",
       "34    11536504\n",
       "35     3751351\n",
       "36     3831074\n",
       "37    12702379\n",
       "38     1052567\n",
       "39     4625364\n",
       "40      814180\n",
       "41     6346105\n",
       "42    25145561\n",
       "43     2763885\n",
       "44      625741\n",
       "45     8001024\n",
       "46     6724540\n",
       "47     1852994\n",
       "48     5686986\n",
       "49      563626\n",
       "Name: Population, dtype: int64"
      ]
     },
     "execution_count": 26,
     "metadata": {},
     "output_type": "execute_result"
    }
   ],
   "source": [
    "state['Population']"
   ]
  },
  {
   "cell_type": "code",
   "execution_count": 27,
   "id": "8649aa7f",
   "metadata": {},
   "outputs": [
    {
     "data": {
      "text/plain": [
       "49      563626\n",
       "44      625741\n",
       "33      672591\n",
       "1       710231\n",
       "40      814180\n",
       "7       897934\n",
       "25      989415\n",
       "38     1052567\n",
       "28     1316470\n",
       "18     1328361\n",
       "10     1360301\n",
       "11     1567582\n",
       "26     1826341\n",
       "47     1852994\n",
       "30     2059179\n",
       "27     2700551\n",
       "43     2763885\n",
       "15     2853118\n",
       "3      2915918\n",
       "23     2967297\n",
       "14     3046355\n",
       "6      3574097\n",
       "35     3751351\n",
       "36     3831074\n",
       "16     4339367\n",
       "17     4533372\n",
       "39     4625364\n",
       "0      4779736\n",
       "5      5029196\n",
       "22     5303925\n",
       "48     5686986\n",
       "19     5773552\n",
       "24     5988927\n",
       "41     6346105\n",
       "2      6392017\n",
       "13     6483802\n",
       "20     6547629\n",
       "46     6724540\n",
       "45     8001024\n",
       "29     8791894\n",
       "32     9535483\n",
       "9      9687653\n",
       "21     9883640\n",
       "34    11536504\n",
       "37    12702379\n",
       "12    12830632\n",
       "8     18801310\n",
       "31    19378102\n",
       "42    25145561\n",
       "4     37253956\n",
       "Name: Population, dtype: int64"
      ]
     },
     "execution_count": 27,
     "metadata": {},
     "output_type": "execute_result"
    }
   ],
   "source": [
    "state['Population'].sort_values()"
   ]
  },
  {
   "cell_type": "code",
   "execution_count": 28,
   "id": "9cfbe3a1",
   "metadata": {},
   "outputs": [
    {
     "data": {
      "text/plain": [
       "563626"
      ]
     },
     "execution_count": 28,
     "metadata": {},
     "output_type": "execute_result"
    }
   ],
   "source": [
    "state['Population'].min()"
   ]
  },
  {
   "cell_type": "code",
   "execution_count": 29,
   "id": "4007e60f",
   "metadata": {},
   "outputs": [
    {
     "data": {
      "text/plain": [
       "37253956"
      ]
     },
     "execution_count": 29,
     "metadata": {},
     "output_type": "execute_result"
    }
   ],
   "source": [
    "state['Population'].max()"
   ]
  },
  {
   "cell_type": "code",
   "execution_count": 30,
   "id": "5ce9d3a3",
   "metadata": {},
   "outputs": [
    {
     "data": {
      "text/plain": [
       "49     1\n",
       "44     1\n",
       "33     1\n",
       "1      1\n",
       "40     1\n",
       "7      1\n",
       "25     1\n",
       "38     1\n",
       "28     1\n",
       "18     1\n",
       "10     1\n",
       "11     1\n",
       "26     1\n",
       "47     1\n",
       "30     1\n",
       "27     1\n",
       "43     1\n",
       "15     1\n",
       "3      1\n",
       "23     1\n",
       "14     1\n",
       "6      1\n",
       "35     1\n",
       "36     1\n",
       "16     2\n",
       "17     2\n",
       "39     2\n",
       "0      2\n",
       "5      2\n",
       "22     2\n",
       "48     2\n",
       "19     2\n",
       "24     2\n",
       "41     2\n",
       "2      2\n",
       "13     2\n",
       "20     2\n",
       "46     2\n",
       "45     3\n",
       "29     3\n",
       "32     3\n",
       "9      3\n",
       "21     3\n",
       "34     3\n",
       "37     4\n",
       "12     4\n",
       "8      5\n",
       "31     6\n",
       "42     7\n",
       "4     10\n",
       "Name: Population, dtype: category\n",
       "Categories (10, int64): [1 < 2 < 3 < 4 ... 7 < 8 < 9 < 10]"
      ]
     },
     "execution_count": 30,
     "metadata": {},
     "output_type": "execute_result"
    }
   ],
   "source": [
    "pd.cut(state['Population'].sort_values(), 10, labels=[1,2,3,4,5,6,7,8,9,10])"
   ]
  },
  {
   "cell_type": "code",
   "execution_count": 31,
   "id": "317a10e8",
   "metadata": {},
   "outputs": [
    {
     "data": {
      "text/plain": [
       "49      (526935.67, 4232659.0]\n",
       "44      (526935.67, 4232659.0]\n",
       "33      (526935.67, 4232659.0]\n",
       "1       (526935.67, 4232659.0]\n",
       "40      (526935.67, 4232659.0]\n",
       "7       (526935.67, 4232659.0]\n",
       "25      (526935.67, 4232659.0]\n",
       "38      (526935.67, 4232659.0]\n",
       "28      (526935.67, 4232659.0]\n",
       "18      (526935.67, 4232659.0]\n",
       "10      (526935.67, 4232659.0]\n",
       "11      (526935.67, 4232659.0]\n",
       "26      (526935.67, 4232659.0]\n",
       "47      (526935.67, 4232659.0]\n",
       "30      (526935.67, 4232659.0]\n",
       "27      (526935.67, 4232659.0]\n",
       "43      (526935.67, 4232659.0]\n",
       "15      (526935.67, 4232659.0]\n",
       "3       (526935.67, 4232659.0]\n",
       "23      (526935.67, 4232659.0]\n",
       "14      (526935.67, 4232659.0]\n",
       "6       (526935.67, 4232659.0]\n",
       "35      (526935.67, 4232659.0]\n",
       "36      (526935.67, 4232659.0]\n",
       "16      (4232659.0, 7901692.0]\n",
       "17      (4232659.0, 7901692.0]\n",
       "39      (4232659.0, 7901692.0]\n",
       "0       (4232659.0, 7901692.0]\n",
       "5       (4232659.0, 7901692.0]\n",
       "22      (4232659.0, 7901692.0]\n",
       "48      (4232659.0, 7901692.0]\n",
       "19      (4232659.0, 7901692.0]\n",
       "24      (4232659.0, 7901692.0]\n",
       "41      (4232659.0, 7901692.0]\n",
       "2       (4232659.0, 7901692.0]\n",
       "13      (4232659.0, 7901692.0]\n",
       "20      (4232659.0, 7901692.0]\n",
       "46      (4232659.0, 7901692.0]\n",
       "45     (7901692.0, 11570725.0]\n",
       "29     (7901692.0, 11570725.0]\n",
       "32     (7901692.0, 11570725.0]\n",
       "9      (7901692.0, 11570725.0]\n",
       "21     (7901692.0, 11570725.0]\n",
       "34     (7901692.0, 11570725.0]\n",
       "37    (11570725.0, 15239758.0]\n",
       "12    (11570725.0, 15239758.0]\n",
       "8     (15239758.0, 18908791.0]\n",
       "31    (18908791.0, 22577824.0]\n",
       "42    (22577824.0, 26246857.0]\n",
       "4     (33584923.0, 37253956.0]\n",
       "Name: Population, dtype: category\n",
       "Categories (10, interval[float64, right]): [(526935.67, 4232659.0] < (4232659.0, 7901692.0] < (7901692.0, 11570725.0] < (11570725.0, 15239758.0] ... (22577824.0, 26246857.0] < (26246857.0, 29915890.0] < (29915890.0, 33584923.0] < (33584923.0, 37253956.0]]"
      ]
     },
     "execution_count": 31,
     "metadata": {},
     "output_type": "execute_result"
    }
   ],
   "source": [
    "pd.cut(state['Population'].sort_values(), 10)"
   ]
  },
  {
   "cell_type": "code",
   "execution_count": 32,
   "id": "863e12c4",
   "metadata": {},
   "outputs": [
    {
     "data": {
      "text/plain": [
       "0       (4232659.0, 7901692.0]\n",
       "1       (526935.67, 4232659.0]\n",
       "2       (4232659.0, 7901692.0]\n",
       "3       (526935.67, 4232659.0]\n",
       "4     (33584923.0, 37253956.0]\n",
       "5       (4232659.0, 7901692.0]\n",
       "6       (526935.67, 4232659.0]\n",
       "7       (526935.67, 4232659.0]\n",
       "8     (15239758.0, 18908791.0]\n",
       "9      (7901692.0, 11570725.0]\n",
       "10      (526935.67, 4232659.0]\n",
       "11      (526935.67, 4232659.0]\n",
       "12    (11570725.0, 15239758.0]\n",
       "13      (4232659.0, 7901692.0]\n",
       "14      (526935.67, 4232659.0]\n",
       "15      (526935.67, 4232659.0]\n",
       "16      (4232659.0, 7901692.0]\n",
       "17      (4232659.0, 7901692.0]\n",
       "18      (526935.67, 4232659.0]\n",
       "19      (4232659.0, 7901692.0]\n",
       "20      (4232659.0, 7901692.0]\n",
       "21     (7901692.0, 11570725.0]\n",
       "22      (4232659.0, 7901692.0]\n",
       "23      (526935.67, 4232659.0]\n",
       "24      (4232659.0, 7901692.0]\n",
       "25      (526935.67, 4232659.0]\n",
       "26      (526935.67, 4232659.0]\n",
       "27      (526935.67, 4232659.0]\n",
       "28      (526935.67, 4232659.0]\n",
       "29     (7901692.0, 11570725.0]\n",
       "30      (526935.67, 4232659.0]\n",
       "31    (18908791.0, 22577824.0]\n",
       "32     (7901692.0, 11570725.0]\n",
       "33      (526935.67, 4232659.0]\n",
       "34     (7901692.0, 11570725.0]\n",
       "35      (526935.67, 4232659.0]\n",
       "36      (526935.67, 4232659.0]\n",
       "37    (11570725.0, 15239758.0]\n",
       "38      (526935.67, 4232659.0]\n",
       "39      (4232659.0, 7901692.0]\n",
       "40      (526935.67, 4232659.0]\n",
       "41      (4232659.0, 7901692.0]\n",
       "42    (22577824.0, 26246857.0]\n",
       "43      (526935.67, 4232659.0]\n",
       "44      (526935.67, 4232659.0]\n",
       "45     (7901692.0, 11570725.0]\n",
       "46      (4232659.0, 7901692.0]\n",
       "47      (526935.67, 4232659.0]\n",
       "48      (4232659.0, 7901692.0]\n",
       "49      (526935.67, 4232659.0]\n",
       "Name: Population, dtype: category\n",
       "Categories (10, interval[float64, right]): [(526935.67, 4232659.0] < (4232659.0, 7901692.0] < (7901692.0, 11570725.0] < (11570725.0, 15239758.0] ... (22577824.0, 26246857.0] < (26246857.0, 29915890.0] < (29915890.0, 33584923.0] < (33584923.0, 37253956.0]]"
      ]
     },
     "execution_count": 32,
     "metadata": {},
     "output_type": "execute_result"
    }
   ],
   "source": [
    "binnedPopulation = pd.cut(state['Population'],10)\n",
    "binnedPopulation"
   ]
  },
  {
   "cell_type": "code",
   "execution_count": 33,
   "id": "161ecd03",
   "metadata": {},
   "outputs": [
    {
     "data": {
      "text/plain": [
       "Population\n",
       "(526935.67, 4232659.0]      24\n",
       "(4232659.0, 7901692.0]      14\n",
       "(7901692.0, 11570725.0]      6\n",
       "(11570725.0, 15239758.0]     2\n",
       "(15239758.0, 18908791.0]     1\n",
       "(18908791.0, 22577824.0]     1\n",
       "(22577824.0, 26246857.0]     1\n",
       "(33584923.0, 37253956.0]     1\n",
       "(26246857.0, 29915890.0]     0\n",
       "(29915890.0, 33584923.0]     0\n",
       "Name: count, dtype: int64"
      ]
     },
     "execution_count": 33,
     "metadata": {},
     "output_type": "execute_result"
    }
   ],
   "source": [
    "binnedPopulation.value_counts()"
   ]
  },
  {
   "cell_type": "code",
   "execution_count": 34,
   "id": "c7e4dfa8",
   "metadata": {},
   "outputs": [
    {
     "data": {
      "text/plain": [
       "37253956"
      ]
     },
     "execution_count": 34,
     "metadata": {},
     "output_type": "execute_result"
    }
   ],
   "source": [
    "state['Population'].max()"
   ]
  },
  {
   "cell_type": "code",
   "execution_count": 35,
   "id": "8f8b1488",
   "metadata": {},
   "outputs": [
    {
     "data": {
      "text/plain": [
       "563626"
      ]
     },
     "execution_count": 35,
     "metadata": {},
     "output_type": "execute_result"
    }
   ],
   "source": [
    "state['Population'].min()"
   ]
  },
  {
   "cell_type": "code",
   "execution_count": 36,
   "id": "f70f95ed",
   "metadata": {},
   "outputs": [
    {
     "data": {
      "text/plain": [
       "560244.2440000001"
      ]
     },
     "execution_count": 36,
     "metadata": {},
     "output_type": "execute_result"
    }
   ],
   "source": [
    "99.4/100*state['Population'].min()"
   ]
  },
  {
   "cell_type": "markdown",
   "id": "24063d99",
   "metadata": {},
   "source": [
    "## Histogram"
   ]
  },
  {
   "cell_type": "code",
   "execution_count": 37,
   "id": "b0136b1e",
   "metadata": {},
   "outputs": [
    {
     "data": {
      "text/plain": [
       "Text(0.5, 0, 'Population (millions)')"
      ]
     },
     "execution_count": 37,
     "metadata": {},
     "output_type": "execute_result"
    },
    {
     "data": {
      "image/png": "[encoded data removed]",
      "text/plain": [
       "<Figure size 400x400 with 1 Axes>"
      ]
     },
     "metadata": {},
     "output_type": "display_data"
    }
   ],
   "source": [
    "ax = (state['Population']/1000000).plot.hist(figsize=(4,4), bins=5)\n",
    "ax.set_xlabel('Population (millions)')"
   ]
  },
  {
   "cell_type": "code",
   "execution_count": 38,
   "id": "8fec0ebe",
   "metadata": {},
   "outputs": [
    {
     "data": {
      "text/plain": [
       "Text(0.5, 0, 'Population (millions)')"
      ]
     },
     "execution_count": 38,
     "metadata": {},
     "output_type": "execute_result"
    },
    {
     "data": {
      "image/png": "[encoded data removed]",
      "text/plain": [
       "<Figure size 400x400 with 1 Axes>"
      ]
     },
     "metadata": {},
     "output_type": "display_data"
    }
   ],
   "source": [
    "ax = (state['Population']/1000000).plot.hist(figsize=(4,4), bins=10)\n",
    "ax.set_xlabel('Population (millions)')"
   ]
  },
  {
   "cell_type": "code",
   "execution_count": 39,
   "id": "742cb6a2",
   "metadata": {},
   "outputs": [
    {
     "data": {
      "text/plain": [
       "Text(0.5, 0, 'Population (millions)')"
      ]
     },
     "execution_count": 39,
     "metadata": {},
     "output_type": "execute_result"
    },
    {
     "data": {
      "image/png": "[encoded data removed]",
      "text/plain": [
       "<Figure size 400x400 with 1 Axes>"
      ]
     },
     "metadata": {},
     "output_type": "display_data"
    }
   ],
   "source": [
    "ax = (state['Population']/1000000).plot.hist(figsize=(4,4), bins=20)\n",
    "ax.set_xlabel('Population (millions)')"
   ]
  },
  {
   "cell_type": "code",
   "execution_count": 40,
   "id": "a56f369f",
   "metadata": {},
   "outputs": [
    {
     "data": {
      "text/plain": [
       "37253956"
      ]
     },
     "execution_count": 40,
     "metadata": {},
     "output_type": "execute_result"
    }
   ],
   "source": [
    "state['Population'].max()"
   ]
  },
  {
   "cell_type": "markdown",
   "id": "ca0bb21f",
   "metadata": {},
   "source": [
    "## Density plot"
   ]
  },
  {
   "cell_type": "code",
   "execution_count": 46,
   "id": "766f63c2",
   "metadata": {},
   "outputs": [
    {
     "data": {
      "text/plain": [
       "count    50.000000\n",
       "mean      4.066000\n",
       "std       1.915736\n",
       "min       0.900000\n",
       "25%       2.425000\n",
       "50%       4.000000\n",
       "75%       5.550000\n",
       "max      10.300000\n",
       "Name: Murder.Rate, dtype: float64"
      ]
     },
     "execution_count": 46,
     "metadata": {},
     "output_type": "execute_result"
    }
   ],
   "source": [
    "state['Murder.Rate'].describe()"
   ]
  },
  {
   "cell_type": "code",
   "execution_count": 41,
   "id": "4d7059be",
   "metadata": {},
   "outputs": [
    {
     "data": {
      "image/png": "[encoded data removed]",
      "text/plain": [
       "<Figure size 640x480 with 1 Axes>"
      ]
     },
     "metadata": {},
     "output_type": "display_data"
    }
   ],
   "source": [
    "ax = state['Murder.Rate'].plot.hist(density=True, xlim=[0,12], bins=range(1,12))"
   ]
  },
  {
   "cell_type": "markdown",
   "id": "52244c00",
   "metadata": {},
   "source": [
    "- density = True: counts become counts/total, insteaf of raw counts --> similar to pdf\n",
    "- for each bin, its height is the probability that data belongs to it"
   ]
  },
  {
   "cell_type": "code",
   "execution_count": 47,
   "id": "bb42a871",
   "metadata": {},
   "outputs": [
    {
     "data": {
      "image/png": "[encoded data removed]",
      "text/plain": [
       "<Figure size 640x480 with 1 Axes>"
      ]
     },
     "metadata": {},
     "output_type": "display_data"
    }
   ],
   "source": [
    "ax = state['Murder.Rate'].plot.hist(bins=range(1,12))"
   ]
  },
  {
   "cell_type": "code",
   "execution_count": 50,
   "id": "8da692ff",
   "metadata": {},
   "outputs": [
    {
     "data": {
      "text/plain": [
       "<Axes: ylabel='Density'>"
      ]
     },
     "execution_count": 50,
     "metadata": {},
     "output_type": "execute_result"
    },
    {
     "data": {
      "image/png": "[encoded data removed]",
      "text/plain": [
       "<Figure size 640x480 with 1 Axes>"
      ]
     },
     "metadata": {},
     "output_type": "display_data"
    }
   ],
   "source": [
    "state['Murder.Rate'].plot.density()"
   ]
  },
  {
   "cell_type": "code",
   "execution_count": 52,
   "id": "2b066d04",
   "metadata": {},
   "outputs": [
    {
     "data": {
      "text/plain": [
       "Text(0.5, 0, 'Murder Rate (per 100,000)')"
      ]
     },
     "execution_count": 52,
     "metadata": {},
     "output_type": "execute_result"
    },
    {
     "data": {
      "image/png": "[encoded data removed]",
      "text/plain": [
       "<Figure size 640x480 with 1 Axes>"
      ]
     },
     "metadata": {},
     "output_type": "display_data"
    }
   ],
   "source": [
    "# on the same graph\n",
    "ax = state['Murder.Rate'].plot.hist(density=True, xlim=[0,12], bins=range(1,12))\n",
    "state['Murder.Rate'].plot.density(ax=ax)\n",
    "ax.set_xlabel('Murder Rate (per 100,000)')"
   ]
  },
  {
   "cell_type": "markdown",
   "id": "b71253ba",
   "metadata": {},
   "source": [
    "## Binary and categorical data"
   ]
  },
  {
   "cell_type": "code",
   "execution_count": 54,
   "id": "41a77a8a",
   "metadata": {},
   "outputs": [],
   "source": [
    "dfw = pd.read_csv(\"dfw_airline.csv\")"
   ]
  },
  {
   "cell_type": "code",
   "execution_count": 55,
   "id": "6e12ba99",
   "metadata": {},
   "outputs": [
    {
     "data": {
      "text/html": [
       "<div>\n",
       "<style scoped>\n",
       "    .dataframe tbody tr th:only-of-type {\n",
       "        vertical-align: middle;\n",
       "    }\n",
       "\n",
       "    .dataframe tbody tr th {\n",
       "        vertical-align: top;\n",
       "    }\n",
       "\n",
       "    .dataframe thead th {\n",
       "        text-align: right;\n",
       "    }\n",
       "</style>\n",
       "<table border=\"1\" class=\"dataframe\">\n",
       "  <thead>\n",
       "    <tr style=\"text-align: right;\">\n",
       "      <th></th>\n",
       "      <th>Carrier</th>\n",
       "      <th>ATC</th>\n",
       "      <th>Weather</th>\n",
       "      <th>Security</th>\n",
       "      <th>Inbound</th>\n",
       "    </tr>\n",
       "  </thead>\n",
       "  <tbody>\n",
       "    <tr>\n",
       "      <th>0</th>\n",
       "      <td>64263.16</td>\n",
       "      <td>84856.5</td>\n",
       "      <td>11235.42</td>\n",
       "      <td>343.15</td>\n",
       "      <td>118427.82</td>\n",
       "    </tr>\n",
       "  </tbody>\n",
       "</table>\n",
       "</div>"
      ],
      "text/plain": [
       "    Carrier      ATC   Weather  Security    Inbound\n",
       "0  64263.16  84856.5  11235.42    343.15  118427.82"
      ]
     },
     "execution_count": 55,
     "metadata": {},
     "output_type": "execute_result"
    }
   ],
   "source": [
    "dfw"
   ]
  },
  {
   "cell_type": "code",
   "execution_count": 56,
   "id": "90d0427d",
   "metadata": {},
   "outputs": [
    {
     "data": {
      "text/plain": [
       "<Axes: >"
      ]
     },
     "execution_count": 56,
     "metadata": {},
     "output_type": "execute_result"
    },
    {
     "data": {
      "image/png": "[encoded data removed]",
      "text/plain": [
       "<Figure size 640x480 with 1 Axes>"
      ]
     },
     "metadata": {},
     "output_type": "display_data"
    }
   ],
   "source": [
    "dfw.plot.bar()"
   ]
  },
  {
   "cell_type": "code",
   "execution_count": 59,
   "id": "ec846d79",
   "metadata": {},
   "outputs": [
    {
     "data": {
      "text/html": [
       "<div>\n",
       "<style scoped>\n",
       "    .dataframe tbody tr th:only-of-type {\n",
       "        vertical-align: middle;\n",
       "    }\n",
       "\n",
       "    .dataframe tbody tr th {\n",
       "        vertical-align: top;\n",
       "    }\n",
       "\n",
       "    .dataframe thead th {\n",
       "        text-align: right;\n",
       "    }\n",
       "</style>\n",
       "<table border=\"1\" class=\"dataframe\">\n",
       "  <thead>\n",
       "    <tr style=\"text-align: right;\">\n",
       "      <th></th>\n",
       "      <th>0</th>\n",
       "    </tr>\n",
       "  </thead>\n",
       "  <tbody>\n",
       "    <tr>\n",
       "      <th>Carrier</th>\n",
       "      <td>64263.16</td>\n",
       "    </tr>\n",
       "    <tr>\n",
       "      <th>ATC</th>\n",
       "      <td>84856.50</td>\n",
       "    </tr>\n",
       "    <tr>\n",
       "      <th>Weather</th>\n",
       "      <td>11235.42</td>\n",
       "    </tr>\n",
       "    <tr>\n",
       "      <th>Security</th>\n",
       "      <td>343.15</td>\n",
       "    </tr>\n",
       "    <tr>\n",
       "      <th>Inbound</th>\n",
       "      <td>118427.82</td>\n",
       "    </tr>\n",
       "  </tbody>\n",
       "</table>\n",
       "</div>"
      ],
      "text/plain": [
       "                  0\n",
       "Carrier    64263.16\n",
       "ATC        84856.50\n",
       "Weather    11235.42\n",
       "Security     343.15\n",
       "Inbound   118427.82"
      ]
     },
     "execution_count": 59,
     "metadata": {},
     "output_type": "execute_result"
    }
   ],
   "source": [
    "dfw.transpose()"
   ]
  },
  {
   "cell_type": "code",
   "execution_count": 58,
   "id": "807665df",
   "metadata": {},
   "outputs": [
    {
     "data": {
      "text/plain": [
       "<Axes: >"
      ]
     },
     "execution_count": 58,
     "metadata": {},
     "output_type": "execute_result"
    },
    {
     "data": {
      "image/png": "[encoded data removed]",
      "text/plain": [
       "<Figure size 640x480 with 1 Axes>"
      ]
     },
     "metadata": {},
     "output_type": "display_data"
    }
   ],
   "source": [
    "dfw.transpose().plot.bar()"
   ]
  },
  {
   "cell_type": "code",
   "execution_count": 63,
   "id": "ae28d2c8",
   "metadata": {},
   "outputs": [
    {
     "data": {
      "text/plain": [
       "Text(0, 0.5, 'Count')"
      ]
     },
     "execution_count": 63,
     "metadata": {},
     "output_type": "execute_result"
    },
    {
     "data": {
      "image/png": "[encoded data removed]",
      "text/plain": [
       "<Figure size 400x400 with 1 Axes>"
      ]
     },
     "metadata": {},
     "output_type": "display_data"
    }
   ],
   "source": [
    "ax = dfw.transpose().plot.bar(figsize=(4,4), legend=False)\n",
    "ax.set_xlabel('Cause of delay')\n",
    "ax.set_ylabel('Count')"
   ]
  },
  {
   "cell_type": "code",
   "execution_count": 65,
   "id": "144be263",
   "metadata": {},
   "outputs": [
    {
     "data": {
      "text/plain": [
       "Index(['Carrier', 'ATC', 'Weather', 'Security', 'Inbound'], dtype='object')"
      ]
     },
     "execution_count": 65,
     "metadata": {},
     "output_type": "execute_result"
    }
   ],
   "source": [
    "dfw.transpose().index"
   ]
  },
  {
   "cell_type": "code",
   "execution_count": 66,
   "id": "f46d330a",
   "metadata": {},
   "outputs": [
    {
     "data": {
      "text/plain": [
       "RangeIndex(start=0, stop=1, step=1)"
      ]
     },
     "execution_count": 66,
     "metadata": {},
     "output_type": "execute_result"
    }
   ],
   "source": [
    "dfw.transpose().columns"
   ]
  },
  {
   "cell_type": "code",
   "execution_count": null,
   "id": "bd5a5858",
   "metadata": {},
   "outputs": [],
   "source": []
  }
 ],
 "metadata": {
  "kernelspec": {
   "display_name": "Python 3 (ipykernel)",
   "language": "python",
   "name": "python3"
  },
  "language_info": {
   "codemirror_mode": {
    "name": "ipython",
    "version": 3
   },
   "file_extension": ".py",
   "mimetype": "text/x-python",
   "name": "python",
   "nbconvert_exporter": "python",
   "pygments_lexer": "ipython3",
   "version": "3.11.5"
  },
  "toc": {
   "base_numbering": 1,
   "nav_menu": {},
   "number_sections": true,
   "sideBar": true,
   "skip_h1_title": false,
   "title_cell": "Table of Contents",
   "title_sidebar": "Contents",
   "toc_cell": false,
   "toc_position": {
    "height": "calc(100% - 180px)",
    "left": "10px",
    "top": "150px",
    "width": "237px"
   },
   "toc_section_display": true,
   "toc_window_display": true
  },
  "varInspector": {
   "cols": {
    "lenName": 16,
    "lenType": 16,
    "lenVar": 40
   },
   "kernels_config": {
    "python": {
     "delete_cmd_postfix": "",
     "delete_cmd_prefix": "del ",
     "library": "var_list.py",
     "varRefreshCmd": "print(var_dic_list())"
    },
    "r": {
     "delete_cmd_postfix": ") ",
     "delete_cmd_prefix": "rm(",
     "library": "var_list.r",
     "varRefreshCmd": "cat(var_dic_list()) "
    }
   },
   "types_to_exclude": [
    "module",
    "function",
    "builtin_function_or_method",
    "instance",
    "_Feature"
   ],
   "window_display": false
  }
 },
 "nbformat": 4,
 "nbformat_minor": 5
}
