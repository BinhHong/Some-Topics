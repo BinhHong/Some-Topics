{
 "cells": [
  {
   "cell_type": "markdown",
   "id": "1a5e559b",
   "metadata": {},
   "source": [
    "# EDA"
   ]
  },
  {
   "cell_type": "code",
   "execution_count": 1,
   "id": "26be85b4",
   "metadata": {},
   "outputs": [],
   "source": [
    "import pandas as pd\n",
    "from scipy import stats\n",
    "import numpy as np\n",
    "from statsmodels import robust\n",
    "import seaborn as sns\n",
    "import matplotlib.cm as cm"
   ]
  },
  {
   "cell_type": "markdown",
   "id": "3a844f7e",
   "metadata": {},
   "source": [
    "## mean, median and trim_mean"
   ]
  },
  {
   "cell_type": "code",
   "execution_count": 2,
   "id": "01cc659d",
   "metadata": {},
   "outputs": [],
   "source": [
    "state = pd.read_csv('state.csv')"
   ]
  },
  {
   "cell_type": "code",
   "execution_count": 3,
   "id": "b2dee36b",
   "metadata": {},
   "outputs": [
    {
     "data": {
      "text/html": [
       "<div>\n",
       "<style scoped>\n",
       "    .dataframe tbody tr th:only-of-type {\n",
       "        vertical-align: middle;\n",
       "    }\n",
       "\n",
       "    .dataframe tbody tr th {\n",
       "        vertical-align: top;\n",
       "    }\n",
       "\n",
       "    .dataframe thead th {\n",
       "        text-align: right;\n",
       "    }\n",
       "</style>\n",
       "<table border=\"1\" class=\"dataframe\">\n",
       "  <thead>\n",
       "    <tr style=\"text-align: right;\">\n",
       "      <th></th>\n",
       "      <th>State</th>\n",
       "      <th>Population</th>\n",
       "      <th>Murder.Rate</th>\n",
       "      <th>Abbreviation</th>\n",
       "    </tr>\n",
       "  </thead>\n",
       "  <tbody>\n",
       "    <tr>\n",
       "      <th>0</th>\n",
       "      <td>Alabama</td>\n",
       "      <td>4779736</td>\n",
       "      <td>5.7</td>\n",
       "      <td>AL</td>\n",
       "    </tr>\n",
       "    <tr>\n",
       "      <th>1</th>\n",
       "      <td>Alaska</td>\n",
       "      <td>710231</td>\n",
       "      <td>5.6</td>\n",
       "      <td>AK</td>\n",
       "    </tr>\n",
       "    <tr>\n",
       "      <th>2</th>\n",
       "      <td>Arizona</td>\n",
       "      <td>6392017</td>\n",
       "      <td>4.7</td>\n",
       "      <td>AZ</td>\n",
       "    </tr>\n",
       "    <tr>\n",
       "      <th>3</th>\n",
       "      <td>Arkansas</td>\n",
       "      <td>2915918</td>\n",
       "      <td>5.6</td>\n",
       "      <td>AR</td>\n",
       "    </tr>\n",
       "    <tr>\n",
       "      <th>4</th>\n",
       "      <td>California</td>\n",
       "      <td>37253956</td>\n",
       "      <td>4.4</td>\n",
       "      <td>CA</td>\n",
       "    </tr>\n",
       "  </tbody>\n",
       "</table>\n",
       "</div>"
      ],
      "text/plain": [
       "        State  Population  Murder.Rate Abbreviation\n",
       "0     Alabama     4779736          5.7           AL\n",
       "1      Alaska      710231          5.6           AK\n",
       "2     Arizona     6392017          4.7           AZ\n",
       "3    Arkansas     2915918          5.6           AR\n",
       "4  California    37253956          4.4           CA"
      ]
     },
     "execution_count": 3,
     "metadata": {},
     "output_type": "execute_result"
    }
   ],
   "source": [
    "state.head()"
   ]
  },
  {
   "cell_type": "code",
   "execution_count": 4,
   "id": "e21c7a7d",
   "metadata": {},
   "outputs": [
    {
     "data": {
      "text/plain": [
       "6162876.3"
      ]
     },
     "execution_count": 4,
     "metadata": {},
     "output_type": "execute_result"
    }
   ],
   "source": [
    "state.loc[:,'Population'].mean()"
   ]
  },
  {
   "cell_type": "code",
   "execution_count": 5,
   "id": "c83e542b",
   "metadata": {},
   "outputs": [
    {
     "data": {
      "text/plain": [
       "4436369.5"
      ]
     },
     "execution_count": 5,
     "metadata": {},
     "output_type": "execute_result"
    }
   ],
   "source": [
    "state.loc[:,'Population'].median()"
   ]
  },
  {
   "cell_type": "code",
   "execution_count": 6,
   "id": "9e5d8143",
   "metadata": {},
   "outputs": [
    {
     "data": {
      "text/plain": [
       "4783697.125"
      ]
     },
     "execution_count": 6,
     "metadata": {},
     "output_type": "execute_result"
    }
   ],
   "source": [
    "stats.trim_mean(state.loc[:,'Population'], proportiontocut=0.1)"
   ]
  },
  {
   "cell_type": "markdown",
   "id": "30cff831",
   "metadata": {},
   "source": [
    "# weighted mean"
   ]
  },
  {
   "cell_type": "code",
   "execution_count": 7,
   "id": "1f499c4e",
   "metadata": {},
   "outputs": [
    {
     "data": {
      "text/plain": [
       "4.445833981123393"
      ]
     },
     "execution_count": 7,
     "metadata": {},
     "output_type": "execute_result"
    }
   ],
   "source": [
    "# murder rate\n",
    "np.average(state['Murder.Rate'], weights=state['Population'])"
   ]
  },
  {
   "cell_type": "code",
   "execution_count": 8,
   "id": "d0aa390d",
   "metadata": {},
   "outputs": [
    {
     "data": {
      "text/plain": [
       "4.446"
      ]
     },
     "execution_count": 8,
     "metadata": {},
     "output_type": "execute_result"
    }
   ],
   "source": [
    "np.round(np.average(state['Murder.Rate'], weights=state['Population']), decimals=3)"
   ]
  },
  {
   "cell_type": "markdown",
   "id": "39181337",
   "metadata": {},
   "source": [
    "## weighted median"
   ]
  },
  {
   "cell_type": "code",
   "execution_count": 9,
   "id": "53ad8f66",
   "metadata": {},
   "outputs": [],
   "source": [
    "import wquantiles"
   ]
  },
  {
   "cell_type": "code",
   "execution_count": 10,
   "id": "fbd268ac",
   "metadata": {},
   "outputs": [
    {
     "data": {
      "text/plain": [
       "4.4"
      ]
     },
     "execution_count": 10,
     "metadata": {},
     "output_type": "execute_result"
    }
   ],
   "source": [
    "wquantiles.median(state['Murder.Rate'], weights=state['Population'])"
   ]
  },
  {
   "cell_type": "code",
   "execution_count": 11,
   "id": "ded77f0d",
   "metadata": {},
   "outputs": [],
   "source": [
    "array = np.array([13,23,54])\n",
    "weight = np.array([10,3,4])"
   ]
  },
  {
   "cell_type": "code",
   "execution_count": 12,
   "id": "6a8f9f36",
   "metadata": {},
   "outputs": [
    {
     "data": {
      "text/plain": [
       "18.384615384615383"
      ]
     },
     "execution_count": 12,
     "metadata": {},
     "output_type": "execute_result"
    }
   ],
   "source": [
    "wquantiles.median(array, weight)"
   ]
  },
  {
   "cell_type": "code",
   "execution_count": 13,
   "id": "bb076b0d",
   "metadata": {},
   "outputs": [
    {
     "data": {
      "text/plain": [
       "18.0"
      ]
     },
     "execution_count": 13,
     "metadata": {},
     "output_type": "execute_result"
    }
   ],
   "source": [
    "(13+23)/2"
   ]
  },
  {
   "cell_type": "code",
   "execution_count": 14,
   "id": "ddc955ca",
   "metadata": {},
   "outputs": [
    {
     "data": {
      "text/plain": [
       "137.6422018348624"
      ]
     },
     "execution_count": 14,
     "metadata": {},
     "output_type": "execute_result"
    }
   ],
   "source": [
    "array = np.array([133,135,137,139,141])\n",
    "weight = np.array([57,62,33,76,78])\n",
    "wquantiles.median(array, weight)"
   ]
  },
  {
   "cell_type": "markdown",
   "id": "874d774c",
   "metadata": {},
   "source": [
    "## std, percentle, IQR, MAD"
   ]
  },
  {
   "cell_type": "code",
   "execution_count": 15,
   "id": "0cc926c4",
   "metadata": {},
   "outputs": [
    {
     "data": {
      "text/html": [
       "<div>\n",
       "<style scoped>\n",
       "    .dataframe tbody tr th:only-of-type {\n",
       "        vertical-align: middle;\n",
       "    }\n",
       "\n",
       "    .dataframe tbody tr th {\n",
       "        vertical-align: top;\n",
       "    }\n",
       "\n",
       "    .dataframe thead th {\n",
       "        text-align: right;\n",
       "    }\n",
       "</style>\n",
       "<table border=\"1\" class=\"dataframe\">\n",
       "  <thead>\n",
       "    <tr style=\"text-align: right;\">\n",
       "      <th></th>\n",
       "      <th>State</th>\n",
       "      <th>Population</th>\n",
       "      <th>Murder.Rate</th>\n",
       "      <th>Abbreviation</th>\n",
       "    </tr>\n",
       "  </thead>\n",
       "  <tbody>\n",
       "    <tr>\n",
       "      <th>0</th>\n",
       "      <td>Alabama</td>\n",
       "      <td>4779736</td>\n",
       "      <td>5.7</td>\n",
       "      <td>AL</td>\n",
       "    </tr>\n",
       "    <tr>\n",
       "      <th>1</th>\n",
       "      <td>Alaska</td>\n",
       "      <td>710231</td>\n",
       "      <td>5.6</td>\n",
       "      <td>AK</td>\n",
       "    </tr>\n",
       "    <tr>\n",
       "      <th>2</th>\n",
       "      <td>Arizona</td>\n",
       "      <td>6392017</td>\n",
       "      <td>4.7</td>\n",
       "      <td>AZ</td>\n",
       "    </tr>\n",
       "    <tr>\n",
       "      <th>3</th>\n",
       "      <td>Arkansas</td>\n",
       "      <td>2915918</td>\n",
       "      <td>5.6</td>\n",
       "      <td>AR</td>\n",
       "    </tr>\n",
       "    <tr>\n",
       "      <th>4</th>\n",
       "      <td>California</td>\n",
       "      <td>37253956</td>\n",
       "      <td>4.4</td>\n",
       "      <td>CA</td>\n",
       "    </tr>\n",
       "  </tbody>\n",
       "</table>\n",
       "</div>"
      ],
      "text/plain": [
       "        State  Population  Murder.Rate Abbreviation\n",
       "0     Alabama     4779736          5.7           AL\n",
       "1      Alaska      710231          5.6           AK\n",
       "2     Arizona     6392017          4.7           AZ\n",
       "3    Arkansas     2915918          5.6           AR\n",
       "4  California    37253956          4.4           CA"
      ]
     },
     "execution_count": 15,
     "metadata": {},
     "output_type": "execute_result"
    }
   ],
   "source": [
    "state.head()"
   ]
  },
  {
   "cell_type": "code",
   "execution_count": null,
   "id": "4ee064a2",
   "metadata": {},
   "outputs": [],
   "source": []
  },
  {
   "cell_type": "code",
   "execution_count": 16,
   "id": "b39c63e1",
   "metadata": {},
   "outputs": [
    {
     "data": {
      "text/plain": [
       "6848235.347401142"
      ]
     },
     "execution_count": 16,
     "metadata": {},
     "output_type": "execute_result"
    }
   ],
   "source": [
    "state['Population'].std()"
   ]
  },
  {
   "cell_type": "code",
   "execution_count": 17,
   "id": "6bb72c0b",
   "metadata": {},
   "outputs": [
    {
     "data": {
      "text/plain": [
       "1833004.25"
      ]
     },
     "execution_count": 17,
     "metadata": {},
     "output_type": "execute_result"
    }
   ],
   "source": [
    "state['Population'].quantile(0.25)"
   ]
  },
  {
   "cell_type": "code",
   "execution_count": 18,
   "id": "d06d56e7",
   "metadata": {},
   "outputs": [
    {
     "data": {
      "text/plain": [
       "4847308.0"
      ]
     },
     "execution_count": 18,
     "metadata": {},
     "output_type": "execute_result"
    }
   ],
   "source": [
    "# IQR Interquartile range\n",
    "state['Population'].quantile(0.75) - state['Population'].quantile(0.25)"
   ]
  },
  {
   "cell_type": "code",
   "execution_count": 19,
   "id": "81aa10ff",
   "metadata": {},
   "outputs": [
    {
     "data": {
      "text/plain": [
       "3849876.1459979336"
      ]
     },
     "execution_count": 19,
     "metadata": {},
     "output_type": "execute_result"
    }
   ],
   "source": [
    "# MAD median absolute deviation from the median\n",
    "robust.scale.mad(state['Population'])"
   ]
  },
  {
   "cell_type": "markdown",
   "id": "46488192",
   "metadata": {},
   "source": [
    "- percentiles: 1,2,3...100\n",
    "- quartiles: 25th, 50th, 75th percentiles\n",
    "- deciles: 10th, 20th... percentiles"
   ]
  },
  {
   "cell_type": "code",
   "execution_count": 20,
   "id": "41f75f5b",
   "metadata": {},
   "outputs": [
    {
     "data": {
      "text/plain": [
       "0.05    1.600\n",
       "0.25    2.425\n",
       "0.50    4.000\n",
       "0.75    5.550\n",
       "0.95    6.510\n",
       "Name: Murder.Rate, dtype: float64"
      ]
     },
     "execution_count": 20,
     "metadata": {},
     "output_type": "execute_result"
    }
   ],
   "source": [
    "# percentiles of murder rate by state\n",
    "state['Murder.Rate'].quantile([0.05, 0.25, 0.5, 0.75, 0.95])"
   ]
  },
  {
   "cell_type": "markdown",
   "id": "796acfe4",
   "metadata": {},
   "source": [
    "## Boxplot"
   ]
  },
  {
   "cell_type": "code",
   "execution_count": 21,
   "id": "78e7c710",
   "metadata": {},
   "outputs": [
    {
     "data": {
      "text/html": [
       "<div>\n",
       "<style scoped>\n",
       "    .dataframe tbody tr th:only-of-type {\n",
       "        vertical-align: middle;\n",
       "    }\n",
       "\n",
       "    .dataframe tbody tr th {\n",
       "        vertical-align: top;\n",
       "    }\n",
       "\n",
       "    .dataframe thead th {\n",
       "        text-align: right;\n",
       "    }\n",
       "</style>\n",
       "<table border=\"1\" class=\"dataframe\">\n",
       "  <thead>\n",
       "    <tr style=\"text-align: right;\">\n",
       "      <th></th>\n",
       "      <th>State</th>\n",
       "      <th>Population</th>\n",
       "      <th>Murder.Rate</th>\n",
       "      <th>Abbreviation</th>\n",
       "    </tr>\n",
       "  </thead>\n",
       "  <tbody>\n",
       "    <tr>\n",
       "      <th>0</th>\n",
       "      <td>Alabama</td>\n",
       "      <td>4779736</td>\n",
       "      <td>5.7</td>\n",
       "      <td>AL</td>\n",
       "    </tr>\n",
       "    <tr>\n",
       "      <th>1</th>\n",
       "      <td>Alaska</td>\n",
       "      <td>710231</td>\n",
       "      <td>5.6</td>\n",
       "      <td>AK</td>\n",
       "    </tr>\n",
       "    <tr>\n",
       "      <th>2</th>\n",
       "      <td>Arizona</td>\n",
       "      <td>6392017</td>\n",
       "      <td>4.7</td>\n",
       "      <td>AZ</td>\n",
       "    </tr>\n",
       "    <tr>\n",
       "      <th>3</th>\n",
       "      <td>Arkansas</td>\n",
       "      <td>2915918</td>\n",
       "      <td>5.6</td>\n",
       "      <td>AR</td>\n",
       "    </tr>\n",
       "    <tr>\n",
       "      <th>4</th>\n",
       "      <td>California</td>\n",
       "      <td>37253956</td>\n",
       "      <td>4.4</td>\n",
       "      <td>CA</td>\n",
       "    </tr>\n",
       "  </tbody>\n",
       "</table>\n",
       "</div>"
      ],
      "text/plain": [
       "        State  Population  Murder.Rate Abbreviation\n",
       "0     Alabama     4779736          5.7           AL\n",
       "1      Alaska      710231          5.6           AK\n",
       "2     Arizona     6392017          4.7           AZ\n",
       "3    Arkansas     2915918          5.6           AR\n",
       "4  California    37253956          4.4           CA"
      ]
     },
     "execution_count": 21,
     "metadata": {},
     "output_type": "execute_result"
    }
   ],
   "source": [
    "state.head()"
   ]
  },
  {
   "cell_type": "code",
   "execution_count": 22,
   "id": "53475edb",
   "metadata": {},
   "outputs": [
    {
     "data": {
      "text/plain": [
       "<Axes: >"
      ]
     },
     "execution_count": 22,
     "metadata": {},
     "output_type": "execute_result"
    },
    {
     "data": {
      "image/png": "[encoded data removed]",
      "text/plain": [
       "<Figure size 640x480 with 1 Axes>"
      ]
     },
     "metadata": {},
     "output_type": "display_data"
    }
   ],
   "source": [
    "(state['Population']/1000000).plot.box()"
   ]
  },
  {
   "cell_type": "code",
   "execution_count": 23,
   "id": "e95ce561",
   "metadata": {},
   "outputs": [
    {
     "data": {
      "text/plain": [
       "Text(0, 0.5, 'Population (millions)')"
      ]
     },
     "execution_count": 23,
     "metadata": {},
     "output_type": "execute_result"
    },
    {
     "data": {
      "image/png": "[encoded data removed]",
      "text/plain": [
       "<Figure size 640x480 with 1 Axes>"
      ]
     },
     "metadata": {},
     "output_type": "display_data"
    }
   ],
   "source": [
    "ax = (state['Population']/1000000).plot.box()\n",
    "ax.set_ylabel('Population (millions)')"
   ]
  },
  {
   "cell_type": "code",
   "execution_count": 24,
   "id": "4ed6d4ef",
   "metadata": {},
   "outputs": [
    {
     "data": {
      "text/plain": [
       "0.25    1.833004\n",
       "0.50    4.436369\n",
       "0.75    6.680312\n",
       "Name: Population, dtype: float64"
      ]
     },
     "execution_count": 24,
     "metadata": {},
     "output_type": "execute_result"
    }
   ],
   "source": [
    "(state['Population']/1000000).quantile([0.25, 0.5, 0.75])"
   ]
  },
  {
   "cell_type": "code",
   "execution_count": 25,
   "id": "c5573173",
   "metadata": {},
   "outputs": [
    {
     "data": {
      "text/html": [
       "<div>\n",
       "<style scoped>\n",
       "    .dataframe tbody tr th:only-of-type {\n",
       "        vertical-align: middle;\n",
       "    }\n",
       "\n",
       "    .dataframe tbody tr th {\n",
       "        vertical-align: top;\n",
       "    }\n",
       "\n",
       "    .dataframe thead th {\n",
       "        text-align: right;\n",
       "    }\n",
       "</style>\n",
       "<table border=\"1\" class=\"dataframe\">\n",
       "  <thead>\n",
       "    <tr style=\"text-align: right;\">\n",
       "      <th></th>\n",
       "      <th>Population</th>\n",
       "      <th>Murder.Rate</th>\n",
       "    </tr>\n",
       "  </thead>\n",
       "  <tbody>\n",
       "    <tr>\n",
       "      <th>count</th>\n",
       "      <td>5.000000e+01</td>\n",
       "      <td>50.000000</td>\n",
       "    </tr>\n",
       "    <tr>\n",
       "      <th>mean</th>\n",
       "      <td>6.162876e+06</td>\n",
       "      <td>4.066000</td>\n",
       "    </tr>\n",
       "    <tr>\n",
       "      <th>std</th>\n",
       "      <td>6.848235e+06</td>\n",
       "      <td>1.915736</td>\n",
       "    </tr>\n",
       "    <tr>\n",
       "      <th>min</th>\n",
       "      <td>5.636260e+05</td>\n",
       "      <td>0.900000</td>\n",
       "    </tr>\n",
       "    <tr>\n",
       "      <th>25%</th>\n",
       "      <td>1.833004e+06</td>\n",
       "      <td>2.425000</td>\n",
       "    </tr>\n",
       "    <tr>\n",
       "      <th>50%</th>\n",
       "      <td>4.436370e+06</td>\n",
       "      <td>4.000000</td>\n",
       "    </tr>\n",
       "    <tr>\n",
       "      <th>75%</th>\n",
       "      <td>6.680312e+06</td>\n",
       "      <td>5.550000</td>\n",
       "    </tr>\n",
       "    <tr>\n",
       "      <th>max</th>\n",
       "      <td>3.725396e+07</td>\n",
       "      <td>10.300000</td>\n",
       "    </tr>\n",
       "  </tbody>\n",
       "</table>\n",
       "</div>"
      ],
      "text/plain": [
       "         Population  Murder.Rate\n",
       "count  5.000000e+01    50.000000\n",
       "mean   6.162876e+06     4.066000\n",
       "std    6.848235e+06     1.915736\n",
       "min    5.636260e+05     0.900000\n",
       "25%    1.833004e+06     2.425000\n",
       "50%    4.436370e+06     4.000000\n",
       "75%    6.680312e+06     5.550000\n",
       "max    3.725396e+07    10.300000"
      ]
     },
     "execution_count": 25,
     "metadata": {},
     "output_type": "execute_result"
    }
   ],
   "source": [
    "state.describe()"
   ]
  },
  {
   "cell_type": "markdown",
   "id": "c8b3774b",
   "metadata": {},
   "source": [
    "- skewness: $$\\frac{\\mu-\\nu}{\\sigma}$$\n",
    "where $\\mu$ is the mean, $\\nu$ is median and $\\sigma$ is std"
   ]
  },
  {
   "cell_type": "markdown",
   "id": "d84ac60c",
   "metadata": {},
   "source": [
    "## Frequency table"
   ]
  },
  {
   "cell_type": "code",
   "execution_count": 26,
   "id": "ba90bc95",
   "metadata": {},
   "outputs": [
    {
     "data": {
      "text/plain": [
       "0      4779736\n",
       "1       710231\n",
       "2      6392017\n",
       "3      2915918\n",
       "4     37253956\n",
       "5      5029196\n",
       "6      3574097\n",
       "7       897934\n",
       "8     18801310\n",
       "9      9687653\n",
       "10     1360301\n",
       "11     1567582\n",
       "12    12830632\n",
       "13     6483802\n",
       "14     3046355\n",
       "15     2853118\n",
       "16     4339367\n",
       "17     4533372\n",
       "18     1328361\n",
       "19     5773552\n",
       "20     6547629\n",
       "21     9883640\n",
       "22     5303925\n",
       "23     2967297\n",
       "24     5988927\n",
       "25      989415\n",
       "26     1826341\n",
       "27     2700551\n",
       "28     1316470\n",
       "29     8791894\n",
       "30     2059179\n",
       "31    19378102\n",
       "32     9535483\n",
       "33      672591\n",
       "34    11536504\n",
       "35     3751351\n",
       "36     3831074\n",
       "37    12702379\n",
       "38     1052567\n",
       "39     4625364\n",
       "40      814180\n",
       "41     6346105\n",
       "42    25145561\n",
       "43     2763885\n",
       "44      625741\n",
       "45     8001024\n",
       "46     6724540\n",
       "47     1852994\n",
       "48     5686986\n",
       "49      563626\n",
       "Name: Population, dtype: int64"
      ]
     },
     "execution_count": 26,
     "metadata": {},
     "output_type": "execute_result"
    }
   ],
   "source": [
    "state['Population']"
   ]
  },
  {
   "cell_type": "code",
   "execution_count": 27,
   "id": "8649aa7f",
   "metadata": {},
   "outputs": [
    {
     "data": {
      "text/plain": [
       "49      563626\n",
       "44      625741\n",
       "33      672591\n",
       "1       710231\n",
       "40      814180\n",
       "7       897934\n",
       "25      989415\n",
       "38     1052567\n",
       "28     1316470\n",
       "18     1328361\n",
       "10     1360301\n",
       "11     1567582\n",
       "26     1826341\n",
       "47     1852994\n",
       "30     2059179\n",
       "27     2700551\n",
       "43     2763885\n",
       "15     2853118\n",
       "3      2915918\n",
       "23     2967297\n",
       "14     3046355\n",
       "6      3574097\n",
       "35     3751351\n",
       "36     3831074\n",
       "16     4339367\n",
       "17     4533372\n",
       "39     4625364\n",
       "0      4779736\n",
       "5      5029196\n",
       "22     5303925\n",
       "48     5686986\n",
       "19     5773552\n",
       "24     5988927\n",
       "41     6346105\n",
       "2      6392017\n",
       "13     6483802\n",
       "20     6547629\n",
       "46     6724540\n",
       "45     8001024\n",
       "29     8791894\n",
       "32     9535483\n",
       "9      9687653\n",
       "21     9883640\n",
       "34    11536504\n",
       "37    12702379\n",
       "12    12830632\n",
       "8     18801310\n",
       "31    19378102\n",
       "42    25145561\n",
       "4     37253956\n",
       "Name: Population, dtype: int64"
      ]
     },
     "execution_count": 27,
     "metadata": {},
     "output_type": "execute_result"
    }
   ],
   "source": [
    "state['Population'].sort_values()"
   ]
  },
  {
   "cell_type": "code",
   "execution_count": 28,
   "id": "9cfbe3a1",
   "metadata": {},
   "outputs": [
    {
     "data": {
      "text/plain": [
       "563626"
      ]
     },
     "execution_count": 28,
     "metadata": {},
     "output_type": "execute_result"
    }
   ],
   "source": [
    "state['Population'].min()"
   ]
  },
  {
   "cell_type": "code",
   "execution_count": 29,
   "id": "4007e60f",
   "metadata": {},
   "outputs": [
    {
     "data": {
      "text/plain": [
       "37253956"
      ]
     },
     "execution_count": 29,
     "metadata": {},
     "output_type": "execute_result"
    }
   ],
   "source": [
    "state['Population'].max()"
   ]
  },
  {
   "cell_type": "code",
   "execution_count": 30,
   "id": "5ce9d3a3",
   "metadata": {},
   "outputs": [
    {
     "data": {
      "text/plain": [
       "49     1\n",
       "44     1\n",
       "33     1\n",
       "1      1\n",
       "40     1\n",
       "7      1\n",
       "25     1\n",
       "38     1\n",
       "28     1\n",
       "18     1\n",
       "10     1\n",
       "11     1\n",
       "26     1\n",
       "47     1\n",
       "30     1\n",
       "27     1\n",
       "43     1\n",
       "15     1\n",
       "3      1\n",
       "23     1\n",
       "14     1\n",
       "6      1\n",
       "35     1\n",
       "36     1\n",
       "16     2\n",
       "17     2\n",
       "39     2\n",
       "0      2\n",
       "5      2\n",
       "22     2\n",
       "48     2\n",
       "19     2\n",
       "24     2\n",
       "41     2\n",
       "2      2\n",
       "13     2\n",
       "20     2\n",
       "46     2\n",
       "45     3\n",
       "29     3\n",
       "32     3\n",
       "9      3\n",
       "21     3\n",
       "34     3\n",
       "37     4\n",
       "12     4\n",
       "8      5\n",
       "31     6\n",
       "42     7\n",
       "4     10\n",
       "Name: Population, dtype: category\n",
       "Categories (10, int64): [1 < 2 < 3 < 4 ... 7 < 8 < 9 < 10]"
      ]
     },
     "execution_count": 30,
     "metadata": {},
     "output_type": "execute_result"
    }
   ],
   "source": [
    "pd.cut(state['Population'].sort_values(), 10, labels=[1,2,3,4,5,6,7,8,9,10])"
   ]
  },
  {
   "cell_type": "code",
   "execution_count": 31,
   "id": "317a10e8",
   "metadata": {},
   "outputs": [
    {
     "data": {
      "text/plain": [
       "49      (526935.67, 4232659.0]\n",
       "44      (526935.67, 4232659.0]\n",
       "33      (526935.67, 4232659.0]\n",
       "1       (526935.67, 4232659.0]\n",
       "40      (526935.67, 4232659.0]\n",
       "7       (526935.67, 4232659.0]\n",
       "25      (526935.67, 4232659.0]\n",
       "38      (526935.67, 4232659.0]\n",
       "28      (526935.67, 4232659.0]\n",
       "18      (526935.67, 4232659.0]\n",
       "10      (526935.67, 4232659.0]\n",
       "11      (526935.67, 4232659.0]\n",
       "26      (526935.67, 4232659.0]\n",
       "47      (526935.67, 4232659.0]\n",
       "30      (526935.67, 4232659.0]\n",
       "27      (526935.67, 4232659.0]\n",
       "43      (526935.67, 4232659.0]\n",
       "15      (526935.67, 4232659.0]\n",
       "3       (526935.67, 4232659.0]\n",
       "23      (526935.67, 4232659.0]\n",
       "14      (526935.67, 4232659.0]\n",
       "6       (526935.67, 4232659.0]\n",
       "35      (526935.67, 4232659.0]\n",
       "36      (526935.67, 4232659.0]\n",
       "16      (4232659.0, 7901692.0]\n",
       "17      (4232659.0, 7901692.0]\n",
       "39      (4232659.0, 7901692.0]\n",
       "0       (4232659.0, 7901692.0]\n",
       "5       (4232659.0, 7901692.0]\n",
       "22      (4232659.0, 7901692.0]\n",
       "48      (4232659.0, 7901692.0]\n",
       "19      (4232659.0, 7901692.0]\n",
       "24      (4232659.0, 7901692.0]\n",
       "41      (4232659.0, 7901692.0]\n",
       "2       (4232659.0, 7901692.0]\n",
       "13      (4232659.0, 7901692.0]\n",
       "20      (4232659.0, 7901692.0]\n",
       "46      (4232659.0, 7901692.0]\n",
       "45     (7901692.0, 11570725.0]\n",
       "29     (7901692.0, 11570725.0]\n",
       "32     (7901692.0, 11570725.0]\n",
       "9      (7901692.0, 11570725.0]\n",
       "21     (7901692.0, 11570725.0]\n",
       "34     (7901692.0, 11570725.0]\n",
       "37    (11570725.0, 15239758.0]\n",
       "12    (11570725.0, 15239758.0]\n",
       "8     (15239758.0, 18908791.0]\n",
       "31    (18908791.0, 22577824.0]\n",
       "42    (22577824.0, 26246857.0]\n",
       "4     (33584923.0, 37253956.0]\n",
       "Name: Population, dtype: category\n",
       "Categories (10, interval[float64, right]): [(526935.67, 4232659.0] < (4232659.0, 7901692.0] < (7901692.0, 11570725.0] < (11570725.0, 15239758.0] ... (22577824.0, 26246857.0] < (26246857.0, 29915890.0] < (29915890.0, 33584923.0] < (33584923.0, 37253956.0]]"
      ]
     },
     "execution_count": 31,
     "metadata": {},
     "output_type": "execute_result"
    }
   ],
   "source": [
    "pd.cut(state['Population'].sort_values(), 10)"
   ]
  },
  {
   "cell_type": "code",
   "execution_count": 32,
   "id": "863e12c4",
   "metadata": {},
   "outputs": [
    {
     "data": {
      "text/plain": [
       "0       (4232659.0, 7901692.0]\n",
       "1       (526935.67, 4232659.0]\n",
       "2       (4232659.0, 7901692.0]\n",
       "3       (526935.67, 4232659.0]\n",
       "4     (33584923.0, 37253956.0]\n",
       "5       (4232659.0, 7901692.0]\n",
       "6       (526935.67, 4232659.0]\n",
       "7       (526935.67, 4232659.0]\n",
       "8     (15239758.0, 18908791.0]\n",
       "9      (7901692.0, 11570725.0]\n",
       "10      (526935.67, 4232659.0]\n",
       "11      (526935.67, 4232659.0]\n",
       "12    (11570725.0, 15239758.0]\n",
       "13      (4232659.0, 7901692.0]\n",
       "14      (526935.67, 4232659.0]\n",
       "15      (526935.67, 4232659.0]\n",
       "16      (4232659.0, 7901692.0]\n",
       "17      (4232659.0, 7901692.0]\n",
       "18      (526935.67, 4232659.0]\n",
       "19      (4232659.0, 7901692.0]\n",
       "20      (4232659.0, 7901692.0]\n",
       "21     (7901692.0, 11570725.0]\n",
       "22      (4232659.0, 7901692.0]\n",
       "23      (526935.67, 4232659.0]\n",
       "24      (4232659.0, 7901692.0]\n",
       "25      (526935.67, 4232659.0]\n",
       "26      (526935.67, 4232659.0]\n",
       "27      (526935.67, 4232659.0]\n",
       "28      (526935.67, 4232659.0]\n",
       "29     (7901692.0, 11570725.0]\n",
       "30      (526935.67, 4232659.0]\n",
       "31    (18908791.0, 22577824.0]\n",
       "32     (7901692.0, 11570725.0]\n",
       "33      (526935.67, 4232659.0]\n",
       "34     (7901692.0, 11570725.0]\n",
       "35      (526935.67, 4232659.0]\n",
       "36      (526935.67, 4232659.0]\n",
       "37    (11570725.0, 15239758.0]\n",
       "38      (526935.67, 4232659.0]\n",
       "39      (4232659.0, 7901692.0]\n",
       "40      (526935.67, 4232659.0]\n",
       "41      (4232659.0, 7901692.0]\n",
       "42    (22577824.0, 26246857.0]\n",
       "43      (526935.67, 4232659.0]\n",
       "44      (526935.67, 4232659.0]\n",
       "45     (7901692.0, 11570725.0]\n",
       "46      (4232659.0, 7901692.0]\n",
       "47      (526935.67, 4232659.0]\n",
       "48      (4232659.0, 7901692.0]\n",
       "49      (526935.67, 4232659.0]\n",
       "Name: Population, dtype: category\n",
       "Categories (10, interval[float64, right]): [(526935.67, 4232659.0] < (4232659.0, 7901692.0] < (7901692.0, 11570725.0] < (11570725.0, 15239758.0] ... (22577824.0, 26246857.0] < (26246857.0, 29915890.0] < (29915890.0, 33584923.0] < (33584923.0, 37253956.0]]"
      ]
     },
     "execution_count": 32,
     "metadata": {},
     "output_type": "execute_result"
    }
   ],
   "source": [
    "binnedPopulation = pd.cut(state['Population'],10)\n",
    "binnedPopulation"
   ]
  },
  {
   "cell_type": "code",
   "execution_count": 33,
   "id": "161ecd03",
   "metadata": {},
   "outputs": [
    {
     "data": {
      "text/plain": [
       "Population\n",
       "(526935.67, 4232659.0]      24\n",
       "(4232659.0, 7901692.0]      14\n",
       "(7901692.0, 11570725.0]      6\n",
       "(11570725.0, 15239758.0]     2\n",
       "(15239758.0, 18908791.0]     1\n",
       "(18908791.0, 22577824.0]     1\n",
       "(22577824.0, 26246857.0]     1\n",
       "(33584923.0, 37253956.0]     1\n",
       "(26246857.0, 29915890.0]     0\n",
       "(29915890.0, 33584923.0]     0\n",
       "Name: count, dtype: int64"
      ]
     },
     "execution_count": 33,
     "metadata": {},
     "output_type": "execute_result"
    }
   ],
   "source": [
    "binnedPopulation.value_counts()"
   ]
  },
  {
   "cell_type": "code",
   "execution_count": 34,
   "id": "c7e4dfa8",
   "metadata": {},
   "outputs": [
    {
     "data": {
      "text/plain": [
       "37253956"
      ]
     },
     "execution_count": 34,
     "metadata": {},
     "output_type": "execute_result"
    }
   ],
   "source": [
    "state['Population'].max()"
   ]
  },
  {
   "cell_type": "code",
   "execution_count": 35,
   "id": "8f8b1488",
   "metadata": {},
   "outputs": [
    {
     "data": {
      "text/plain": [
       "563626"
      ]
     },
     "execution_count": 35,
     "metadata": {},
     "output_type": "execute_result"
    }
   ],
   "source": [
    "state['Population'].min()"
   ]
  },
  {
   "cell_type": "code",
   "execution_count": 36,
   "id": "f70f95ed",
   "metadata": {},
   "outputs": [
    {
     "data": {
      "text/plain": [
       "560244.2440000001"
      ]
     },
     "execution_count": 36,
     "metadata": {},
     "output_type": "execute_result"
    }
   ],
   "source": [
    "99.4/100*state['Population'].min()"
   ]
  },
  {
   "cell_type": "markdown",
   "id": "24063d99",
   "metadata": {},
   "source": [
    "## Histogram"
   ]
  },
  {
   "cell_type": "code",
   "execution_count": 37,
   "id": "b0136b1e",
   "metadata": {},
   "outputs": [
    {
     "data": {
      "text/plain": [
       "Text(0.5, 0, 'Population (millions)')"
      ]
     },
     "execution_count": 37,
     "metadata": {},
     "output_type": "execute_result"
    },
    {
     "data": {
      "image/png": "[encoded data removed]",
      "text/plain": [
       "<Figure size 400x400 with 1 Axes>"
      ]
     },
     "metadata": {},
     "output_type": "display_data"
    }
   ],
   "source": [
    "ax = (state['Population']/1000000).plot.hist(figsize=(4,4), bins=5)\n",
    "ax.set_xlabel('Population (millions)')"
   ]
  },
  {
   "cell_type": "code",
   "execution_count": 38,
   "id": "8fec0ebe",
   "metadata": {},
   "outputs": [
    {
     "data": {
      "text/plain": [
       "Text(0.5, 0, 'Population (millions)')"
      ]
     },
     "execution_count": 38,
     "metadata": {},
     "output_type": "execute_result"
    },
    {
     "data": {
      "image/png": "[encoded data removed]",
      "text/plain": [
       "<Figure size 400x400 with 1 Axes>"
      ]
     },
     "metadata": {},
     "output_type": "display_data"
    }
   ],
   "source": [
    "ax = (state['Population']/1000000).plot.hist(figsize=(4,4), bins=10)\n",
    "ax.set_xlabel('Population (millions)')"
   ]
  },
  {
   "cell_type": "code",
   "execution_count": 39,
   "id": "742cb6a2",
   "metadata": {},
   "outputs": [
    {
     "data": {
      "text/plain": [
       "Text(0.5, 0, 'Population (millions)')"
      ]
     },
     "execution_count": 39,
     "metadata": {},
     "output_type": "execute_result"
    },
    {
     "data": {
      "image/png": "[encoded data removed]",
      "text/plain": [
       "<Figure size 400x400 with 1 Axes>"
      ]
     },
     "metadata": {},
     "output_type": "display_data"
    }
   ],
   "source": [
    "ax = (state['Population']/1000000).plot.hist(figsize=(4,4), bins=20)\n",
    "ax.set_xlabel('Population (millions)')"
   ]
  },
  {
   "cell_type": "code",
   "execution_count": 40,
   "id": "a56f369f",
   "metadata": {},
   "outputs": [
    {
     "data": {
      "text/plain": [
       "37253956"
      ]
     },
     "execution_count": 40,
     "metadata": {},
     "output_type": "execute_result"
    }
   ],
   "source": [
    "state['Population'].max()"
   ]
  },
  {
   "cell_type": "markdown",
   "id": "ca0bb21f",
   "metadata": {},
   "source": [
    "## Density plot"
   ]
  },
  {
   "cell_type": "code",
   "execution_count": 41,
   "id": "766f63c2",
   "metadata": {},
   "outputs": [
    {
     "data": {
      "text/plain": [
       "count    50.000000\n",
       "mean      4.066000\n",
       "std       1.915736\n",
       "min       0.900000\n",
       "25%       2.425000\n",
       "50%       4.000000\n",
       "75%       5.550000\n",
       "max      10.300000\n",
       "Name: Murder.Rate, dtype: float64"
      ]
     },
     "execution_count": 41,
     "metadata": {},
     "output_type": "execute_result"
    }
   ],
   "source": [
    "state['Murder.Rate'].describe()"
   ]
  },
  {
   "cell_type": "code",
   "execution_count": 42,
   "id": "4d7059be",
   "metadata": {},
   "outputs": [
    {
     "data": {
      "image/png": "[encoded data removed]",
      "text/plain": [
       "<Figure size 640x480 with 1 Axes>"
      ]
     },
     "metadata": {},
     "output_type": "display_data"
    }
   ],
   "source": [
    "ax = state['Murder.Rate'].plot.hist(density=True, xlim=[0,12], bins=range(1,12))"
   ]
  },
  {
   "cell_type": "markdown",
   "id": "52244c00",
   "metadata": {},
   "source": [
    "- density = True: counts become counts/total, insteaf of raw counts --> similar to pdf\n",
    "- for each bin, its height is the probability that data belongs to it"
   ]
  },
  {
   "cell_type": "code",
   "execution_count": 43,
   "id": "bb42a871",
   "metadata": {},
   "outputs": [
    {
     "data": {
      "image/png": "[encoded data removed]",
      "text/plain": [
       "<Figure size 640x480 with 1 Axes>"
      ]
     },
     "metadata": {},
     "output_type": "display_data"
    }
   ],
   "source": [
    "ax = state['Murder.Rate'].plot.hist(bins=range(1,12))"
   ]
  },
  {
   "cell_type": "code",
   "execution_count": 44,
   "id": "8da692ff",
   "metadata": {},
   "outputs": [
    {
     "data": {
      "text/plain": [
       "<Axes: ylabel='Density'>"
      ]
     },
     "execution_count": 44,
     "metadata": {},
     "output_type": "execute_result"
    },
    {
     "data": {
      "image/png": "[encoded data removed]",
      "text/plain": [
       "<Figure size 640x480 with 1 Axes>"
      ]
     },
     "metadata": {},
     "output_type": "display_data"
    }
   ],
   "source": [
    "state['Murder.Rate'].plot.density()"
   ]
  },
  {
   "cell_type": "code",
   "execution_count": 45,
   "id": "2b066d04",
   "metadata": {},
   "outputs": [
    {
     "data": {
      "text/plain": [
       "Text(0.5, 0, 'Murder Rate (per 100,000)')"
      ]
     },
     "execution_count": 45,
     "metadata": {},
     "output_type": "execute_result"
    },
    {
     "data": {
      "image/png": "[encoded data removed]",
      "text/plain": [
       "<Figure size 640x480 with 1 Axes>"
      ]
     },
     "metadata": {},
     "output_type": "display_data"
    }
   ],
   "source": [
    "# on the same graph\n",
    "ax = state['Murder.Rate'].plot.hist(density=True, xlim=[0,12], bins=range(1,12))\n",
    "state['Murder.Rate'].plot.density(ax=ax)\n",
    "ax.set_xlabel('Murder Rate (per 100,000)')"
   ]
  },
  {
   "cell_type": "markdown",
   "id": "b71253ba",
   "metadata": {},
   "source": [
    "## Binary and categorical data"
   ]
  },
  {
   "cell_type": "code",
   "execution_count": 46,
   "id": "41a77a8a",
   "metadata": {},
   "outputs": [],
   "source": [
    "dfw = pd.read_csv(\"dfw_airline.csv\")"
   ]
  },
  {
   "cell_type": "code",
   "execution_count": 47,
   "id": "6e12ba99",
   "metadata": {},
   "outputs": [
    {
     "data": {
      "text/html": [
       "<div>\n",
       "<style scoped>\n",
       "    .dataframe tbody tr th:only-of-type {\n",
       "        vertical-align: middle;\n",
       "    }\n",
       "\n",
       "    .dataframe tbody tr th {\n",
       "        vertical-align: top;\n",
       "    }\n",
       "\n",
       "    .dataframe thead th {\n",
       "        text-align: right;\n",
       "    }\n",
       "</style>\n",
       "<table border=\"1\" class=\"dataframe\">\n",
       "  <thead>\n",
       "    <tr style=\"text-align: right;\">\n",
       "      <th></th>\n",
       "      <th>Carrier</th>\n",
       "      <th>ATC</th>\n",
       "      <th>Weather</th>\n",
       "      <th>Security</th>\n",
       "      <th>Inbound</th>\n",
       "    </tr>\n",
       "  </thead>\n",
       "  <tbody>\n",
       "    <tr>\n",
       "      <th>0</th>\n",
       "      <td>64263.16</td>\n",
       "      <td>84856.5</td>\n",
       "      <td>11235.42</td>\n",
       "      <td>343.15</td>\n",
       "      <td>118427.82</td>\n",
       "    </tr>\n",
       "  </tbody>\n",
       "</table>\n",
       "</div>"
      ],
      "text/plain": [
       "    Carrier      ATC   Weather  Security    Inbound\n",
       "0  64263.16  84856.5  11235.42    343.15  118427.82"
      ]
     },
     "execution_count": 47,
     "metadata": {},
     "output_type": "execute_result"
    }
   ],
   "source": [
    "dfw"
   ]
  },
  {
   "cell_type": "code",
   "execution_count": 48,
   "id": "90d0427d",
   "metadata": {},
   "outputs": [
    {
     "data": {
      "text/plain": [
       "<Axes: >"
      ]
     },
     "execution_count": 48,
     "metadata": {},
     "output_type": "execute_result"
    },
    {
     "data": {
      "image/png": "[encoded data removed]",
      "text/plain": [
       "<Figure size 640x480 with 1 Axes>"
      ]
     },
     "metadata": {},
     "output_type": "display_data"
    }
   ],
   "source": [
    "dfw.plot.bar()"
   ]
  },
  {
   "cell_type": "code",
   "execution_count": 49,
   "id": "ec846d79",
   "metadata": {},
   "outputs": [
    {
     "data": {
      "text/html": [
       "<div>\n",
       "<style scoped>\n",
       "    .dataframe tbody tr th:only-of-type {\n",
       "        vertical-align: middle;\n",
       "    }\n",
       "\n",
       "    .dataframe tbody tr th {\n",
       "        vertical-align: top;\n",
       "    }\n",
       "\n",
       "    .dataframe thead th {\n",
       "        text-align: right;\n",
       "    }\n",
       "</style>\n",
       "<table border=\"1\" class=\"dataframe\">\n",
       "  <thead>\n",
       "    <tr style=\"text-align: right;\">\n",
       "      <th></th>\n",
       "      <th>0</th>\n",
       "    </tr>\n",
       "  </thead>\n",
       "  <tbody>\n",
       "    <tr>\n",
       "      <th>Carrier</th>\n",
       "      <td>64263.16</td>\n",
       "    </tr>\n",
       "    <tr>\n",
       "      <th>ATC</th>\n",
       "      <td>84856.50</td>\n",
       "    </tr>\n",
       "    <tr>\n",
       "      <th>Weather</th>\n",
       "      <td>11235.42</td>\n",
       "    </tr>\n",
       "    <tr>\n",
       "      <th>Security</th>\n",
       "      <td>343.15</td>\n",
       "    </tr>\n",
       "    <tr>\n",
       "      <th>Inbound</th>\n",
       "      <td>118427.82</td>\n",
       "    </tr>\n",
       "  </tbody>\n",
       "</table>\n",
       "</div>"
      ],
      "text/plain": [
       "                  0\n",
       "Carrier    64263.16\n",
       "ATC        84856.50\n",
       "Weather    11235.42\n",
       "Security     343.15\n",
       "Inbound   118427.82"
      ]
     },
     "execution_count": 49,
     "metadata": {},
     "output_type": "execute_result"
    }
   ],
   "source": [
    "dfw.transpose()"
   ]
  },
  {
   "cell_type": "code",
   "execution_count": 50,
   "id": "807665df",
   "metadata": {},
   "outputs": [
    {
     "data": {
      "text/plain": [
       "<Axes: >"
      ]
     },
     "execution_count": 50,
     "metadata": {},
     "output_type": "execute_result"
    },
    {
     "data": {
      "image/png": "[encoded data removed]",
      "text/plain": [
       "<Figure size 640x480 with 1 Axes>"
      ]
     },
     "metadata": {},
     "output_type": "display_data"
    }
   ],
   "source": [
    "dfw.transpose().plot.bar()"
   ]
  },
  {
   "cell_type": "code",
   "execution_count": 51,
   "id": "ae28d2c8",
   "metadata": {},
   "outputs": [
    {
     "data": {
      "text/plain": [
       "Text(0, 0.5, 'Count')"
      ]
     },
     "execution_count": 51,
     "metadata": {},
     "output_type": "execute_result"
    },
    {
     "data": {
      "image/png": "[encoded data removed]",
      "text/plain": [
       "<Figure size 400x400 with 1 Axes>"
      ]
     },
     "metadata": {},
     "output_type": "display_data"
    }
   ],
   "source": [
    "ax = dfw.transpose().plot.bar(figsize=(4,4), legend=False)\n",
    "ax.set_xlabel('Cause of delay')\n",
    "ax.set_ylabel('Count')"
   ]
  },
  {
   "cell_type": "code",
   "execution_count": 52,
   "id": "144be263",
   "metadata": {},
   "outputs": [
    {
     "data": {
      "text/plain": [
       "Index(['Carrier', 'ATC', 'Weather', 'Security', 'Inbound'], dtype='object')"
      ]
     },
     "execution_count": 52,
     "metadata": {},
     "output_type": "execute_result"
    }
   ],
   "source": [
    "dfw.transpose().index"
   ]
  },
  {
   "cell_type": "code",
   "execution_count": 53,
   "id": "f46d330a",
   "metadata": {},
   "outputs": [
    {
     "data": {
      "text/plain": [
       "RangeIndex(start=0, stop=1, step=1)"
      ]
     },
     "execution_count": 53,
     "metadata": {},
     "output_type": "execute_result"
    }
   ],
   "source": [
    "dfw.transpose().columns"
   ]
  },
  {
   "cell_type": "markdown",
   "id": "9103864c",
   "metadata": {},
   "source": [
    "## Correlation matrix"
   ]
  },
  {
   "cell_type": "code",
   "execution_count": 54,
   "id": "8603779b",
   "metadata": {},
   "outputs": [
    {
     "data": {
      "text/html": [
       "<div>\n",
       "<style scoped>\n",
       "    .dataframe tbody tr th:only-of-type {\n",
       "        vertical-align: middle;\n",
       "    }\n",
       "\n",
       "    .dataframe tbody tr th {\n",
       "        vertical-align: top;\n",
       "    }\n",
       "\n",
       "    .dataframe thead th {\n",
       "        text-align: right;\n",
       "    }\n",
       "</style>\n",
       "<table border=\"1\" class=\"dataframe\">\n",
       "  <thead>\n",
       "    <tr style=\"text-align: right;\">\n",
       "      <th></th>\n",
       "      <th>ADS</th>\n",
       "      <th>CA</th>\n",
       "      <th>MSFT</th>\n",
       "      <th>RHT</th>\n",
       "      <th>CTSH</th>\n",
       "      <th>CSC</th>\n",
       "      <th>EMC</th>\n",
       "      <th>IBM</th>\n",
       "      <th>XRX</th>\n",
       "      <th>ALTR</th>\n",
       "      <th>...</th>\n",
       "      <th>WAT</th>\n",
       "      <th>ALXN</th>\n",
       "      <th>AMGN</th>\n",
       "      <th>BXLT</th>\n",
       "      <th>BIIB</th>\n",
       "      <th>CELG</th>\n",
       "      <th>GILD</th>\n",
       "      <th>REGN</th>\n",
       "      <th>VRTX</th>\n",
       "      <th>HSIC</th>\n",
       "    </tr>\n",
       "  </thead>\n",
       "  <tbody>\n",
       "    <tr>\n",
       "      <th>1993-01-29</th>\n",
       "      <td>0.0</td>\n",
       "      <td>0.060124</td>\n",
       "      <td>-0.022100</td>\n",
       "      <td>0.0</td>\n",
       "      <td>0.0</td>\n",
       "      <td>0.018897</td>\n",
       "      <td>0.007368</td>\n",
       "      <td>0.092165</td>\n",
       "      <td>0.259140</td>\n",
       "      <td>-0.007105</td>\n",
       "      <td>...</td>\n",
       "      <td>0.0</td>\n",
       "      <td>0.0</td>\n",
       "      <td>0.34716</td>\n",
       "      <td>0.0</td>\n",
       "      <td>0.04167</td>\n",
       "      <td>0.00000</td>\n",
       "      <td>0.015564</td>\n",
       "      <td>1.75</td>\n",
       "      <td>0.1250</td>\n",
       "      <td>0.0</td>\n",
       "    </tr>\n",
       "    <tr>\n",
       "      <th>1993-02-01</th>\n",
       "      <td>0.0</td>\n",
       "      <td>-0.180389</td>\n",
       "      <td>0.027621</td>\n",
       "      <td>0.0</td>\n",
       "      <td>0.0</td>\n",
       "      <td>0.018889</td>\n",
       "      <td>0.018425</td>\n",
       "      <td>0.115207</td>\n",
       "      <td>-0.100775</td>\n",
       "      <td>0.063893</td>\n",
       "      <td>...</td>\n",
       "      <td>0.0</td>\n",
       "      <td>0.0</td>\n",
       "      <td>-0.23144</td>\n",
       "      <td>0.0</td>\n",
       "      <td>0.00000</td>\n",
       "      <td>-0.01041</td>\n",
       "      <td>0.007782</td>\n",
       "      <td>1.25</td>\n",
       "      <td>0.1250</td>\n",
       "      <td>0.0</td>\n",
       "    </tr>\n",
       "    <tr>\n",
       "      <th>1993-02-02</th>\n",
       "      <td>0.0</td>\n",
       "      <td>-0.120257</td>\n",
       "      <td>0.035900</td>\n",
       "      <td>0.0</td>\n",
       "      <td>0.0</td>\n",
       "      <td>-0.075573</td>\n",
       "      <td>0.029482</td>\n",
       "      <td>-0.023041</td>\n",
       "      <td>0.028796</td>\n",
       "      <td>-0.014192</td>\n",
       "      <td>...</td>\n",
       "      <td>0.0</td>\n",
       "      <td>0.0</td>\n",
       "      <td>-0.11572</td>\n",
       "      <td>0.0</td>\n",
       "      <td>0.00000</td>\n",
       "      <td>0.00000</td>\n",
       "      <td>-0.007792</td>\n",
       "      <td>-0.25</td>\n",
       "      <td>0.0000</td>\n",
       "      <td>0.0</td>\n",
       "    </tr>\n",
       "    <tr>\n",
       "      <th>1993-02-03</th>\n",
       "      <td>0.0</td>\n",
       "      <td>0.060124</td>\n",
       "      <td>-0.024857</td>\n",
       "      <td>0.0</td>\n",
       "      <td>0.0</td>\n",
       "      <td>-0.151128</td>\n",
       "      <td>0.003689</td>\n",
       "      <td>-0.253454</td>\n",
       "      <td>-0.043190</td>\n",
       "      <td>-0.007105</td>\n",
       "      <td>...</td>\n",
       "      <td>0.0</td>\n",
       "      <td>0.0</td>\n",
       "      <td>-0.08679</td>\n",
       "      <td>0.0</td>\n",
       "      <td>0.04167</td>\n",
       "      <td>-0.04167</td>\n",
       "      <td>-0.038919</td>\n",
       "      <td>-0.50</td>\n",
       "      <td>0.0625</td>\n",
       "      <td>0.0</td>\n",
       "    </tr>\n",
       "    <tr>\n",
       "      <th>1993-02-04</th>\n",
       "      <td>0.0</td>\n",
       "      <td>-0.360770</td>\n",
       "      <td>-0.060757</td>\n",
       "      <td>0.0</td>\n",
       "      <td>0.0</td>\n",
       "      <td>0.113350</td>\n",
       "      <td>-0.022114</td>\n",
       "      <td>0.069862</td>\n",
       "      <td>0.000000</td>\n",
       "      <td>-0.007096</td>\n",
       "      <td>...</td>\n",
       "      <td>0.0</td>\n",
       "      <td>0.0</td>\n",
       "      <td>0.14465</td>\n",
       "      <td>0.0</td>\n",
       "      <td>-0.04166</td>\n",
       "      <td>-0.03126</td>\n",
       "      <td>-0.046711</td>\n",
       "      <td>0.00</td>\n",
       "      <td>0.0625</td>\n",
       "      <td>0.0</td>\n",
       "    </tr>\n",
       "  </tbody>\n",
       "</table>\n",
       "<p>5 rows × 517 columns</p>\n",
       "</div>"
      ],
      "text/plain": [
       "            ADS        CA      MSFT  RHT  CTSH       CSC       EMC       IBM  \\\n",
       "1993-01-29  0.0  0.060124 -0.022100  0.0   0.0  0.018897  0.007368  0.092165   \n",
       "1993-02-01  0.0 -0.180389  0.027621  0.0   0.0  0.018889  0.018425  0.115207   \n",
       "1993-02-02  0.0 -0.120257  0.035900  0.0   0.0 -0.075573  0.029482 -0.023041   \n",
       "1993-02-03  0.0  0.060124 -0.024857  0.0   0.0 -0.151128  0.003689 -0.253454   \n",
       "1993-02-04  0.0 -0.360770 -0.060757  0.0   0.0  0.113350 -0.022114  0.069862   \n",
       "\n",
       "                 XRX      ALTR  ...  WAT  ALXN     AMGN  BXLT     BIIB  \\\n",
       "1993-01-29  0.259140 -0.007105  ...  0.0   0.0  0.34716   0.0  0.04167   \n",
       "1993-02-01 -0.100775  0.063893  ...  0.0   0.0 -0.23144   0.0  0.00000   \n",
       "1993-02-02  0.028796 -0.014192  ...  0.0   0.0 -0.11572   0.0  0.00000   \n",
       "1993-02-03 -0.043190 -0.007105  ...  0.0   0.0 -0.08679   0.0  0.04167   \n",
       "1993-02-04  0.000000 -0.007096  ...  0.0   0.0  0.14465   0.0 -0.04166   \n",
       "\n",
       "               CELG      GILD  REGN    VRTX  HSIC  \n",
       "1993-01-29  0.00000  0.015564  1.75  0.1250   0.0  \n",
       "1993-02-01 -0.01041  0.007782  1.25  0.1250   0.0  \n",
       "1993-02-02  0.00000 -0.007792 -0.25  0.0000   0.0  \n",
       "1993-02-03 -0.04167 -0.038919 -0.50  0.0625   0.0  \n",
       "1993-02-04 -0.03126 -0.046711  0.00  0.0625   0.0  \n",
       "\n",
       "[5 rows x 517 columns]"
      ]
     },
     "execution_count": 54,
     "metadata": {},
     "output_type": "execute_result"
    }
   ],
   "source": [
    "sp500_px = pd.read_csv('sp500_data.csv', index_col=0)\n",
    "sp500_px.head()"
   ]
  },
  {
   "cell_type": "code",
   "execution_count": 55,
   "id": "306e8529",
   "metadata": {},
   "outputs": [
    {
     "data": {
      "text/plain": [
       "Index(['1993-01-29', '1993-02-01', '1993-02-02', '1993-02-03', '1993-02-04',\n",
       "       '1993-02-05', '1993-02-08', '1993-02-09', '1993-02-10', '1993-02-11',\n",
       "       ...\n",
       "       '2015-06-18', '2015-06-19', '2015-06-22', '2015-06-23', '2015-06-24',\n",
       "       '2015-06-25', '2015-06-26', '2015-06-29', '2015-06-30', '2015-07-01'],\n",
       "      dtype='object', length=5647)"
      ]
     },
     "execution_count": 55,
     "metadata": {},
     "output_type": "execute_result"
    }
   ],
   "source": [
    "sp500_px.index"
   ]
  },
  {
   "cell_type": "code",
   "execution_count": 56,
   "id": "fc80631c",
   "metadata": {},
   "outputs": [
    {
     "data": {
      "text/plain": [
       "str"
      ]
     },
     "execution_count": 56,
     "metadata": {},
     "output_type": "execute_result"
    }
   ],
   "source": [
    "type(sp500_px.index[0])"
   ]
  },
  {
   "cell_type": "code",
   "execution_count": 57,
   "id": "7d6eb9b5",
   "metadata": {},
   "outputs": [
    {
     "data": {
      "text/plain": [
       "True"
      ]
     },
     "execution_count": 57,
     "metadata": {},
     "output_type": "execute_result"
    }
   ],
   "source": [
    "'1993-01-29'<'2012-07-01'"
   ]
  },
  {
   "cell_type": "code",
   "execution_count": 58,
   "id": "9970de9d",
   "metadata": {},
   "outputs": [
    {
     "data": {
      "text/html": [
       "<div>\n",
       "<style scoped>\n",
       "    .dataframe tbody tr th:only-of-type {\n",
       "        vertical-align: middle;\n",
       "    }\n",
       "\n",
       "    .dataframe tbody tr th {\n",
       "        vertical-align: top;\n",
       "    }\n",
       "\n",
       "    .dataframe thead th {\n",
       "        text-align: right;\n",
       "    }\n",
       "</style>\n",
       "<table border=\"1\" class=\"dataframe\">\n",
       "  <thead>\n",
       "    <tr style=\"text-align: right;\">\n",
       "      <th></th>\n",
       "      <th>sector</th>\n",
       "      <th>sector_label</th>\n",
       "      <th>sub_sector</th>\n",
       "      <th>symbol</th>\n",
       "    </tr>\n",
       "  </thead>\n",
       "  <tbody>\n",
       "    <tr>\n",
       "      <th>0</th>\n",
       "      <td>information_technology</td>\n",
       "      <td>Technology</td>\n",
       "      <td>data_processing_&amp;_outsourced_services</td>\n",
       "      <td>ADS</td>\n",
       "    </tr>\n",
       "    <tr>\n",
       "      <th>1</th>\n",
       "      <td>information_technology</td>\n",
       "      <td>Technology</td>\n",
       "      <td>systems_software</td>\n",
       "      <td>CA</td>\n",
       "    </tr>\n",
       "    <tr>\n",
       "      <th>2</th>\n",
       "      <td>information_technology</td>\n",
       "      <td>Technology</td>\n",
       "      <td>systems_software</td>\n",
       "      <td>MSFT</td>\n",
       "    </tr>\n",
       "    <tr>\n",
       "      <th>3</th>\n",
       "      <td>information_technology</td>\n",
       "      <td>Technology</td>\n",
       "      <td>systems_software</td>\n",
       "      <td>RHT</td>\n",
       "    </tr>\n",
       "    <tr>\n",
       "      <th>4</th>\n",
       "      <td>information_technology</td>\n",
       "      <td>Technology</td>\n",
       "      <td>it_consulting_&amp;_services</td>\n",
       "      <td>CTSH</td>\n",
       "    </tr>\n",
       "  </tbody>\n",
       "</table>\n",
       "</div>"
      ],
      "text/plain": [
       "                   sector sector_label                             sub_sector  \\\n",
       "0  information_technology   Technology  data_processing_&_outsourced_services   \n",
       "1  information_technology   Technology                       systems_software   \n",
       "2  information_technology   Technology                       systems_software   \n",
       "3  information_technology   Technology                       systems_software   \n",
       "4  information_technology   Technology               it_consulting_&_services   \n",
       "\n",
       "  symbol  \n",
       "0    ADS  \n",
       "1     CA  \n",
       "2   MSFT  \n",
       "3    RHT  \n",
       "4   CTSH  "
      ]
     },
     "execution_count": 58,
     "metadata": {},
     "output_type": "execute_result"
    }
   ],
   "source": [
    "sp500_sym = pd.read_csv('sp500_sectors.csv')\n",
    "sp500_sym.head()"
   ]
  },
  {
   "cell_type": "code",
   "execution_count": 59,
   "id": "3a3976ff",
   "metadata": {},
   "outputs": [
    {
     "data": {
      "text/html": [
       "<div>\n",
       "<style scoped>\n",
       "    .dataframe tbody tr th:only-of-type {\n",
       "        vertical-align: middle;\n",
       "    }\n",
       "\n",
       "    .dataframe tbody tr th {\n",
       "        vertical-align: top;\n",
       "    }\n",
       "\n",
       "    .dataframe thead th {\n",
       "        text-align: right;\n",
       "    }\n",
       "</style>\n",
       "<table border=\"1\" class=\"dataframe\">\n",
       "  <thead>\n",
       "    <tr style=\"text-align: right;\">\n",
       "      <th></th>\n",
       "      <th>sector</th>\n",
       "      <th>sector_label</th>\n",
       "      <th>sub_sector</th>\n",
       "      <th>symbol</th>\n",
       "    </tr>\n",
       "  </thead>\n",
       "  <tbody>\n",
       "    <tr>\n",
       "      <th>315</th>\n",
       "      <td>etf</td>\n",
       "      <td>EFTs</td>\n",
       "      <td>industrials</td>\n",
       "      <td>XLI</td>\n",
       "    </tr>\n",
       "    <tr>\n",
       "      <th>316</th>\n",
       "      <td>etf</td>\n",
       "      <td>EFTs</td>\n",
       "      <td>broad</td>\n",
       "      <td>QQQ</td>\n",
       "    </tr>\n",
       "    <tr>\n",
       "      <th>317</th>\n",
       "      <td>etf</td>\n",
       "      <td>EFTs</td>\n",
       "      <td>broad</td>\n",
       "      <td>SPY</td>\n",
       "    </tr>\n",
       "    <tr>\n",
       "      <th>318</th>\n",
       "      <td>etf</td>\n",
       "      <td>EFTs</td>\n",
       "      <td>broad</td>\n",
       "      <td>DIA</td>\n",
       "    </tr>\n",
       "    <tr>\n",
       "      <th>319</th>\n",
       "      <td>etf</td>\n",
       "      <td>EFTs</td>\n",
       "      <td>broad</td>\n",
       "      <td>GLD</td>\n",
       "    </tr>\n",
       "    <tr>\n",
       "      <th>320</th>\n",
       "      <td>etf</td>\n",
       "      <td>EFTs</td>\n",
       "      <td>broad</td>\n",
       "      <td>VXX</td>\n",
       "    </tr>\n",
       "    <tr>\n",
       "      <th>321</th>\n",
       "      <td>etf</td>\n",
       "      <td>EFTs</td>\n",
       "      <td>broad</td>\n",
       "      <td>USO</td>\n",
       "    </tr>\n",
       "    <tr>\n",
       "      <th>322</th>\n",
       "      <td>etf</td>\n",
       "      <td>EFTs</td>\n",
       "      <td>broad</td>\n",
       "      <td>IWM</td>\n",
       "    </tr>\n",
       "    <tr>\n",
       "      <th>323</th>\n",
       "      <td>etf</td>\n",
       "      <td>EFTs</td>\n",
       "      <td>energy</td>\n",
       "      <td>XLE</td>\n",
       "    </tr>\n",
       "    <tr>\n",
       "      <th>324</th>\n",
       "      <td>etf</td>\n",
       "      <td>EFTs</td>\n",
       "      <td>consumer_discretionary</td>\n",
       "      <td>XLY</td>\n",
       "    </tr>\n",
       "    <tr>\n",
       "      <th>325</th>\n",
       "      <td>etf</td>\n",
       "      <td>EFTs</td>\n",
       "      <td>utilities</td>\n",
       "      <td>XLU</td>\n",
       "    </tr>\n",
       "    <tr>\n",
       "      <th>326</th>\n",
       "      <td>etf</td>\n",
       "      <td>EFTs</td>\n",
       "      <td>materials</td>\n",
       "      <td>XLB</td>\n",
       "    </tr>\n",
       "    <tr>\n",
       "      <th>327</th>\n",
       "      <td>etf</td>\n",
       "      <td>EFTs</td>\n",
       "      <td>telecommunications_services</td>\n",
       "      <td>XTL</td>\n",
       "    </tr>\n",
       "    <tr>\n",
       "      <th>328</th>\n",
       "      <td>etf</td>\n",
       "      <td>EFTs</td>\n",
       "      <td>health_care</td>\n",
       "      <td>XLV</td>\n",
       "    </tr>\n",
       "    <tr>\n",
       "      <th>329</th>\n",
       "      <td>etf</td>\n",
       "      <td>EFTs</td>\n",
       "      <td>consumer_staples</td>\n",
       "      <td>XLP</td>\n",
       "    </tr>\n",
       "    <tr>\n",
       "      <th>330</th>\n",
       "      <td>etf</td>\n",
       "      <td>EFTs</td>\n",
       "      <td>financials</td>\n",
       "      <td>XLF</td>\n",
       "    </tr>\n",
       "    <tr>\n",
       "      <th>331</th>\n",
       "      <td>etf</td>\n",
       "      <td>EFTs</td>\n",
       "      <td>information_technology</td>\n",
       "      <td>XLK</td>\n",
       "    </tr>\n",
       "  </tbody>\n",
       "</table>\n",
       "</div>"
      ],
      "text/plain": [
       "    sector sector_label                   sub_sector symbol\n",
       "315    etf         EFTs                  industrials    XLI\n",
       "316    etf         EFTs                        broad    QQQ\n",
       "317    etf         EFTs                        broad    SPY\n",
       "318    etf         EFTs                        broad    DIA\n",
       "319    etf         EFTs                        broad    GLD\n",
       "320    etf         EFTs                        broad    VXX\n",
       "321    etf         EFTs                        broad    USO\n",
       "322    etf         EFTs                        broad    IWM\n",
       "323    etf         EFTs                       energy    XLE\n",
       "324    etf         EFTs       consumer_discretionary    XLY\n",
       "325    etf         EFTs                    utilities    XLU\n",
       "326    etf         EFTs                    materials    XLB\n",
       "327    etf         EFTs  telecommunications_services    XTL\n",
       "328    etf         EFTs                  health_care    XLV\n",
       "329    etf         EFTs             consumer_staples    XLP\n",
       "330    etf         EFTs                   financials    XLF\n",
       "331    etf         EFTs       information_technology    XLK"
      ]
     },
     "execution_count": 59,
     "metadata": {},
     "output_type": "execute_result"
    }
   ],
   "source": [
    "sp500_sym[sp500_sym['sector'] == 'etf']"
   ]
  },
  {
   "cell_type": "code",
   "execution_count": 60,
   "id": "f7176651",
   "metadata": {},
   "outputs": [
    {
     "data": {
      "text/plain": [
       "315    XLI\n",
       "316    QQQ\n",
       "317    SPY\n",
       "318    DIA\n",
       "319    GLD\n",
       "320    VXX\n",
       "321    USO\n",
       "322    IWM\n",
       "323    XLE\n",
       "324    XLY\n",
       "325    XLU\n",
       "326    XLB\n",
       "327    XTL\n",
       "328    XLV\n",
       "329    XLP\n",
       "330    XLF\n",
       "331    XLK\n",
       "Name: symbol, dtype: object"
      ]
     },
     "execution_count": 60,
     "metadata": {},
     "output_type": "execute_result"
    }
   ],
   "source": [
    "sp500_sym[sp500_sym['sector'] == 'etf']['symbol']"
   ]
  },
  {
   "cell_type": "code",
   "execution_count": 61,
   "id": "0d42420a",
   "metadata": {},
   "outputs": [
    {
     "data": {
      "text/html": [
       "<div>\n",
       "<style scoped>\n",
       "    .dataframe tbody tr th:only-of-type {\n",
       "        vertical-align: middle;\n",
       "    }\n",
       "\n",
       "    .dataframe tbody tr th {\n",
       "        vertical-align: top;\n",
       "    }\n",
       "\n",
       "    .dataframe thead th {\n",
       "        text-align: right;\n",
       "    }\n",
       "</style>\n",
       "<table border=\"1\" class=\"dataframe\">\n",
       "  <thead>\n",
       "    <tr style=\"text-align: right;\">\n",
       "      <th></th>\n",
       "      <th>XLI</th>\n",
       "      <th>QQQ</th>\n",
       "      <th>SPY</th>\n",
       "      <th>DIA</th>\n",
       "      <th>GLD</th>\n",
       "      <th>VXX</th>\n",
       "      <th>USO</th>\n",
       "      <th>IWM</th>\n",
       "      <th>XLE</th>\n",
       "      <th>XLY</th>\n",
       "      <th>XLU</th>\n",
       "      <th>XLB</th>\n",
       "      <th>XTL</th>\n",
       "      <th>XLV</th>\n",
       "      <th>XLP</th>\n",
       "      <th>XLF</th>\n",
       "      <th>XLK</th>\n",
       "    </tr>\n",
       "  </thead>\n",
       "  <tbody>\n",
       "    <tr>\n",
       "      <th>2012-07-02</th>\n",
       "      <td>-0.376098</td>\n",
       "      <td>0.096313</td>\n",
       "      <td>0.028223</td>\n",
       "      <td>-0.242796</td>\n",
       "      <td>0.419998</td>\n",
       "      <td>-10.400000</td>\n",
       "      <td>0.000000</td>\n",
       "      <td>0.534641</td>\n",
       "      <td>0.028186</td>\n",
       "      <td>0.095759</td>\n",
       "      <td>0.098311</td>\n",
       "      <td>-0.093713</td>\n",
       "      <td>0.019076</td>\n",
       "      <td>-0.009529</td>\n",
       "      <td>0.313499</td>\n",
       "      <td>0.018999</td>\n",
       "      <td>0.075668</td>\n",
       "    </tr>\n",
       "    <tr>\n",
       "      <th>2012-07-03</th>\n",
       "      <td>0.376099</td>\n",
       "      <td>0.481576</td>\n",
       "      <td>0.874936</td>\n",
       "      <td>0.728405</td>\n",
       "      <td>0.490006</td>\n",
       "      <td>-3.520000</td>\n",
       "      <td>0.250000</td>\n",
       "      <td>0.926067</td>\n",
       "      <td>0.995942</td>\n",
       "      <td>0.000000</td>\n",
       "      <td>-0.044686</td>\n",
       "      <td>0.337373</td>\n",
       "      <td>0.000000</td>\n",
       "      <td>0.000000</td>\n",
       "      <td>0.129087</td>\n",
       "      <td>0.104492</td>\n",
       "      <td>0.236462</td>\n",
       "    </tr>\n",
       "    <tr>\n",
       "      <th>2012-07-05</th>\n",
       "      <td>0.150440</td>\n",
       "      <td>0.096313</td>\n",
       "      <td>-0.103487</td>\n",
       "      <td>0.149420</td>\n",
       "      <td>0.239991</td>\n",
       "      <td>6.560000</td>\n",
       "      <td>-0.070000</td>\n",
       "      <td>-0.171848</td>\n",
       "      <td>-0.460387</td>\n",
       "      <td>0.306431</td>\n",
       "      <td>-0.151938</td>\n",
       "      <td>0.103086</td>\n",
       "      <td>0.019072</td>\n",
       "      <td>-0.142955</td>\n",
       "      <td>-0.073766</td>\n",
       "      <td>-0.142490</td>\n",
       "      <td>0.066211</td>\n",
       "    </tr>\n",
       "    <tr>\n",
       "      <th>2012-07-06</th>\n",
       "      <td>-0.141040</td>\n",
       "      <td>-0.491201</td>\n",
       "      <td>0.018819</td>\n",
       "      <td>-0.205449</td>\n",
       "      <td>-0.519989</td>\n",
       "      <td>-8.800000</td>\n",
       "      <td>-0.180000</td>\n",
       "      <td>-0.229128</td>\n",
       "      <td>0.206706</td>\n",
       "      <td>0.153214</td>\n",
       "      <td>0.080437</td>\n",
       "      <td>0.018744</td>\n",
       "      <td>-0.429213</td>\n",
       "      <td>-0.095304</td>\n",
       "      <td>0.119865</td>\n",
       "      <td>0.066495</td>\n",
       "      <td>-0.227003</td>\n",
       "    </tr>\n",
       "    <tr>\n",
       "      <th>2012-07-09</th>\n",
       "      <td>0.244465</td>\n",
       "      <td>-0.048160</td>\n",
       "      <td>-0.056445</td>\n",
       "      <td>-0.168094</td>\n",
       "      <td>0.429992</td>\n",
       "      <td>-0.480000</td>\n",
       "      <td>0.459999</td>\n",
       "      <td>-0.190939</td>\n",
       "      <td>-0.234892</td>\n",
       "      <td>-0.201098</td>\n",
       "      <td>-0.035751</td>\n",
       "      <td>-0.168687</td>\n",
       "      <td>0.000000</td>\n",
       "      <td>0.352630</td>\n",
       "      <td>-0.064548</td>\n",
       "      <td>0.018999</td>\n",
       "      <td>0.009457</td>\n",
       "    </tr>\n",
       "    <tr>\n",
       "      <th>...</th>\n",
       "      <td>...</td>\n",
       "      <td>...</td>\n",
       "      <td>...</td>\n",
       "      <td>...</td>\n",
       "      <td>...</td>\n",
       "      <td>...</td>\n",
       "      <td>...</td>\n",
       "      <td>...</td>\n",
       "      <td>...</td>\n",
       "      <td>...</td>\n",
       "      <td>...</td>\n",
       "      <td>...</td>\n",
       "      <td>...</td>\n",
       "      <td>...</td>\n",
       "      <td>...</td>\n",
       "      <td>...</td>\n",
       "      <td>...</td>\n",
       "    </tr>\n",
       "    <tr>\n",
       "      <th>2015-06-25</th>\n",
       "      <td>-0.379997</td>\n",
       "      <td>-0.669998</td>\n",
       "      <td>-1.270004</td>\n",
       "      <td>-1.398679</td>\n",
       "      <td>0.010002</td>\n",
       "      <td>0.279999</td>\n",
       "      <td>-0.069999</td>\n",
       "      <td>-0.497896</td>\n",
       "      <td>-0.750000</td>\n",
       "      <td>-0.200005</td>\n",
       "      <td>-0.309997</td>\n",
       "      <td>-0.059997</td>\n",
       "      <td>-0.229999</td>\n",
       "      <td>0.189994</td>\n",
       "      <td>-0.279999</td>\n",
       "      <td>-0.220002</td>\n",
       "      <td>-0.330002</td>\n",
       "    </tr>\n",
       "    <tr>\n",
       "      <th>2015-06-26</th>\n",
       "      <td>-0.040001</td>\n",
       "      <td>-0.700004</td>\n",
       "      <td>-0.389999</td>\n",
       "      <td>-0.079926</td>\n",
       "      <td>0.360001</td>\n",
       "      <td>-0.020001</td>\n",
       "      <td>0.189999</td>\n",
       "      <td>-0.587512</td>\n",
       "      <td>0.259995</td>\n",
       "      <td>-0.010002</td>\n",
       "      <td>0.340000</td>\n",
       "      <td>-0.290001</td>\n",
       "      <td>-0.280002</td>\n",
       "      <td>-0.220001</td>\n",
       "      <td>0.029998</td>\n",
       "      <td>-0.030001</td>\n",
       "      <td>-0.330002</td>\n",
       "    </tr>\n",
       "    <tr>\n",
       "      <th>2015-06-29</th>\n",
       "      <td>-0.590000</td>\n",
       "      <td>-1.320000</td>\n",
       "      <td>-2.580002</td>\n",
       "      <td>-1.918189</td>\n",
       "      <td>0.260002</td>\n",
       "      <td>1.829999</td>\n",
       "      <td>-0.080000</td>\n",
       "      <td>-2.280327</td>\n",
       "      <td>-0.500000</td>\n",
       "      <td>-1.089996</td>\n",
       "      <td>-0.160000</td>\n",
       "      <td>-0.769996</td>\n",
       "      <td>-0.700001</td>\n",
       "      <td>-1.180000</td>\n",
       "      <td>-0.500000</td>\n",
       "      <td>-0.330000</td>\n",
       "      <td>-0.450000</td>\n",
       "    </tr>\n",
       "    <tr>\n",
       "      <th>2015-06-30</th>\n",
       "      <td>-0.480000</td>\n",
       "      <td>-0.419998</td>\n",
       "      <td>-1.369996</td>\n",
       "      <td>-1.168887</td>\n",
       "      <td>0.130005</td>\n",
       "      <td>0.889999</td>\n",
       "      <td>0.139999</td>\n",
       "      <td>-0.338568</td>\n",
       "      <td>-0.169998</td>\n",
       "      <td>-0.430001</td>\n",
       "      <td>-0.310001</td>\n",
       "      <td>-0.270001</td>\n",
       "      <td>0.259999</td>\n",
       "      <td>-0.510002</td>\n",
       "      <td>-0.580002</td>\n",
       "      <td>-0.150002</td>\n",
       "      <td>-0.269996</td>\n",
       "    </tr>\n",
       "    <tr>\n",
       "      <th>2015-07-01</th>\n",
       "      <td>-0.269996</td>\n",
       "      <td>-0.279999</td>\n",
       "      <td>-0.159989</td>\n",
       "      <td>-0.169852</td>\n",
       "      <td>-0.140000</td>\n",
       "      <td>-0.309999</td>\n",
       "      <td>-0.440001</td>\n",
       "      <td>-0.537713</td>\n",
       "      <td>-1.110001</td>\n",
       "      <td>0.220001</td>\n",
       "      <td>0.200001</td>\n",
       "      <td>-0.219997</td>\n",
       "      <td>-1.029998</td>\n",
       "      <td>0.029998</td>\n",
       "      <td>0.290001</td>\n",
       "      <td>-0.010000</td>\n",
       "      <td>-0.090000</td>\n",
       "    </tr>\n",
       "  </tbody>\n",
       "</table>\n",
       "<p>754 rows × 17 columns</p>\n",
       "</div>"
      ],
      "text/plain": [
       "                 XLI       QQQ       SPY       DIA       GLD        VXX  \\\n",
       "2012-07-02 -0.376098  0.096313  0.028223 -0.242796  0.419998 -10.400000   \n",
       "2012-07-03  0.376099  0.481576  0.874936  0.728405  0.490006  -3.520000   \n",
       "2012-07-05  0.150440  0.096313 -0.103487  0.149420  0.239991   6.560000   \n",
       "2012-07-06 -0.141040 -0.491201  0.018819 -0.205449 -0.519989  -8.800000   \n",
       "2012-07-09  0.244465 -0.048160 -0.056445 -0.168094  0.429992  -0.480000   \n",
       "...              ...       ...       ...       ...       ...        ...   \n",
       "2015-06-25 -0.379997 -0.669998 -1.270004 -1.398679  0.010002   0.279999   \n",
       "2015-06-26 -0.040001 -0.700004 -0.389999 -0.079926  0.360001  -0.020001   \n",
       "2015-06-29 -0.590000 -1.320000 -2.580002 -1.918189  0.260002   1.829999   \n",
       "2015-06-30 -0.480000 -0.419998 -1.369996 -1.168887  0.130005   0.889999   \n",
       "2015-07-01 -0.269996 -0.279999 -0.159989 -0.169852 -0.140000  -0.309999   \n",
       "\n",
       "                 USO       IWM       XLE       XLY       XLU       XLB  \\\n",
       "2012-07-02  0.000000  0.534641  0.028186  0.095759  0.098311 -0.093713   \n",
       "2012-07-03  0.250000  0.926067  0.995942  0.000000 -0.044686  0.337373   \n",
       "2012-07-05 -0.070000 -0.171848 -0.460387  0.306431 -0.151938  0.103086   \n",
       "2012-07-06 -0.180000 -0.229128  0.206706  0.153214  0.080437  0.018744   \n",
       "2012-07-09  0.459999 -0.190939 -0.234892 -0.201098 -0.035751 -0.168687   \n",
       "...              ...       ...       ...       ...       ...       ...   \n",
       "2015-06-25 -0.069999 -0.497896 -0.750000 -0.200005 -0.309997 -0.059997   \n",
       "2015-06-26  0.189999 -0.587512  0.259995 -0.010002  0.340000 -0.290001   \n",
       "2015-06-29 -0.080000 -2.280327 -0.500000 -1.089996 -0.160000 -0.769996   \n",
       "2015-06-30  0.139999 -0.338568 -0.169998 -0.430001 -0.310001 -0.270001   \n",
       "2015-07-01 -0.440001 -0.537713 -1.110001  0.220001  0.200001 -0.219997   \n",
       "\n",
       "                 XTL       XLV       XLP       XLF       XLK  \n",
       "2012-07-02  0.019076 -0.009529  0.313499  0.018999  0.075668  \n",
       "2012-07-03  0.000000  0.000000  0.129087  0.104492  0.236462  \n",
       "2012-07-05  0.019072 -0.142955 -0.073766 -0.142490  0.066211  \n",
       "2012-07-06 -0.429213 -0.095304  0.119865  0.066495 -0.227003  \n",
       "2012-07-09  0.000000  0.352630 -0.064548  0.018999  0.009457  \n",
       "...              ...       ...       ...       ...       ...  \n",
       "2015-06-25 -0.229999  0.189994 -0.279999 -0.220002 -0.330002  \n",
       "2015-06-26 -0.280002 -0.220001  0.029998 -0.030001 -0.330002  \n",
       "2015-06-29 -0.700001 -1.180000 -0.500000 -0.330000 -0.450000  \n",
       "2015-06-30  0.259999 -0.510002 -0.580002 -0.150002 -0.269996  \n",
       "2015-07-01 -1.029998  0.029998  0.290001 -0.010000 -0.090000  \n",
       "\n",
       "[754 rows x 17 columns]"
      ]
     },
     "execution_count": 61,
     "metadata": {},
     "output_type": "execute_result"
    }
   ],
   "source": [
    "etfs = sp500_px.loc[sp500_px.index > '2012-07-01',\n",
    " sp500_sym[sp500_sym['sector'] == 'etf']['symbol']]\n",
    "etfs"
   ]
  },
  {
   "cell_type": "code",
   "execution_count": 62,
   "id": "3dd41533",
   "metadata": {},
   "outputs": [
    {
     "data": {
      "text/html": [
       "<div>\n",
       "<style scoped>\n",
       "    .dataframe tbody tr th:only-of-type {\n",
       "        vertical-align: middle;\n",
       "    }\n",
       "\n",
       "    .dataframe tbody tr th {\n",
       "        vertical-align: top;\n",
       "    }\n",
       "\n",
       "    .dataframe thead th {\n",
       "        text-align: right;\n",
       "    }\n",
       "</style>\n",
       "<table border=\"1\" class=\"dataframe\">\n",
       "  <thead>\n",
       "    <tr style=\"text-align: right;\">\n",
       "      <th></th>\n",
       "      <th>XLI</th>\n",
       "      <th>QQQ</th>\n",
       "      <th>SPY</th>\n",
       "      <th>DIA</th>\n",
       "      <th>GLD</th>\n",
       "      <th>VXX</th>\n",
       "      <th>USO</th>\n",
       "      <th>IWM</th>\n",
       "      <th>XLE</th>\n",
       "      <th>XLY</th>\n",
       "      <th>XLU</th>\n",
       "      <th>XLB</th>\n",
       "      <th>XTL</th>\n",
       "      <th>XLV</th>\n",
       "      <th>XLP</th>\n",
       "      <th>XLF</th>\n",
       "      <th>XLK</th>\n",
       "    </tr>\n",
       "  </thead>\n",
       "  <tbody>\n",
       "    <tr>\n",
       "      <th>XLI</th>\n",
       "      <td>1.000000</td>\n",
       "      <td>0.785865</td>\n",
       "      <td>0.888865</td>\n",
       "      <td>0.869680</td>\n",
       "      <td>0.056554</td>\n",
       "      <td>-0.468196</td>\n",
       "      <td>0.236881</td>\n",
       "      <td>0.782380</td>\n",
       "      <td>0.650054</td>\n",
       "      <td>0.798080</td>\n",
       "      <td>0.380809</td>\n",
       "      <td>0.784144</td>\n",
       "      <td>0.374000</td>\n",
       "      <td>0.663022</td>\n",
       "      <td>0.600424</td>\n",
       "      <td>0.787340</td>\n",
       "      <td>0.777773</td>\n",
       "    </tr>\n",
       "    <tr>\n",
       "      <th>QQQ</th>\n",
       "      <td>0.785865</td>\n",
       "      <td>1.000000</td>\n",
       "      <td>0.908995</td>\n",
       "      <td>0.834440</td>\n",
       "      <td>0.043553</td>\n",
       "      <td>-0.470555</td>\n",
       "      <td>0.199492</td>\n",
       "      <td>0.810158</td>\n",
       "      <td>0.560044</td>\n",
       "      <td>0.839701</td>\n",
       "      <td>0.346667</td>\n",
       "      <td>0.713463</td>\n",
       "      <td>0.421790</td>\n",
       "      <td>0.775392</td>\n",
       "      <td>0.614806</td>\n",
       "      <td>0.752771</td>\n",
       "      <td>0.945126</td>\n",
       "    </tr>\n",
       "    <tr>\n",
       "      <th>SPY</th>\n",
       "      <td>0.888865</td>\n",
       "      <td>0.908995</td>\n",
       "      <td>1.000000</td>\n",
       "      <td>0.953726</td>\n",
       "      <td>0.078722</td>\n",
       "      <td>-0.547074</td>\n",
       "      <td>0.272069</td>\n",
       "      <td>0.833937</td>\n",
       "      <td>0.713300</td>\n",
       "      <td>0.887028</td>\n",
       "      <td>0.481928</td>\n",
       "      <td>0.826053</td>\n",
       "      <td>0.406181</td>\n",
       "      <td>0.811269</td>\n",
       "      <td>0.744466</td>\n",
       "      <td>0.883616</td>\n",
       "      <td>0.886588</td>\n",
       "    </tr>\n",
       "    <tr>\n",
       "      <th>DIA</th>\n",
       "      <td>0.869680</td>\n",
       "      <td>0.834440</td>\n",
       "      <td>0.953726</td>\n",
       "      <td>1.000000</td>\n",
       "      <td>0.051523</td>\n",
       "      <td>-0.511327</td>\n",
       "      <td>0.256793</td>\n",
       "      <td>0.758012</td>\n",
       "      <td>0.658311</td>\n",
       "      <td>0.847043</td>\n",
       "      <td>0.463364</td>\n",
       "      <td>0.787415</td>\n",
       "      <td>0.383928</td>\n",
       "      <td>0.771044</td>\n",
       "      <td>0.753725</td>\n",
       "      <td>0.860556</td>\n",
       "      <td>0.842757</td>\n",
       "    </tr>\n",
       "    <tr>\n",
       "      <th>GLD</th>\n",
       "      <td>0.056554</td>\n",
       "      <td>0.043553</td>\n",
       "      <td>0.078722</td>\n",
       "      <td>0.051523</td>\n",
       "      <td>1.000000</td>\n",
       "      <td>-0.107488</td>\n",
       "      <td>0.216563</td>\n",
       "      <td>0.070110</td>\n",
       "      <td>0.188625</td>\n",
       "      <td>0.017467</td>\n",
       "      <td>0.121611</td>\n",
       "      <td>0.184366</td>\n",
       "      <td>-0.042233</td>\n",
       "      <td>-0.010200</td>\n",
       "      <td>0.033047</td>\n",
       "      <td>0.043039</td>\n",
       "      <td>0.053022</td>\n",
       "    </tr>\n",
       "    <tr>\n",
       "      <th>VXX</th>\n",
       "      <td>-0.468196</td>\n",
       "      <td>-0.470555</td>\n",
       "      <td>-0.547074</td>\n",
       "      <td>-0.511327</td>\n",
       "      <td>-0.107488</td>\n",
       "      <td>1.000000</td>\n",
       "      <td>-0.195397</td>\n",
       "      <td>-0.448942</td>\n",
       "      <td>-0.448474</td>\n",
       "      <td>-0.474756</td>\n",
       "      <td>-0.260395</td>\n",
       "      <td>-0.470890</td>\n",
       "      <td>-0.205661</td>\n",
       "      <td>-0.380925</td>\n",
       "      <td>-0.416913</td>\n",
       "      <td>-0.514365</td>\n",
       "      <td>-0.477258</td>\n",
       "    </tr>\n",
       "    <tr>\n",
       "      <th>USO</th>\n",
       "      <td>0.236881</td>\n",
       "      <td>0.199492</td>\n",
       "      <td>0.272069</td>\n",
       "      <td>0.256793</td>\n",
       "      <td>0.216563</td>\n",
       "      <td>-0.195397</td>\n",
       "      <td>1.000000</td>\n",
       "      <td>0.249799</td>\n",
       "      <td>0.525943</td>\n",
       "      <td>0.183275</td>\n",
       "      <td>0.113182</td>\n",
       "      <td>0.324166</td>\n",
       "      <td>0.078796</td>\n",
       "      <td>0.119500</td>\n",
       "      <td>0.116857</td>\n",
       "      <td>0.221760</td>\n",
       "      <td>0.225962</td>\n",
       "    </tr>\n",
       "    <tr>\n",
       "      <th>IWM</th>\n",
       "      <td>0.782380</td>\n",
       "      <td>0.810158</td>\n",
       "      <td>0.833937</td>\n",
       "      <td>0.758012</td>\n",
       "      <td>0.070110</td>\n",
       "      <td>-0.448942</td>\n",
       "      <td>0.249799</td>\n",
       "      <td>1.000000</td>\n",
       "      <td>0.586991</td>\n",
       "      <td>0.779750</td>\n",
       "      <td>0.325003</td>\n",
       "      <td>0.701533</td>\n",
       "      <td>0.387274</td>\n",
       "      <td>0.664288</td>\n",
       "      <td>0.537065</td>\n",
       "      <td>0.756282</td>\n",
       "      <td>0.760438</td>\n",
       "    </tr>\n",
       "    <tr>\n",
       "      <th>XLE</th>\n",
       "      <td>0.650054</td>\n",
       "      <td>0.560044</td>\n",
       "      <td>0.713300</td>\n",
       "      <td>0.658311</td>\n",
       "      <td>0.188625</td>\n",
       "      <td>-0.448474</td>\n",
       "      <td>0.525943</td>\n",
       "      <td>0.586991</td>\n",
       "      <td>1.000000</td>\n",
       "      <td>0.578956</td>\n",
       "      <td>0.337942</td>\n",
       "      <td>0.689778</td>\n",
       "      <td>0.260463</td>\n",
       "      <td>0.454457</td>\n",
       "      <td>0.413486</td>\n",
       "      <td>0.599129</td>\n",
       "      <td>0.559324</td>\n",
       "    </tr>\n",
       "    <tr>\n",
       "      <th>XLY</th>\n",
       "      <td>0.798080</td>\n",
       "      <td>0.839701</td>\n",
       "      <td>0.887028</td>\n",
       "      <td>0.847043</td>\n",
       "      <td>0.017467</td>\n",
       "      <td>-0.474756</td>\n",
       "      <td>0.183275</td>\n",
       "      <td>0.779750</td>\n",
       "      <td>0.578956</td>\n",
       "      <td>1.000000</td>\n",
       "      <td>0.366827</td>\n",
       "      <td>0.721232</td>\n",
       "      <td>0.370299</td>\n",
       "      <td>0.702860</td>\n",
       "      <td>0.663055</td>\n",
       "      <td>0.782053</td>\n",
       "      <td>0.772189</td>\n",
       "    </tr>\n",
       "    <tr>\n",
       "      <th>XLU</th>\n",
       "      <td>0.380809</td>\n",
       "      <td>0.346667</td>\n",
       "      <td>0.481928</td>\n",
       "      <td>0.463364</td>\n",
       "      <td>0.121611</td>\n",
       "      <td>-0.260395</td>\n",
       "      <td>0.113182</td>\n",
       "      <td>0.325003</td>\n",
       "      <td>0.337942</td>\n",
       "      <td>0.366827</td>\n",
       "      <td>1.000000</td>\n",
       "      <td>0.363410</td>\n",
       "      <td>0.136935</td>\n",
       "      <td>0.398578</td>\n",
       "      <td>0.528730</td>\n",
       "      <td>0.409343</td>\n",
       "      <td>0.355003</td>\n",
       "    </tr>\n",
       "    <tr>\n",
       "      <th>XLB</th>\n",
       "      <td>0.784144</td>\n",
       "      <td>0.713463</td>\n",
       "      <td>0.826053</td>\n",
       "      <td>0.787415</td>\n",
       "      <td>0.184366</td>\n",
       "      <td>-0.470890</td>\n",
       "      <td>0.324166</td>\n",
       "      <td>0.701533</td>\n",
       "      <td>0.689778</td>\n",
       "      <td>0.721232</td>\n",
       "      <td>0.363410</td>\n",
       "      <td>1.000000</td>\n",
       "      <td>0.346413</td>\n",
       "      <td>0.595411</td>\n",
       "      <td>0.533089</td>\n",
       "      <td>0.734593</td>\n",
       "      <td>0.709180</td>\n",
       "    </tr>\n",
       "    <tr>\n",
       "      <th>XTL</th>\n",
       "      <td>0.374000</td>\n",
       "      <td>0.421790</td>\n",
       "      <td>0.406181</td>\n",
       "      <td>0.383928</td>\n",
       "      <td>-0.042233</td>\n",
       "      <td>-0.205661</td>\n",
       "      <td>0.078796</td>\n",
       "      <td>0.387274</td>\n",
       "      <td>0.260463</td>\n",
       "      <td>0.370299</td>\n",
       "      <td>0.136935</td>\n",
       "      <td>0.346413</td>\n",
       "      <td>1.000000</td>\n",
       "      <td>0.324929</td>\n",
       "      <td>0.252531</td>\n",
       "      <td>0.345952</td>\n",
       "      <td>0.415560</td>\n",
       "    </tr>\n",
       "    <tr>\n",
       "      <th>XLV</th>\n",
       "      <td>0.663022</td>\n",
       "      <td>0.775392</td>\n",
       "      <td>0.811269</td>\n",
       "      <td>0.771044</td>\n",
       "      <td>-0.010200</td>\n",
       "      <td>-0.380925</td>\n",
       "      <td>0.119500</td>\n",
       "      <td>0.664288</td>\n",
       "      <td>0.454457</td>\n",
       "      <td>0.702860</td>\n",
       "      <td>0.398578</td>\n",
       "      <td>0.595411</td>\n",
       "      <td>0.324929</td>\n",
       "      <td>1.000000</td>\n",
       "      <td>0.648345</td>\n",
       "      <td>0.674114</td>\n",
       "      <td>0.676312</td>\n",
       "    </tr>\n",
       "    <tr>\n",
       "      <th>XLP</th>\n",
       "      <td>0.600424</td>\n",
       "      <td>0.614806</td>\n",
       "      <td>0.744466</td>\n",
       "      <td>0.753725</td>\n",
       "      <td>0.033047</td>\n",
       "      <td>-0.416913</td>\n",
       "      <td>0.116857</td>\n",
       "      <td>0.537065</td>\n",
       "      <td>0.413486</td>\n",
       "      <td>0.663055</td>\n",
       "      <td>0.528730</td>\n",
       "      <td>0.533089</td>\n",
       "      <td>0.252531</td>\n",
       "      <td>0.648345</td>\n",
       "      <td>1.000000</td>\n",
       "      <td>0.635411</td>\n",
       "      <td>0.609973</td>\n",
       "    </tr>\n",
       "    <tr>\n",
       "      <th>XLF</th>\n",
       "      <td>0.787340</td>\n",
       "      <td>0.752771</td>\n",
       "      <td>0.883616</td>\n",
       "      <td>0.860556</td>\n",
       "      <td>0.043039</td>\n",
       "      <td>-0.514365</td>\n",
       "      <td>0.221760</td>\n",
       "      <td>0.756282</td>\n",
       "      <td>0.599129</td>\n",
       "      <td>0.782053</td>\n",
       "      <td>0.409343</td>\n",
       "      <td>0.734593</td>\n",
       "      <td>0.345952</td>\n",
       "      <td>0.674114</td>\n",
       "      <td>0.635411</td>\n",
       "      <td>1.000000</td>\n",
       "      <td>0.745538</td>\n",
       "    </tr>\n",
       "    <tr>\n",
       "      <th>XLK</th>\n",
       "      <td>0.777773</td>\n",
       "      <td>0.945126</td>\n",
       "      <td>0.886588</td>\n",
       "      <td>0.842757</td>\n",
       "      <td>0.053022</td>\n",
       "      <td>-0.477258</td>\n",
       "      <td>0.225962</td>\n",
       "      <td>0.760438</td>\n",
       "      <td>0.559324</td>\n",
       "      <td>0.772189</td>\n",
       "      <td>0.355003</td>\n",
       "      <td>0.709180</td>\n",
       "      <td>0.415560</td>\n",
       "      <td>0.676312</td>\n",
       "      <td>0.609973</td>\n",
       "      <td>0.745538</td>\n",
       "      <td>1.000000</td>\n",
       "    </tr>\n",
       "  </tbody>\n",
       "</table>\n",
       "</div>"
      ],
      "text/plain": [
       "          XLI       QQQ       SPY       DIA       GLD       VXX       USO  \\\n",
       "XLI  1.000000  0.785865  0.888865  0.869680  0.056554 -0.468196  0.236881   \n",
       "QQQ  0.785865  1.000000  0.908995  0.834440  0.043553 -0.470555  0.199492   \n",
       "SPY  0.888865  0.908995  1.000000  0.953726  0.078722 -0.547074  0.272069   \n",
       "DIA  0.869680  0.834440  0.953726  1.000000  0.051523 -0.511327  0.256793   \n",
       "GLD  0.056554  0.043553  0.078722  0.051523  1.000000 -0.107488  0.216563   \n",
       "VXX -0.468196 -0.470555 -0.547074 -0.511327 -0.107488  1.000000 -0.195397   \n",
       "USO  0.236881  0.199492  0.272069  0.256793  0.216563 -0.195397  1.000000   \n",
       "IWM  0.782380  0.810158  0.833937  0.758012  0.070110 -0.448942  0.249799   \n",
       "XLE  0.650054  0.560044  0.713300  0.658311  0.188625 -0.448474  0.525943   \n",
       "XLY  0.798080  0.839701  0.887028  0.847043  0.017467 -0.474756  0.183275   \n",
       "XLU  0.380809  0.346667  0.481928  0.463364  0.121611 -0.260395  0.113182   \n",
       "XLB  0.784144  0.713463  0.826053  0.787415  0.184366 -0.470890  0.324166   \n",
       "XTL  0.374000  0.421790  0.406181  0.383928 -0.042233 -0.205661  0.078796   \n",
       "XLV  0.663022  0.775392  0.811269  0.771044 -0.010200 -0.380925  0.119500   \n",
       "XLP  0.600424  0.614806  0.744466  0.753725  0.033047 -0.416913  0.116857   \n",
       "XLF  0.787340  0.752771  0.883616  0.860556  0.043039 -0.514365  0.221760   \n",
       "XLK  0.777773  0.945126  0.886588  0.842757  0.053022 -0.477258  0.225962   \n",
       "\n",
       "          IWM       XLE       XLY       XLU       XLB       XTL       XLV  \\\n",
       "XLI  0.782380  0.650054  0.798080  0.380809  0.784144  0.374000  0.663022   \n",
       "QQQ  0.810158  0.560044  0.839701  0.346667  0.713463  0.421790  0.775392   \n",
       "SPY  0.833937  0.713300  0.887028  0.481928  0.826053  0.406181  0.811269   \n",
       "DIA  0.758012  0.658311  0.847043  0.463364  0.787415  0.383928  0.771044   \n",
       "GLD  0.070110  0.188625  0.017467  0.121611  0.184366 -0.042233 -0.010200   \n",
       "VXX -0.448942 -0.448474 -0.474756 -0.260395 -0.470890 -0.205661 -0.380925   \n",
       "USO  0.249799  0.525943  0.183275  0.113182  0.324166  0.078796  0.119500   \n",
       "IWM  1.000000  0.586991  0.779750  0.325003  0.701533  0.387274  0.664288   \n",
       "XLE  0.586991  1.000000  0.578956  0.337942  0.689778  0.260463  0.454457   \n",
       "XLY  0.779750  0.578956  1.000000  0.366827  0.721232  0.370299  0.702860   \n",
       "XLU  0.325003  0.337942  0.366827  1.000000  0.363410  0.136935  0.398578   \n",
       "XLB  0.701533  0.689778  0.721232  0.363410  1.000000  0.346413  0.595411   \n",
       "XTL  0.387274  0.260463  0.370299  0.136935  0.346413  1.000000  0.324929   \n",
       "XLV  0.664288  0.454457  0.702860  0.398578  0.595411  0.324929  1.000000   \n",
       "XLP  0.537065  0.413486  0.663055  0.528730  0.533089  0.252531  0.648345   \n",
       "XLF  0.756282  0.599129  0.782053  0.409343  0.734593  0.345952  0.674114   \n",
       "XLK  0.760438  0.559324  0.772189  0.355003  0.709180  0.415560  0.676312   \n",
       "\n",
       "          XLP       XLF       XLK  \n",
       "XLI  0.600424  0.787340  0.777773  \n",
       "QQQ  0.614806  0.752771  0.945126  \n",
       "SPY  0.744466  0.883616  0.886588  \n",
       "DIA  0.753725  0.860556  0.842757  \n",
       "GLD  0.033047  0.043039  0.053022  \n",
       "VXX -0.416913 -0.514365 -0.477258  \n",
       "USO  0.116857  0.221760  0.225962  \n",
       "IWM  0.537065  0.756282  0.760438  \n",
       "XLE  0.413486  0.599129  0.559324  \n",
       "XLY  0.663055  0.782053  0.772189  \n",
       "XLU  0.528730  0.409343  0.355003  \n",
       "XLB  0.533089  0.734593  0.709180  \n",
       "XTL  0.252531  0.345952  0.415560  \n",
       "XLV  0.648345  0.674114  0.676312  \n",
       "XLP  1.000000  0.635411  0.609973  \n",
       "XLF  0.635411  1.000000  0.745538  \n",
       "XLK  0.609973  0.745538  1.000000  "
      ]
     },
     "execution_count": 62,
     "metadata": {},
     "output_type": "execute_result"
    }
   ],
   "source": [
    "etfs.corr()"
   ]
  },
  {
   "cell_type": "code",
   "execution_count": 63,
   "id": "f5a12ec7",
   "metadata": {},
   "outputs": [
    {
     "data": {
      "text/plain": [
       "<Axes: >"
      ]
     },
     "execution_count": 63,
     "metadata": {},
     "output_type": "execute_result"
    },
    {
     "data": {
      "image/png": "[encoded data removed]",
      "text/plain": [
       "<Figure size 640x480 with 2 Axes>"
      ]
     },
     "metadata": {},
     "output_type": "display_data"
    }
   ],
   "source": [
    "sns.heatmap(etfs.corr(), cmap=sns.diverging_palette(20, 220, as_cmap=True), vmin=-1, vmax=1)"
   ]
  },
  {
   "cell_type": "code",
   "execution_count": 64,
   "id": "663a858a",
   "metadata": {},
   "outputs": [
    {
     "data": {
      "text/plain": [
       "<Axes: >"
      ]
     },
     "execution_count": 64,
     "metadata": {},
     "output_type": "execute_result"
    },
    {
     "data": {
      "image/png": "[encoded data removed]",
      "text/plain": [
       "<Figure size 640x480 with 2 Axes>"
      ]
     },
     "metadata": {},
     "output_type": "display_data"
    }
   ],
   "source": [
    "sns.heatmap(etfs.corr(), cmap='plasma', vmin=-1, vmax=1)"
   ]
  },
  {
   "cell_type": "code",
   "execution_count": 65,
   "id": "30d21da3",
   "metadata": {},
   "outputs": [
    {
     "name": "stdout",
     "output_type": "stream",
     "text": [
      "dict_keys(['Blues', 'BrBG', 'BuGn', 'BuPu', 'CMRmap', 'GnBu', 'Greens', 'Greys', 'OrRd', 'Oranges', 'PRGn', 'PiYG', 'PuBu', 'PuBuGn', 'PuOr', 'PuRd', 'Purples', 'RdBu', 'RdGy', 'RdPu', 'RdYlBu', 'RdYlGn', 'Reds', 'Spectral', 'Wistia', 'YlGn', 'YlGnBu', 'YlOrBr', 'YlOrRd', 'afmhot', 'autumn', 'binary', 'bone', 'brg', 'bwr', 'cool', 'coolwarm', 'copper', 'cubehelix', 'flag', 'gist_earth', 'gist_gray', 'gist_heat', 'gist_ncar', 'gist_rainbow', 'gist_stern', 'gist_yarg', 'gnuplot', 'gnuplot2', 'gray', 'hot', 'hsv', 'jet', 'nipy_spectral', 'ocean', 'pink', 'prism', 'rainbow', 'seismic', 'spring', 'summer', 'terrain', 'winter', 'Accent', 'Dark2', 'Paired', 'Pastel1', 'Pastel2', 'Set1', 'Set2', 'Set3', 'tab10', 'tab20', 'tab20b', 'tab20c'])\n"
     ]
    }
   ],
   "source": [
    "print(cm.datad.keys())"
   ]
  },
  {
   "cell_type": "markdown",
   "id": "f9cc6dbe",
   "metadata": {},
   "source": [
    "## Scatterplot"
   ]
  },
  {
   "cell_type": "code",
   "execution_count": 67,
   "id": "af28516b",
   "metadata": {},
   "outputs": [
    {
     "data": {
      "text/plain": [
       "Index(['sector', 'sector_label', 'sub_sector', 'symbol'], dtype='object')"
      ]
     },
     "execution_count": 67,
     "metadata": {},
     "output_type": "execute_result"
    }
   ],
   "source": [
    "sp500_sym.columns"
   ]
  },
  {
   "cell_type": "code",
   "execution_count": 68,
   "id": "856a3031",
   "metadata": {},
   "outputs": [
    {
     "data": {
      "text/plain": [
       "0       ADS\n",
       "1        CA\n",
       "2      MSFT\n",
       "3       RHT\n",
       "4      CTSH\n",
       "       ... \n",
       "512    CELG\n",
       "513    GILD\n",
       "514    REGN\n",
       "515    VRTX\n",
       "516    HSIC\n",
       "Name: symbol, Length: 517, dtype: object"
      ]
     },
     "execution_count": 68,
     "metadata": {},
     "output_type": "execute_result"
    }
   ],
   "source": [
    "sp500_sym['symbol']"
   ]
  },
  {
   "cell_type": "code",
   "execution_count": 71,
   "id": "98e5018c",
   "metadata": {
    "scrolled": true
   },
   "outputs": [
    {
     "data": {
      "text/html": [
       "<div>\n",
       "<style scoped>\n",
       "    .dataframe tbody tr th:only-of-type {\n",
       "        vertical-align: middle;\n",
       "    }\n",
       "\n",
       "    .dataframe tbody tr th {\n",
       "        vertical-align: top;\n",
       "    }\n",
       "\n",
       "    .dataframe thead th {\n",
       "        text-align: right;\n",
       "    }\n",
       "</style>\n",
       "<table border=\"1\" class=\"dataframe\">\n",
       "  <thead>\n",
       "    <tr style=\"text-align: right;\">\n",
       "      <th></th>\n",
       "      <th>ADS</th>\n",
       "      <th>CA</th>\n",
       "      <th>MSFT</th>\n",
       "      <th>RHT</th>\n",
       "      <th>CTSH</th>\n",
       "      <th>CSC</th>\n",
       "      <th>EMC</th>\n",
       "      <th>IBM</th>\n",
       "      <th>XRX</th>\n",
       "      <th>ALTR</th>\n",
       "      <th>...</th>\n",
       "      <th>WAT</th>\n",
       "      <th>ALXN</th>\n",
       "      <th>AMGN</th>\n",
       "      <th>BXLT</th>\n",
       "      <th>BIIB</th>\n",
       "      <th>CELG</th>\n",
       "      <th>GILD</th>\n",
       "      <th>REGN</th>\n",
       "      <th>VRTX</th>\n",
       "      <th>HSIC</th>\n",
       "    </tr>\n",
       "  </thead>\n",
       "  <tbody>\n",
       "    <tr>\n",
       "      <th>2012-07-02</th>\n",
       "      <td>1.190002</td>\n",
       "      <td>-0.224999</td>\n",
       "      <td>-0.055103</td>\n",
       "      <td>-0.560002</td>\n",
       "      <td>-0.455000</td>\n",
       "      <td>-0.104774</td>\n",
       "      <td>-0.279545</td>\n",
       "      <td>-0.495967</td>\n",
       "      <td>-0.018692</td>\n",
       "      <td>-0.152205</td>\n",
       "      <td>...</td>\n",
       "      <td>-0.970001</td>\n",
       "      <td>3.830002</td>\n",
       "      <td>1.257135</td>\n",
       "      <td>0.0</td>\n",
       "      <td>2.110001</td>\n",
       "      <td>0.105000</td>\n",
       "      <td>0.219207</td>\n",
       "      <td>5.610000</td>\n",
       "      <td>-0.539997</td>\n",
       "      <td>-0.189994</td>\n",
       "    </tr>\n",
       "    <tr>\n",
       "      <th>2012-07-03</th>\n",
       "      <td>0.440002</td>\n",
       "      <td>0.125998</td>\n",
       "      <td>0.486724</td>\n",
       "      <td>0.849998</td>\n",
       "      <td>0.165001</td>\n",
       "      <td>0.219071</td>\n",
       "      <td>0.308464</td>\n",
       "      <td>0.439807</td>\n",
       "      <td>0.093461</td>\n",
       "      <td>0.409055</td>\n",
       "      <td>...</td>\n",
       "      <td>1.090004</td>\n",
       "      <td>-0.510002</td>\n",
       "      <td>1.058641</td>\n",
       "      <td>0.0</td>\n",
       "      <td>0.100006</td>\n",
       "      <td>0.440002</td>\n",
       "      <td>0.274009</td>\n",
       "      <td>1.300003</td>\n",
       "      <td>-0.170002</td>\n",
       "      <td>0.519997</td>\n",
       "    </tr>\n",
       "    <tr>\n",
       "      <th>2012-07-05</th>\n",
       "      <td>-0.369995</td>\n",
       "      <td>-0.116998</td>\n",
       "      <td>0.101019</td>\n",
       "      <td>0.459999</td>\n",
       "      <td>0.395001</td>\n",
       "      <td>-0.038100</td>\n",
       "      <td>-0.269906</td>\n",
       "      <td>0.383662</td>\n",
       "      <td>0.186922</td>\n",
       "      <td>-0.475645</td>\n",
       "      <td>...</td>\n",
       "      <td>0.690003</td>\n",
       "      <td>-0.489998</td>\n",
       "      <td>0.255211</td>\n",
       "      <td>0.0</td>\n",
       "      <td>-0.600006</td>\n",
       "      <td>-0.175003</td>\n",
       "      <td>-0.283971</td>\n",
       "      <td>-0.630005</td>\n",
       "      <td>0.000000</td>\n",
       "      <td>0.369995</td>\n",
       "    </tr>\n",
       "    <tr>\n",
       "      <th>2012-07-06</th>\n",
       "      <td>0.319992</td>\n",
       "      <td>-0.476996</td>\n",
       "      <td>-0.385706</td>\n",
       "      <td>-2.159999</td>\n",
       "      <td>-0.920000</td>\n",
       "      <td>-0.523868</td>\n",
       "      <td>-0.279546</td>\n",
       "      <td>-2.348823</td>\n",
       "      <td>0.074769</td>\n",
       "      <td>-0.742004</td>\n",
       "      <td>...</td>\n",
       "      <td>-1.330001</td>\n",
       "      <td>-1.980003</td>\n",
       "      <td>-0.396989</td>\n",
       "      <td>0.0</td>\n",
       "      <td>-1.569992</td>\n",
       "      <td>-0.170002</td>\n",
       "      <td>-0.254081</td>\n",
       "      <td>-0.659996</td>\n",
       "      <td>-0.869999</td>\n",
       "      <td>-0.970002</td>\n",
       "    </tr>\n",
       "    <tr>\n",
       "      <th>2012-07-09</th>\n",
       "      <td>-0.070007</td>\n",
       "      <td>-0.152999</td>\n",
       "      <td>-0.110203</td>\n",
       "      <td>-1.880001</td>\n",
       "      <td>-0.139999</td>\n",
       "      <td>-0.114299</td>\n",
       "      <td>-0.279544</td>\n",
       "      <td>-1.020006</td>\n",
       "      <td>-0.084115</td>\n",
       "      <td>-0.494672</td>\n",
       "      <td>...</td>\n",
       "      <td>-1.029999</td>\n",
       "      <td>-0.599999</td>\n",
       "      <td>0.680554</td>\n",
       "      <td>0.0</td>\n",
       "      <td>0.220002</td>\n",
       "      <td>0.069999</td>\n",
       "      <td>0.194296</td>\n",
       "      <td>-2.349998</td>\n",
       "      <td>-1.310002</td>\n",
       "      <td>-0.350006</td>\n",
       "    </tr>\n",
       "  </tbody>\n",
       "</table>\n",
       "<p>5 rows × 517 columns</p>\n",
       "</div>"
      ],
      "text/plain": [
       "                 ADS        CA      MSFT       RHT      CTSH       CSC  \\\n",
       "2012-07-02  1.190002 -0.224999 -0.055103 -0.560002 -0.455000 -0.104774   \n",
       "2012-07-03  0.440002  0.125998  0.486724  0.849998  0.165001  0.219071   \n",
       "2012-07-05 -0.369995 -0.116998  0.101019  0.459999  0.395001 -0.038100   \n",
       "2012-07-06  0.319992 -0.476996 -0.385706 -2.159999 -0.920000 -0.523868   \n",
       "2012-07-09 -0.070007 -0.152999 -0.110203 -1.880001 -0.139999 -0.114299   \n",
       "\n",
       "                 EMC       IBM       XRX      ALTR  ...       WAT      ALXN  \\\n",
       "2012-07-02 -0.279545 -0.495967 -0.018692 -0.152205  ... -0.970001  3.830002   \n",
       "2012-07-03  0.308464  0.439807  0.093461  0.409055  ...  1.090004 -0.510002   \n",
       "2012-07-05 -0.269906  0.383662  0.186922 -0.475645  ...  0.690003 -0.489998   \n",
       "2012-07-06 -0.279546 -2.348823  0.074769 -0.742004  ... -1.330001 -1.980003   \n",
       "2012-07-09 -0.279544 -1.020006 -0.084115 -0.494672  ... -1.029999 -0.599999   \n",
       "\n",
       "                AMGN  BXLT      BIIB      CELG      GILD      REGN      VRTX  \\\n",
       "2012-07-02  1.257135   0.0  2.110001  0.105000  0.219207  5.610000 -0.539997   \n",
       "2012-07-03  1.058641   0.0  0.100006  0.440002  0.274009  1.300003 -0.170002   \n",
       "2012-07-05  0.255211   0.0 -0.600006 -0.175003 -0.283971 -0.630005  0.000000   \n",
       "2012-07-06 -0.396989   0.0 -1.569992 -0.170002 -0.254081 -0.659996 -0.869999   \n",
       "2012-07-09  0.680554   0.0  0.220002  0.069999  0.194296 -2.349998 -1.310002   \n",
       "\n",
       "                HSIC  \n",
       "2012-07-02 -0.189994  \n",
       "2012-07-03  0.519997  \n",
       "2012-07-05  0.369995  \n",
       "2012-07-06 -0.970002  \n",
       "2012-07-09 -0.350006  \n",
       "\n",
       "[5 rows x 517 columns]"
      ]
     },
     "execution_count": 71,
     "metadata": {},
     "output_type": "execute_result"
    }
   ],
   "source": [
    "telecom = sp500_px.loc[sp500_px.index >= '2012-07-01', sp500_sym['symbol']]\n",
    "telecom.head()"
   ]
  },
  {
   "cell_type": "code",
   "execution_count": 84,
   "id": "90eb569b",
   "metadata": {},
   "outputs": [
    {
     "data": {
      "text/plain": [
       "<matplotlib.lines.Line2D at 0x1f146c83290>"
      ]
     },
     "execution_count": 84,
     "metadata": {},
     "output_type": "execute_result"
    },
    {
     "data": {
      "image/png": "[encoded data removed]",
      "text/plain": [
       "<Figure size 600x600 with 1 Axes>"
      ]
     },
     "metadata": {},
     "output_type": "display_data"
    }
   ],
   "source": [
    "ax = telecom.plot.scatter(x='T', y='VZ', figsize=(6,6), marker=\"$\\u25EF$\")\n",
    "ax.set_xlabel('T')\n",
    "ax.set_ylabel('VZ')\n",
    "ax.axhline(y=0, color='red', lw=2)\n",
    "ax.axvline(x=0, color='yellow', lw=2)"
   ]
  },
  {
   "cell_type": "code",
   "execution_count": null,
   "id": "e84e7005",
   "metadata": {},
   "outputs": [],
   "source": []
  }
 ],
 "metadata": {
  "kernelspec": {
   "display_name": "Python 3 (ipykernel)",
   "language": "python",
   "name": "python3"
  },
  "language_info": {
   "codemirror_mode": {
    "name": "ipython",
    "version": 3
   },
   "file_extension": ".py",
   "mimetype": "text/x-python",
   "name": "python",
   "nbconvert_exporter": "python",
   "pygments_lexer": "ipython3",
   "version": "3.11.5"
  },
  "toc": {
   "base_numbering": 1,
   "nav_menu": {},
   "number_sections": true,
   "sideBar": true,
   "skip_h1_title": false,
   "title_cell": "Table of Contents",
   "title_sidebar": "Contents",
   "toc_cell": false,
   "toc_position": {
    "height": "calc(100% - 180px)",
    "left": "10px",
    "top": "150px",
    "width": "237px"
   },
   "toc_section_display": true,
   "toc_window_display": true
  },
  "varInspector": {
   "cols": {
    "lenName": 16,
    "lenType": 16,
    "lenVar": 40
   },
   "kernels_config": {
    "python": {
     "delete_cmd_postfix": "",
     "delete_cmd_prefix": "del ",
     "library": "var_list.py",
     "varRefreshCmd": "print(var_dic_list())"
    },
    "r": {
     "delete_cmd_postfix": ") ",
     "delete_cmd_prefix": "rm(",
     "library": "var_list.r",
     "varRefreshCmd": "cat(var_dic_list()) "
    }
   },
   "types_to_exclude": [
    "module",
    "function",
    "builtin_function_or_method",
    "instance",
    "_Feature"
   ],
   "window_display": false
  }
 },
 "nbformat": 4,
 "nbformat_minor": 5
}
